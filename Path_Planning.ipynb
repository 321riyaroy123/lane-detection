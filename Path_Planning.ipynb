{
  "cells": [
    {
      "cell_type": "markdown",
      "metadata": {
        "id": "view-in-github",
        "colab_type": "text"
      },
      "source": [
        "<a href=\"https://colab.research.google.com/github/321riyaroy123/lane-detection/blob/main/Path_Planning.ipynb\" target=\"_parent\"><img src=\"https://colab.research.google.com/assets/colab-badge.svg\" alt=\"Open In Colab\"/></a>"
      ]
    },
    {
      "cell_type": "code",
      "execution_count": null,
      "metadata": {
        "colab": {
          "base_uri": "https://localhost:8080/"
        },
        "id": "PMptGrUbKPXF",
        "outputId": "a9c23aa5-73a5-49f4-850f-8620d82fe973",
        "collapsed": true
      },
      "outputs": [
        {
          "output_type": "stream",
          "name": "stdout",
          "text": [
            "Collecting ultralytics\n",
            "  Downloading ultralytics-8.3.155-py3-none-any.whl.metadata (37 kB)\n",
            "Requirement already satisfied: numpy>=1.23.0 in /usr/local/lib/python3.11/dist-packages (from ultralytics) (2.0.2)\n",
            "Requirement already satisfied: matplotlib>=3.3.0 in /usr/local/lib/python3.11/dist-packages (from ultralytics) (3.10.0)\n",
            "Requirement already satisfied: opencv-python>=4.6.0 in /usr/local/lib/python3.11/dist-packages (from ultralytics) (4.11.0.86)\n",
            "Requirement already satisfied: pillow>=7.1.2 in /usr/local/lib/python3.11/dist-packages (from ultralytics) (11.2.1)\n",
            "Requirement already satisfied: pyyaml>=5.3.1 in /usr/local/lib/python3.11/dist-packages (from ultralytics) (6.0.2)\n",
            "Requirement already satisfied: requests>=2.23.0 in /usr/local/lib/python3.11/dist-packages (from ultralytics) (2.32.3)\n",
            "Requirement already satisfied: scipy>=1.4.1 in /usr/local/lib/python3.11/dist-packages (from ultralytics) (1.15.3)\n",
            "Requirement already satisfied: torch>=1.8.0 in /usr/local/lib/python3.11/dist-packages (from ultralytics) (2.6.0+cu124)\n",
            "Requirement already satisfied: torchvision>=0.9.0 in /usr/local/lib/python3.11/dist-packages (from ultralytics) (0.21.0+cu124)\n",
            "Requirement already satisfied: tqdm>=4.64.0 in /usr/local/lib/python3.11/dist-packages (from ultralytics) (4.67.1)\n",
            "Requirement already satisfied: psutil in /usr/local/lib/python3.11/dist-packages (from ultralytics) (5.9.5)\n",
            "Requirement already satisfied: py-cpuinfo in /usr/local/lib/python3.11/dist-packages (from ultralytics) (9.0.0)\n",
            "Requirement already satisfied: pandas>=1.1.4 in /usr/local/lib/python3.11/dist-packages (from ultralytics) (2.2.2)\n",
            "Collecting ultralytics-thop>=2.0.0 (from ultralytics)\n",
            "  Downloading ultralytics_thop-2.0.14-py3-none-any.whl.metadata (9.4 kB)\n",
            "Requirement already satisfied: contourpy>=1.0.1 in /usr/local/lib/python3.11/dist-packages (from matplotlib>=3.3.0->ultralytics) (1.3.2)\n",
            "Requirement already satisfied: cycler>=0.10 in /usr/local/lib/python3.11/dist-packages (from matplotlib>=3.3.0->ultralytics) (0.12.1)\n",
            "Requirement already satisfied: fonttools>=4.22.0 in /usr/local/lib/python3.11/dist-packages (from matplotlib>=3.3.0->ultralytics) (4.58.1)\n",
            "Requirement already satisfied: kiwisolver>=1.3.1 in /usr/local/lib/python3.11/dist-packages (from matplotlib>=3.3.0->ultralytics) (1.4.8)\n",
            "Requirement already satisfied: packaging>=20.0 in /usr/local/lib/python3.11/dist-packages (from matplotlib>=3.3.0->ultralytics) (24.2)\n",
            "Requirement already satisfied: pyparsing>=2.3.1 in /usr/local/lib/python3.11/dist-packages (from matplotlib>=3.3.0->ultralytics) (3.2.3)\n",
            "Requirement already satisfied: python-dateutil>=2.7 in /usr/local/lib/python3.11/dist-packages (from matplotlib>=3.3.0->ultralytics) (2.9.0.post0)\n",
            "Requirement already satisfied: pytz>=2020.1 in /usr/local/lib/python3.11/dist-packages (from pandas>=1.1.4->ultralytics) (2025.2)\n",
            "Requirement already satisfied: tzdata>=2022.7 in /usr/local/lib/python3.11/dist-packages (from pandas>=1.1.4->ultralytics) (2025.2)\n",
            "Requirement already satisfied: charset-normalizer<4,>=2 in /usr/local/lib/python3.11/dist-packages (from requests>=2.23.0->ultralytics) (3.4.2)\n",
            "Requirement already satisfied: idna<4,>=2.5 in /usr/local/lib/python3.11/dist-packages (from requests>=2.23.0->ultralytics) (3.10)\n",
            "Requirement already satisfied: urllib3<3,>=1.21.1 in /usr/local/lib/python3.11/dist-packages (from requests>=2.23.0->ultralytics) (2.4.0)\n",
            "Requirement already satisfied: certifi>=2017.4.17 in /usr/local/lib/python3.11/dist-packages (from requests>=2.23.0->ultralytics) (2025.4.26)\n",
            "Requirement already satisfied: filelock in /usr/local/lib/python3.11/dist-packages (from torch>=1.8.0->ultralytics) (3.18.0)\n",
            "Requirement already satisfied: typing-extensions>=4.10.0 in /usr/local/lib/python3.11/dist-packages (from torch>=1.8.0->ultralytics) (4.14.0)\n",
            "Requirement already satisfied: networkx in /usr/local/lib/python3.11/dist-packages (from torch>=1.8.0->ultralytics) (3.5)\n",
            "Requirement already satisfied: jinja2 in /usr/local/lib/python3.11/dist-packages (from torch>=1.8.0->ultralytics) (3.1.6)\n",
            "Requirement already satisfied: fsspec in /usr/local/lib/python3.11/dist-packages (from torch>=1.8.0->ultralytics) (2025.3.2)\n",
            "Collecting nvidia-cuda-nvrtc-cu12==12.4.127 (from torch>=1.8.0->ultralytics)\n",
            "  Downloading nvidia_cuda_nvrtc_cu12-12.4.127-py3-none-manylinux2014_x86_64.whl.metadata (1.5 kB)\n",
            "Collecting nvidia-cuda-runtime-cu12==12.4.127 (from torch>=1.8.0->ultralytics)\n",
            "  Downloading nvidia_cuda_runtime_cu12-12.4.127-py3-none-manylinux2014_x86_64.whl.metadata (1.5 kB)\n",
            "Collecting nvidia-cuda-cupti-cu12==12.4.127 (from torch>=1.8.0->ultralytics)\n",
            "  Downloading nvidia_cuda_cupti_cu12-12.4.127-py3-none-manylinux2014_x86_64.whl.metadata (1.6 kB)\n",
            "Collecting nvidia-cudnn-cu12==9.1.0.70 (from torch>=1.8.0->ultralytics)\n",
            "  Downloading nvidia_cudnn_cu12-9.1.0.70-py3-none-manylinux2014_x86_64.whl.metadata (1.6 kB)\n",
            "Collecting nvidia-cublas-cu12==12.4.5.8 (from torch>=1.8.0->ultralytics)\n",
            "  Downloading nvidia_cublas_cu12-12.4.5.8-py3-none-manylinux2014_x86_64.whl.metadata (1.5 kB)\n",
            "Collecting nvidia-cufft-cu12==11.2.1.3 (from torch>=1.8.0->ultralytics)\n",
            "  Downloading nvidia_cufft_cu12-11.2.1.3-py3-none-manylinux2014_x86_64.whl.metadata (1.5 kB)\n",
            "Collecting nvidia-curand-cu12==10.3.5.147 (from torch>=1.8.0->ultralytics)\n",
            "  Downloading nvidia_curand_cu12-10.3.5.147-py3-none-manylinux2014_x86_64.whl.metadata (1.5 kB)\n",
            "Collecting nvidia-cusolver-cu12==11.6.1.9 (from torch>=1.8.0->ultralytics)\n",
            "  Downloading nvidia_cusolver_cu12-11.6.1.9-py3-none-manylinux2014_x86_64.whl.metadata (1.6 kB)\n",
            "Collecting nvidia-cusparse-cu12==12.3.1.170 (from torch>=1.8.0->ultralytics)\n",
            "  Downloading nvidia_cusparse_cu12-12.3.1.170-py3-none-manylinux2014_x86_64.whl.metadata (1.6 kB)\n",
            "Requirement already satisfied: nvidia-cusparselt-cu12==0.6.2 in /usr/local/lib/python3.11/dist-packages (from torch>=1.8.0->ultralytics) (0.6.2)\n",
            "Requirement already satisfied: nvidia-nccl-cu12==2.21.5 in /usr/local/lib/python3.11/dist-packages (from torch>=1.8.0->ultralytics) (2.21.5)\n",
            "Requirement already satisfied: nvidia-nvtx-cu12==12.4.127 in /usr/local/lib/python3.11/dist-packages (from torch>=1.8.0->ultralytics) (12.4.127)\n",
            "Collecting nvidia-nvjitlink-cu12==12.4.127 (from torch>=1.8.0->ultralytics)\n",
            "  Downloading nvidia_nvjitlink_cu12-12.4.127-py3-none-manylinux2014_x86_64.whl.metadata (1.5 kB)\n",
            "Requirement already satisfied: triton==3.2.0 in /usr/local/lib/python3.11/dist-packages (from torch>=1.8.0->ultralytics) (3.2.0)\n",
            "Requirement already satisfied: sympy==1.13.1 in /usr/local/lib/python3.11/dist-packages (from torch>=1.8.0->ultralytics) (1.13.1)\n",
            "Requirement already satisfied: mpmath<1.4,>=1.1.0 in /usr/local/lib/python3.11/dist-packages (from sympy==1.13.1->torch>=1.8.0->ultralytics) (1.3.0)\n",
            "Requirement already satisfied: six>=1.5 in /usr/local/lib/python3.11/dist-packages (from python-dateutil>=2.7->matplotlib>=3.3.0->ultralytics) (1.17.0)\n",
            "Requirement already satisfied: MarkupSafe>=2.0 in /usr/local/lib/python3.11/dist-packages (from jinja2->torch>=1.8.0->ultralytics) (3.0.2)\n",
            "Downloading ultralytics-8.3.155-py3-none-any.whl (1.0 MB)\n",
            "\u001b[2K   \u001b[90m━━━━━━━━━━━━━━━━━━━━━━━━━━━━━━━━━━━━━━━━\u001b[0m \u001b[32m1.0/1.0 MB\u001b[0m \u001b[31m24.9 MB/s\u001b[0m eta \u001b[36m0:00:00\u001b[0m\n",
            "\u001b[?25hDownloading nvidia_cublas_cu12-12.4.5.8-py3-none-manylinux2014_x86_64.whl (363.4 MB)\n",
            "\u001b[2K   \u001b[90m━━━━━━━━━━━━━━━━━━━━━━━━━━━━━━━━━━━━━━━━\u001b[0m \u001b[32m363.4/363.4 MB\u001b[0m \u001b[31m3.3 MB/s\u001b[0m eta \u001b[36m0:00:00\u001b[0m\n",
            "\u001b[?25hDownloading nvidia_cuda_cupti_cu12-12.4.127-py3-none-manylinux2014_x86_64.whl (13.8 MB)\n",
            "\u001b[2K   \u001b[90m━━━━━━━━━━━━━━━━━━━━━━━━━━━━━━━━━━━━━━━━\u001b[0m \u001b[32m13.8/13.8 MB\u001b[0m \u001b[31m64.4 MB/s\u001b[0m eta \u001b[36m0:00:00\u001b[0m\n",
            "\u001b[?25hDownloading nvidia_cuda_nvrtc_cu12-12.4.127-py3-none-manylinux2014_x86_64.whl (24.6 MB)\n",
            "\u001b[2K   \u001b[90m━━━━━━━━━━━━━━━━━━━━━━━━━━━━━━━━━━━━━━━━\u001b[0m \u001b[32m24.6/24.6 MB\u001b[0m \u001b[31m51.2 MB/s\u001b[0m eta \u001b[36m0:00:00\u001b[0m\n",
            "\u001b[?25hDownloading nvidia_cuda_runtime_cu12-12.4.127-py3-none-manylinux2014_x86_64.whl (883 kB)\n",
            "\u001b[2K   \u001b[90m━━━━━━━━━━━━━━━━━━━━━━━━━━━━━━━━━━━━━━━━\u001b[0m \u001b[32m883.7/883.7 kB\u001b[0m \u001b[31m32.8 MB/s\u001b[0m eta \u001b[36m0:00:00\u001b[0m\n",
            "\u001b[?25hDownloading nvidia_cudnn_cu12-9.1.0.70-py3-none-manylinux2014_x86_64.whl (664.8 MB)\n",
            "\u001b[2K   \u001b[90m━━━━━━━━━━━━━━━━━━━━━━━━━━━━━━━━━━━━━━━\u001b[0m \u001b[32m664.8/664.8 MB\u001b[0m \u001b[31m786.4 kB/s\u001b[0m eta \u001b[36m0:00:00\u001b[0m\n",
            "\u001b[?25hDownloading nvidia_cufft_cu12-11.2.1.3-py3-none-manylinux2014_x86_64.whl (211.5 MB)\n",
            "\u001b[2K   \u001b[90m━━━━━━━━━━━━━━━━━━━━━━━━━━━━━━━━━━━━━━━━\u001b[0m \u001b[32m211.5/211.5 MB\u001b[0m \u001b[31m5.7 MB/s\u001b[0m eta \u001b[36m0:00:00\u001b[0m\n",
            "\u001b[?25hDownloading nvidia_curand_cu12-10.3.5.147-py3-none-manylinux2014_x86_64.whl (56.3 MB)\n",
            "\u001b[2K   \u001b[90m━━━━━━━━━━━━━━━━━━━━━━━━━━━━━━━━━━━━━━━━\u001b[0m \u001b[32m56.3/56.3 MB\u001b[0m \u001b[31m9.3 MB/s\u001b[0m eta \u001b[36m0:00:00\u001b[0m\n",
            "\u001b[?25hDownloading nvidia_cusolver_cu12-11.6.1.9-py3-none-manylinux2014_x86_64.whl (127.9 MB)\n",
            "\u001b[2K   \u001b[90m━━━━━━━━━━━━━━━━━━━━━━━━━━━━━━━━━━━━━━━━\u001b[0m \u001b[32m127.9/127.9 MB\u001b[0m \u001b[31m5.6 MB/s\u001b[0m eta \u001b[36m0:00:00\u001b[0m\n",
            "\u001b[?25hDownloading nvidia_cusparse_cu12-12.3.1.170-py3-none-manylinux2014_x86_64.whl (207.5 MB)\n",
            "\u001b[2K   \u001b[90m━━━━━━━━━━━━━━━━━━━━━━━━━━━━━━━━━━━━━━━━\u001b[0m \u001b[32m207.5/207.5 MB\u001b[0m \u001b[31m6.2 MB/s\u001b[0m eta \u001b[36m0:00:00\u001b[0m\n",
            "\u001b[?25hDownloading nvidia_nvjitlink_cu12-12.4.127-py3-none-manylinux2014_x86_64.whl (21.1 MB)\n",
            "\u001b[2K   \u001b[90m━━━━━━━━━━━━━━━━━━━━━━━━━━━━━━━━━━━━━━━━\u001b[0m \u001b[32m21.1/21.1 MB\u001b[0m \u001b[31m45.2 MB/s\u001b[0m eta \u001b[36m0:00:00\u001b[0m\n",
            "\u001b[?25hDownloading ultralytics_thop-2.0.14-py3-none-any.whl (26 kB)\n",
            "Installing collected packages: nvidia-nvjitlink-cu12, nvidia-curand-cu12, nvidia-cufft-cu12, nvidia-cuda-runtime-cu12, nvidia-cuda-nvrtc-cu12, nvidia-cuda-cupti-cu12, nvidia-cublas-cu12, nvidia-cusparse-cu12, nvidia-cudnn-cu12, nvidia-cusolver-cu12, ultralytics-thop, ultralytics\n",
            "  Attempting uninstall: nvidia-nvjitlink-cu12\n",
            "    Found existing installation: nvidia-nvjitlink-cu12 12.5.82\n",
            "    Uninstalling nvidia-nvjitlink-cu12-12.5.82:\n",
            "      Successfully uninstalled nvidia-nvjitlink-cu12-12.5.82\n",
            "  Attempting uninstall: nvidia-curand-cu12\n",
            "    Found existing installation: nvidia-curand-cu12 10.3.6.82\n",
            "    Uninstalling nvidia-curand-cu12-10.3.6.82:\n",
            "      Successfully uninstalled nvidia-curand-cu12-10.3.6.82\n",
            "  Attempting uninstall: nvidia-cufft-cu12\n",
            "    Found existing installation: nvidia-cufft-cu12 11.2.3.61\n",
            "    Uninstalling nvidia-cufft-cu12-11.2.3.61:\n",
            "      Successfully uninstalled nvidia-cufft-cu12-11.2.3.61\n",
            "  Attempting uninstall: nvidia-cuda-runtime-cu12\n",
            "    Found existing installation: nvidia-cuda-runtime-cu12 12.5.82\n",
            "    Uninstalling nvidia-cuda-runtime-cu12-12.5.82:\n",
            "      Successfully uninstalled nvidia-cuda-runtime-cu12-12.5.82\n",
            "  Attempting uninstall: nvidia-cuda-nvrtc-cu12\n",
            "    Found existing installation: nvidia-cuda-nvrtc-cu12 12.5.82\n",
            "    Uninstalling nvidia-cuda-nvrtc-cu12-12.5.82:\n",
            "      Successfully uninstalled nvidia-cuda-nvrtc-cu12-12.5.82\n",
            "  Attempting uninstall: nvidia-cuda-cupti-cu12\n",
            "    Found existing installation: nvidia-cuda-cupti-cu12 12.5.82\n",
            "    Uninstalling nvidia-cuda-cupti-cu12-12.5.82:\n",
            "      Successfully uninstalled nvidia-cuda-cupti-cu12-12.5.82\n",
            "  Attempting uninstall: nvidia-cublas-cu12\n",
            "    Found existing installation: nvidia-cublas-cu12 12.5.3.2\n",
            "    Uninstalling nvidia-cublas-cu12-12.5.3.2:\n",
            "      Successfully uninstalled nvidia-cublas-cu12-12.5.3.2\n",
            "  Attempting uninstall: nvidia-cusparse-cu12\n",
            "    Found existing installation: nvidia-cusparse-cu12 12.5.1.3\n",
            "    Uninstalling nvidia-cusparse-cu12-12.5.1.3:\n",
            "      Successfully uninstalled nvidia-cusparse-cu12-12.5.1.3\n",
            "  Attempting uninstall: nvidia-cudnn-cu12\n",
            "    Found existing installation: nvidia-cudnn-cu12 9.3.0.75\n",
            "    Uninstalling nvidia-cudnn-cu12-9.3.0.75:\n",
            "      Successfully uninstalled nvidia-cudnn-cu12-9.3.0.75\n",
            "  Attempting uninstall: nvidia-cusolver-cu12\n",
            "    Found existing installation: nvidia-cusolver-cu12 11.6.3.83\n",
            "    Uninstalling nvidia-cusolver-cu12-11.6.3.83:\n",
            "      Successfully uninstalled nvidia-cusolver-cu12-11.6.3.83\n",
            "Successfully installed nvidia-cublas-cu12-12.4.5.8 nvidia-cuda-cupti-cu12-12.4.127 nvidia-cuda-nvrtc-cu12-12.4.127 nvidia-cuda-runtime-cu12-12.4.127 nvidia-cudnn-cu12-9.1.0.70 nvidia-cufft-cu12-11.2.1.3 nvidia-curand-cu12-10.3.5.147 nvidia-cusolver-cu12-11.6.1.9 nvidia-cusparse-cu12-12.3.1.170 nvidia-nvjitlink-cu12-12.4.127 ultralytics-8.3.155 ultralytics-thop-2.0.14\n"
          ]
        }
      ],
      "source": [
        "!pip install ultralytics"
      ]
    },
    {
      "cell_type": "code",
      "execution_count": null,
      "metadata": {
        "colab": {
          "base_uri": "https://localhost:8080/"
        },
        "id": "RcYtCycY0B2b",
        "outputId": "347037ec-3c17-4d93-b76f-b07c7e8191f9"
      },
      "outputs": [
        {
          "output_type": "stream",
          "name": "stdout",
          "text": [
            "Drive already mounted at /content/drive; to attempt to forcibly remount, call drive.mount(\"/content/drive\", force_remount=True).\n"
          ]
        }
      ],
      "source": [
        "from google.colab import drive\n",
        "drive.mount('/content/drive')"
      ]
    },
    {
      "cell_type": "code",
      "source": [
        "import os\n",
        "\n",
        "def update_labels(label_folder, label_extension=\".txt\", old_label=\"0\", new_label=\"7\"):\n",
        "    for label_file in os.listdir(label_folder):\n",
        "        if label_file.endswith(label_extension) and label_file.startswith(\"0\"):\n",
        "            label_path = os.path.join(label_folder, label_file)\n",
        "\n",
        "            # Read and modify labels\n",
        "            with open(label_path, \"r\") as file:\n",
        "                lines = file.readlines()\n",
        "\n",
        "            updated_lines = []\n",
        "            for line in lines:\n",
        "                parts = line.strip().split()\n",
        "                if parts and parts[0] == old_label:  # Change label 0 to 7\n",
        "                    parts[0] = new_label\n",
        "                updated_lines.append(\" \".join(parts))\n",
        "\n",
        "            # Write back updated labels\n",
        "            with open(label_path, \"w\") as file:\n",
        "                file.write(\"\\n\".join(updated_lines) + \"\\n\")\n",
        "\n",
        "            print(f\"Updated labels in: {label_path}\")\n",
        "\n",
        "# Example usage\n",
        "label_folder = r\"/content/drive/MyDrive/LaneDetectionDataset/valid/labels\"\n",
        "update_labels(label_folder)\n"
      ],
      "metadata": {
        "id": "8KABbivkatcD"
      },
      "execution_count": null,
      "outputs": []
    },
    {
      "cell_type": "code",
      "execution_count": null,
      "metadata": {
        "colab": {
          "base_uri": "https://localhost:8080/"
        },
        "id": "bRxN2GXGRLU2",
        "outputId": "29b7ad1e-2053-4dfb-8c69-902a6680c766",
        "collapsed": true
      },
      "outputs": [
        {
          "output_type": "stream",
          "name": "stdout",
          "text": [
            "Ultralytics 8.3.152 🚀 Python-3.11.13 torch-2.6.0+cu124 CUDA:0 (Tesla T4, 15095MiB)\n",
            "\u001b[34m\u001b[1mengine/trainer: \u001b[0magnostic_nms=False, amp=True, augment=False, auto_augment=randaugment, batch=16, bgr=0.0, box=7.5, cache=False, cfg=None, classes=None, close_mosaic=10, cls=0.5, conf=None, copy_paste=0.0, copy_paste_mode=flip, cos_lr=False, cutmix=0.0, data=/content/drive/MyDrive/LaneDetectionDataset/data.yaml, degrees=0.0, deterministic=True, device=None, dfl=1.5, dnn=False, dropout=0.0, dynamic=False, embed=None, epochs=50, erasing=0.4, exist_ok=False, fliplr=0.5, flipud=0.0, format=torchscript, fraction=1.0, freeze=None, half=False, hsv_h=0.015, hsv_s=0.7, hsv_v=0.4, imgsz=640, int8=False, iou=0.7, keras=False, kobj=1.0, line_width=None, lr0=0.01, lrf=0.01, mask_ratio=4, max_det=300, mixup=0.0, mode=train, model=yolov8n.pt, momentum=0.937, mosaic=1.0, multi_scale=False, name=lane_obstacle_run7, nbs=64, nms=False, opset=None, optimize=False, optimizer=auto, overlap_mask=True, patience=100, perspective=0.0, plots=True, pose=12.0, pretrained=True, profile=False, project=/content/drive/MyDrive/YOLOResults, rect=False, resume=False, retina_masks=False, save=True, save_conf=False, save_crop=False, save_dir=/content/drive/MyDrive/YOLOResults/lane_obstacle_run7, save_frames=False, save_json=False, save_period=-1, save_txt=False, scale=0.5, seed=0, shear=0.0, show=False, show_boxes=True, show_conf=True, show_labels=True, simplify=True, single_cls=False, source=None, split=val, stream_buffer=False, task=detect, time=None, tracker=botsort.yaml, translate=0.1, val=True, verbose=True, vid_stride=1, visualize=False, warmup_bias_lr=0.1, warmup_epochs=3.0, warmup_momentum=0.8, weight_decay=0.0005, workers=8, workspace=None\n",
            "Overriding model.yaml nc=80 with nc=8\n",
            "\n",
            "                   from  n    params  module                                       arguments                     \n",
            "  0                  -1  1       464  ultralytics.nn.modules.conv.Conv             [3, 16, 3, 2]                 \n",
            "  1                  -1  1      4672  ultralytics.nn.modules.conv.Conv             [16, 32, 3, 2]                \n",
            "  2                  -1  1      7360  ultralytics.nn.modules.block.C2f             [32, 32, 1, True]             \n",
            "  3                  -1  1     18560  ultralytics.nn.modules.conv.Conv             [32, 64, 3, 2]                \n",
            "  4                  -1  2     49664  ultralytics.nn.modules.block.C2f             [64, 64, 2, True]             \n",
            "  5                  -1  1     73984  ultralytics.nn.modules.conv.Conv             [64, 128, 3, 2]               \n",
            "  6                  -1  2    197632  ultralytics.nn.modules.block.C2f             [128, 128, 2, True]           \n",
            "  7                  -1  1    295424  ultralytics.nn.modules.conv.Conv             [128, 256, 3, 2]              \n",
            "  8                  -1  1    460288  ultralytics.nn.modules.block.C2f             [256, 256, 1, True]           \n",
            "  9                  -1  1    164608  ultralytics.nn.modules.block.SPPF            [256, 256, 5]                 \n",
            " 10                  -1  1         0  torch.nn.modules.upsampling.Upsample         [None, 2, 'nearest']          \n",
            " 11             [-1, 6]  1         0  ultralytics.nn.modules.conv.Concat           [1]                           \n",
            " 12                  -1  1    148224  ultralytics.nn.modules.block.C2f             [384, 128, 1]                 \n",
            " 13                  -1  1         0  torch.nn.modules.upsampling.Upsample         [None, 2, 'nearest']          \n",
            " 14             [-1, 4]  1         0  ultralytics.nn.modules.conv.Concat           [1]                           \n",
            " 15                  -1  1     37248  ultralytics.nn.modules.block.C2f             [192, 64, 1]                  \n",
            " 16                  -1  1     36992  ultralytics.nn.modules.conv.Conv             [64, 64, 3, 2]                \n",
            " 17            [-1, 12]  1         0  ultralytics.nn.modules.conv.Concat           [1]                           \n",
            " 18                  -1  1    123648  ultralytics.nn.modules.block.C2f             [192, 128, 1]                 \n",
            " 19                  -1  1    147712  ultralytics.nn.modules.conv.Conv             [128, 128, 3, 2]              \n",
            " 20             [-1, 9]  1         0  ultralytics.nn.modules.conv.Concat           [1]                           \n",
            " 21                  -1  1    493056  ultralytics.nn.modules.block.C2f             [384, 256, 1]                 \n",
            " 22        [15, 18, 21]  1    752872  ultralytics.nn.modules.head.Detect           [8, [64, 128, 256]]           \n",
            "Model summary: 129 layers, 3,012,408 parameters, 3,012,392 gradients, 8.2 GFLOPs\n",
            "\n",
            "Transferred 319/355 items from pretrained weights\n",
            "Freezing layer 'model.22.dfl.conv.weight'\n",
            "\u001b[34m\u001b[1mAMP: \u001b[0mrunning Automatic Mixed Precision (AMP) checks...\n",
            "\u001b[34m\u001b[1mAMP: \u001b[0mchecks passed ✅\n",
            "\u001b[34m\u001b[1mtrain: \u001b[0mFast image access ✅ (ping: 0.4±0.1 ms, read: 9.3±1.9 MB/s, size: 16.3 KB)\n",
            "\u001b[34m\u001b[1mtrain: \u001b[0mScanning /content/drive/MyDrive/LaneDetectionDataset/train/labels.cache... 820 images, 0 backgrounds, 0 corrupt: 100% 820/820 [00:00<?, ?it/s]\n",
            "\u001b[34m\u001b[1malbumentations: \u001b[0mBlur(p=0.01, blur_limit=(3, 7)), MedianBlur(p=0.01, blur_limit=(3, 7)), ToGray(p=0.01, method='weighted_average', num_output_channels=3), CLAHE(p=0.01, clip_limit=(1.0, 4.0), tile_grid_size=(8, 8))\n",
            "\u001b[34m\u001b[1mval: \u001b[0mFast image access ✅ (ping: 0.3±0.1 ms, read: 14.2±14.7 MB/s, size: 38.3 KB)\n",
            "\u001b[34m\u001b[1mval: \u001b[0mScanning /content/drive/MyDrive/LaneDetectionDataset/valid/labels.cache... 315 images, 0 backgrounds, 0 corrupt: 100% 315/315 [00:00<?, ?it/s]\n",
            "Plotting labels to /content/drive/MyDrive/YOLOResults/lane_obstacle_run7/labels.jpg... \n",
            "\u001b[34m\u001b[1moptimizer:\u001b[0m 'optimizer=auto' found, ignoring 'lr0=0.01' and 'momentum=0.937' and determining best 'optimizer', 'lr0' and 'momentum' automatically... \n",
            "\u001b[34m\u001b[1moptimizer:\u001b[0m AdamW(lr=0.000833, momentum=0.9) with parameter groups 57 weight(decay=0.0), 64 weight(decay=0.0005), 63 bias(decay=0.0)\n",
            "Image sizes 640 train, 640 val\n",
            "Using 2 dataloader workers\n",
            "Logging results to \u001b[1m/content/drive/MyDrive/YOLOResults/lane_obstacle_run7\u001b[0m\n",
            "Starting training for 50 epochs...\n",
            "\n",
            "      Epoch    GPU_mem   box_loss   cls_loss   dfl_loss  Instances       Size\n",
            "       1/50      2.28G      1.394      2.572       1.25         53        640: 100% 52/52 [00:21<00:00,  2.43it/s]\n",
            "                 Class     Images  Instances      Box(P          R      mAP50  mAP50-95): 100% 10/10 [00:05<00:00,  1.94it/s]\n",
            "                   all        315       2499      0.971     0.0778      0.143     0.0986\n",
            "\n",
            "      Epoch    GPU_mem   box_loss   cls_loss   dfl_loss  Instances       Size\n",
            "       2/50      3.11G      1.117      1.291      1.087         58        640: 100% 52/52 [00:19<00:00,  2.74it/s]\n",
            "                 Class     Images  Instances      Box(P          R      mAP50  mAP50-95): 100% 10/10 [00:03<00:00,  2.53it/s]\n",
            "                   all        315       2499      0.757      0.174      0.223      0.153\n",
            "\n",
            "      Epoch    GPU_mem   box_loss   cls_loss   dfl_loss  Instances       Size\n",
            "       3/50      3.11G      1.094      1.169      1.069         19        640: 100% 52/52 [00:21<00:00,  2.42it/s]\n",
            "                 Class     Images  Instances      Box(P          R      mAP50  mAP50-95): 100% 10/10 [00:03<00:00,  2.70it/s]\n",
            "                   all        315       2499      0.656      0.237      0.244      0.157\n",
            "\n",
            "      Epoch    GPU_mem   box_loss   cls_loss   dfl_loss  Instances       Size\n",
            "       4/50      3.11G      1.054      1.107      1.066         31        640: 100% 52/52 [00:21<00:00,  2.47it/s]\n",
            "                 Class     Images  Instances      Box(P          R      mAP50  mAP50-95): 100% 10/10 [00:04<00:00,  2.42it/s]\n",
            "                   all        315       2499      0.772      0.243      0.277       0.17\n",
            "\n",
            "      Epoch    GPU_mem   box_loss   cls_loss   dfl_loss  Instances       Size\n",
            "       5/50      3.11G      1.067      1.066      1.073         69        640: 100% 52/52 [00:19<00:00,  2.65it/s]\n",
            "                 Class     Images  Instances      Box(P          R      mAP50  mAP50-95): 100% 10/10 [00:05<00:00,  1.95it/s]\n",
            "                   all        315       2499      0.562      0.295      0.286      0.184\n",
            "\n",
            "      Epoch    GPU_mem   box_loss   cls_loss   dfl_loss  Instances       Size\n",
            "       6/50      3.12G      1.056      1.023      1.049         31        640: 100% 52/52 [00:20<00:00,  2.58it/s]\n",
            "                 Class     Images  Instances      Box(P          R      mAP50  mAP50-95): 100% 10/10 [00:03<00:00,  2.77it/s]\n",
            "                   all        315       2499      0.511      0.315      0.298      0.195\n",
            "\n",
            "      Epoch    GPU_mem   box_loss   cls_loss   dfl_loss  Instances       Size\n",
            "       7/50      3.12G      1.021     0.9936      1.051         27        640: 100% 52/52 [00:21<00:00,  2.43it/s]\n",
            "                 Class     Images  Instances      Box(P          R      mAP50  mAP50-95): 100% 10/10 [00:03<00:00,  2.57it/s]\n",
            "                   all        315       2499       0.64      0.258      0.292      0.196\n",
            "\n",
            "      Epoch    GPU_mem   box_loss   cls_loss   dfl_loss  Instances       Size\n",
            "       8/50      3.14G     0.9758     0.9264      1.033         47        640: 100% 52/52 [00:20<00:00,  2.59it/s]\n",
            "                 Class     Images  Instances      Box(P          R      mAP50  mAP50-95): 100% 10/10 [00:04<00:00,  2.18it/s]\n",
            "                   all        315       2499      0.685      0.281      0.308      0.208\n",
            "\n",
            "      Epoch    GPU_mem   box_loss   cls_loss   dfl_loss  Instances       Size\n",
            "       9/50      3.14G      1.004     0.9051      1.037         28        640: 100% 52/52 [00:19<00:00,  2.64it/s]\n",
            "                 Class     Images  Instances      Box(P          R      mAP50  mAP50-95): 100% 10/10 [00:04<00:00,  2.23it/s]\n",
            "                   all        315       2499      0.682      0.277      0.301      0.202\n",
            "\n",
            "      Epoch    GPU_mem   box_loss   cls_loss   dfl_loss  Instances       Size\n",
            "      10/50      3.16G     0.9689     0.8591      1.033         23        640: 100% 52/52 [00:19<00:00,  2.71it/s]\n",
            "                 Class     Images  Instances      Box(P          R      mAP50  mAP50-95): 100% 10/10 [00:03<00:00,  2.77it/s]\n",
            "                   all        315       2499      0.615      0.309      0.299      0.197\n",
            "\n",
            "      Epoch    GPU_mem   box_loss   cls_loss   dfl_loss  Instances       Size\n",
            "      11/50      3.16G     0.9378     0.8274       1.02         21        640: 100% 52/52 [00:20<00:00,  2.53it/s]\n",
            "                 Class     Images  Instances      Box(P          R      mAP50  mAP50-95): 100% 10/10 [00:03<00:00,  2.65it/s]\n",
            "                   all        315       2499      0.517      0.363      0.332      0.221\n",
            "\n",
            "      Epoch    GPU_mem   box_loss   cls_loss   dfl_loss  Instances       Size\n",
            "      12/50      3.16G     0.9598     0.8269      1.029         33        640: 100% 52/52 [00:19<00:00,  2.66it/s]\n",
            "                 Class     Images  Instances      Box(P          R      mAP50  mAP50-95): 100% 10/10 [00:05<00:00,  1.97it/s]\n",
            "                   all        315       2499      0.665      0.325      0.322      0.212\n",
            "\n",
            "      Epoch    GPU_mem   box_loss   cls_loss   dfl_loss  Instances       Size\n",
            "      13/50      3.16G     0.9323     0.8055      1.018         35        640: 100% 52/52 [00:18<00:00,  2.79it/s]\n",
            "                 Class     Images  Instances      Box(P          R      mAP50  mAP50-95): 100% 10/10 [00:03<00:00,  2.59it/s]\n",
            "                   all        315       2499      0.464      0.349      0.318      0.206\n",
            "\n",
            "      Epoch    GPU_mem   box_loss   cls_loss   dfl_loss  Instances       Size\n",
            "      14/50      3.16G     0.9452     0.7866      1.014         44        640: 100% 52/52 [00:21<00:00,  2.44it/s]\n",
            "                 Class     Images  Instances      Box(P          R      mAP50  mAP50-95): 100% 10/10 [00:03<00:00,  2.77it/s]\n",
            "                   all        315       2499      0.471      0.356      0.351      0.214\n",
            "\n",
            "      Epoch    GPU_mem   box_loss   cls_loss   dfl_loss  Instances       Size\n",
            "      15/50      3.16G     0.9284     0.7763      1.009         64        640: 100% 52/52 [00:20<00:00,  2.52it/s]\n",
            "                 Class     Images  Instances      Box(P          R      mAP50  mAP50-95): 100% 10/10 [00:04<00:00,  2.18it/s]\n",
            "                   all        315       2499      0.485      0.399      0.344      0.224\n",
            "\n",
            "      Epoch    GPU_mem   box_loss   cls_loss   dfl_loss  Instances       Size\n",
            "      16/50      3.16G     0.9367     0.7821      1.008         40        640: 100% 52/52 [00:20<00:00,  2.58it/s]\n",
            "                 Class     Images  Instances      Box(P          R      mAP50  mAP50-95): 100% 10/10 [00:05<00:00,  1.89it/s]\n",
            "                   all        315       2499      0.639      0.327      0.344      0.226\n",
            "\n",
            "      Epoch    GPU_mem   box_loss   cls_loss   dfl_loss  Instances       Size\n",
            "      17/50      3.16G     0.9014     0.7321          1         52        640: 100% 52/52 [00:20<00:00,  2.58it/s]\n",
            "                 Class     Images  Instances      Box(P          R      mAP50  mAP50-95): 100% 10/10 [00:03<00:00,  2.56it/s]\n",
            "                   all        315       2499      0.621      0.338      0.348      0.219\n",
            "\n",
            "      Epoch    GPU_mem   box_loss   cls_loss   dfl_loss  Instances       Size\n",
            "      18/50      3.16G     0.9072     0.7366      1.003         45        640: 100% 52/52 [00:21<00:00,  2.48it/s]\n",
            "                 Class     Images  Instances      Box(P          R      mAP50  mAP50-95): 100% 10/10 [00:03<00:00,  2.51it/s]\n",
            "                   all        315       2499      0.724      0.295      0.364      0.234\n",
            "\n",
            "      Epoch    GPU_mem   box_loss   cls_loss   dfl_loss  Instances       Size\n",
            "      19/50      3.16G     0.8818     0.7238     0.9987         16        640: 100% 52/52 [00:20<00:00,  2.51it/s]\n",
            "                 Class     Images  Instances      Box(P          R      mAP50  mAP50-95): 100% 10/10 [00:04<00:00,  2.14it/s]\n",
            "                   all        315       2499       0.53      0.386      0.345      0.228\n",
            "\n",
            "      Epoch    GPU_mem   box_loss   cls_loss   dfl_loss  Instances       Size\n",
            "      20/50      3.16G     0.8881     0.6987     0.9913         61        640: 100% 52/52 [00:19<00:00,  2.68it/s]\n",
            "                 Class     Images  Instances      Box(P          R      mAP50  mAP50-95): 100% 10/10 [00:04<00:00,  2.04it/s]\n",
            "                   all        315       2499      0.626      0.365      0.353      0.238\n",
            "\n",
            "      Epoch    GPU_mem   box_loss   cls_loss   dfl_loss  Instances       Size\n",
            "      21/50      3.16G     0.8947     0.7134     0.9998         49        640: 100% 52/52 [00:19<00:00,  2.60it/s]\n",
            "                 Class     Images  Instances      Box(P          R      mAP50  mAP50-95): 100% 10/10 [00:03<00:00,  2.54it/s]\n",
            "                   all        315       2499      0.722      0.304      0.347      0.234\n",
            "\n",
            "      Epoch    GPU_mem   box_loss   cls_loss   dfl_loss  Instances       Size\n",
            "      22/50      3.16G     0.8818     0.6924     0.9893         34        640: 100% 52/52 [00:21<00:00,  2.41it/s]\n",
            "                 Class     Images  Instances      Box(P          R      mAP50  mAP50-95): 100% 10/10 [00:04<00:00,  2.47it/s]\n",
            "                   all        315       2499      0.661      0.334      0.339      0.228\n",
            "\n",
            "      Epoch    GPU_mem   box_loss   cls_loss   dfl_loss  Instances       Size\n",
            "      23/50      3.16G     0.8838     0.6894     0.9864         54        640: 100% 52/52 [00:21<00:00,  2.47it/s]\n",
            "                 Class     Images  Instances      Box(P          R      mAP50  mAP50-95): 100% 10/10 [00:04<00:00,  2.18it/s]\n",
            "                   all        315       2499      0.458      0.349      0.336      0.217\n",
            "\n",
            "      Epoch    GPU_mem   box_loss   cls_loss   dfl_loss  Instances       Size\n",
            "      24/50      3.16G     0.8604     0.6749     0.9855         14        640: 100% 52/52 [00:19<00:00,  2.63it/s]\n",
            "                 Class     Images  Instances      Box(P          R      mAP50  mAP50-95): 100% 10/10 [00:04<00:00,  2.06it/s]\n",
            "                   all        315       2499      0.482       0.43      0.361      0.233\n",
            "\n",
            "      Epoch    GPU_mem   box_loss   cls_loss   dfl_loss  Instances       Size\n",
            "      25/50      3.17G     0.8549     0.6681     0.9834         44        640: 100% 52/52 [00:20<00:00,  2.60it/s]\n",
            "                 Class     Images  Instances      Box(P          R      mAP50  mAP50-95): 100% 10/10 [00:03<00:00,  2.70it/s]\n",
            "                   all        315       2499      0.538      0.383       0.37      0.238\n",
            "\n",
            "      Epoch    GPU_mem   box_loss   cls_loss   dfl_loss  Instances       Size\n",
            "      26/50      3.17G     0.8415     0.6337      0.976         54        640: 100% 52/52 [00:22<00:00,  2.33it/s]\n",
            "                 Class     Images  Instances      Box(P          R      mAP50  mAP50-95): 100% 10/10 [00:03<00:00,  2.69it/s]\n",
            "                   all        315       2499      0.514      0.384      0.375       0.24\n",
            "\n",
            "      Epoch    GPU_mem   box_loss   cls_loss   dfl_loss  Instances       Size\n",
            "      27/50      3.19G     0.8518     0.6503       0.98         47        640: 100% 52/52 [00:21<00:00,  2.46it/s]\n",
            "                 Class     Images  Instances      Box(P          R      mAP50  mAP50-95): 100% 10/10 [00:04<00:00,  2.23it/s]\n",
            "                   all        315       2499      0.665       0.37      0.355      0.233\n",
            "\n",
            "      Epoch    GPU_mem   box_loss   cls_loss   dfl_loss  Instances       Size\n",
            "      28/50      3.19G     0.8487     0.6491     0.9767         35        640: 100% 52/52 [00:19<00:00,  2.60it/s]\n",
            "                 Class     Images  Instances      Box(P          R      mAP50  mAP50-95): 100% 10/10 [00:05<00:00,  1.98it/s]\n",
            "                   all        315       2499      0.547       0.38      0.372       0.23\n",
            "\n",
            "      Epoch    GPU_mem   box_loss   cls_loss   dfl_loss  Instances       Size\n",
            "      29/50      3.19G     0.8333      0.622     0.9713         20        640: 100% 52/52 [00:19<00:00,  2.64it/s]\n",
            "                 Class     Images  Instances      Box(P          R      mAP50  mAP50-95): 100% 10/10 [00:04<00:00,  2.39it/s]\n",
            "                   all        315       2499      0.654      0.338      0.407       0.25\n",
            "\n",
            "      Epoch    GPU_mem   box_loss   cls_loss   dfl_loss  Instances       Size\n",
            "      30/50      3.19G     0.8279     0.6255     0.9674         30        640: 100% 52/52 [00:21<00:00,  2.40it/s]\n",
            "                 Class     Images  Instances      Box(P          R      mAP50  mAP50-95): 100% 10/10 [00:03<00:00,  2.62it/s]\n",
            "                   all        315       2499      0.612        0.4      0.398      0.252\n",
            "\n",
            "      Epoch    GPU_mem   box_loss   cls_loss   dfl_loss  Instances       Size\n",
            "      31/50      3.19G     0.8304     0.6108     0.9716         26        640: 100% 52/52 [00:20<00:00,  2.53it/s]\n",
            "                 Class     Images  Instances      Box(P          R      mAP50  mAP50-95): 100% 10/10 [00:04<00:00,  2.41it/s]\n",
            "                   all        315       2499      0.599      0.345      0.376      0.253\n",
            "\n",
            "      Epoch    GPU_mem   box_loss   cls_loss   dfl_loss  Instances       Size\n",
            "      32/50      3.19G     0.8334     0.6132     0.9723          9        640: 100% 52/52 [00:18<00:00,  2.74it/s]\n",
            "                 Class     Images  Instances      Box(P          R      mAP50  mAP50-95): 100% 10/10 [00:04<00:00,  2.17it/s]\n",
            "                   all        315       2499      0.514       0.42      0.392      0.253\n",
            "\n",
            "      Epoch    GPU_mem   box_loss   cls_loss   dfl_loss  Instances       Size\n",
            "      33/50      3.19G     0.8025     0.5971     0.9614         41        640: 100% 52/52 [00:20<00:00,  2.58it/s]\n",
            "                 Class     Images  Instances      Box(P          R      mAP50  mAP50-95): 100% 10/10 [00:03<00:00,  2.66it/s]\n",
            "                   all        315       2499       0.51      0.425      0.412      0.256\n",
            "\n",
            "      Epoch    GPU_mem   box_loss   cls_loss   dfl_loss  Instances       Size\n",
            "      34/50      3.19G     0.8005     0.5947     0.9639         39        640: 100% 52/52 [00:21<00:00,  2.44it/s]\n",
            "                 Class     Images  Instances      Box(P          R      mAP50  mAP50-95): 100% 10/10 [00:03<00:00,  2.71it/s]\n",
            "                   all        315       2499      0.472      0.427      0.403      0.263\n",
            "\n",
            "      Epoch    GPU_mem   box_loss   cls_loss   dfl_loss  Instances       Size\n",
            "      35/50      3.19G     0.7921     0.5852     0.9583         48        640: 100% 52/52 [00:20<00:00,  2.58it/s]\n",
            "                 Class     Images  Instances      Box(P          R      mAP50  mAP50-95): 100% 10/10 [00:04<00:00,  2.03it/s]\n",
            "                   all        315       2499       0.48      0.468      0.406      0.268\n",
            "\n",
            "      Epoch    GPU_mem   box_loss   cls_loss   dfl_loss  Instances       Size\n",
            "      36/50      3.19G      0.807      0.592     0.9593         65        640: 100% 52/52 [00:19<00:00,  2.68it/s]\n",
            "                 Class     Images  Instances      Box(P          R      mAP50  mAP50-95): 100% 10/10 [00:04<00:00,  2.34it/s]\n",
            "                   all        315       2499      0.443      0.449        0.4      0.261\n",
            "\n",
            "      Epoch    GPU_mem   box_loss   cls_loss   dfl_loss  Instances       Size\n",
            "      37/50      3.19G     0.7766     0.5673      0.953         68        640: 100% 52/52 [00:19<00:00,  2.62it/s]\n",
            "                 Class     Images  Instances      Box(P          R      mAP50  mAP50-95): 100% 10/10 [00:03<00:00,  2.62it/s]\n",
            "                   all        315       2499      0.523      0.451      0.426      0.271\n",
            "\n",
            "      Epoch    GPU_mem   box_loss   cls_loss   dfl_loss  Instances       Size\n",
            "      38/50      3.19G     0.7815     0.5708     0.9505         13        640: 100% 52/52 [00:21<00:00,  2.46it/s]\n",
            "                 Class     Images  Instances      Box(P          R      mAP50  mAP50-95): 100% 10/10 [00:03<00:00,  2.84it/s]\n",
            "                   all        315       2499      0.398      0.469      0.431      0.277\n",
            "\n",
            "      Epoch    GPU_mem   box_loss   cls_loss   dfl_loss  Instances       Size\n",
            "      39/50      3.19G     0.7825     0.5714     0.9509         22        640: 100% 52/52 [00:19<00:00,  2.70it/s]\n",
            "                 Class     Images  Instances      Box(P          R      mAP50  mAP50-95): 100% 10/10 [00:05<00:00,  1.87it/s]\n",
            "                   all        315       2499      0.531      0.451      0.433      0.282\n",
            "\n",
            "      Epoch    GPU_mem   box_loss   cls_loss   dfl_loss  Instances       Size\n",
            "      40/50      3.19G     0.7709     0.5501     0.9495         48        640: 100% 52/52 [00:19<00:00,  2.69it/s]\n",
            "                 Class     Images  Instances      Box(P          R      mAP50  mAP50-95): 100% 10/10 [00:03<00:00,  2.84it/s]\n",
            "                   all        315       2499      0.423      0.474      0.414      0.269\n",
            "Closing dataloader mosaic\n",
            "\u001b[34m\u001b[1malbumentations: \u001b[0mBlur(p=0.01, blur_limit=(3, 7)), MedianBlur(p=0.01, blur_limit=(3, 7)), ToGray(p=0.01, method='weighted_average', num_output_channels=3), CLAHE(p=0.01, clip_limit=(1.0, 4.0), tile_grid_size=(8, 8))\n",
            "\n",
            "      Epoch    GPU_mem   box_loss   cls_loss   dfl_loss  Instances       Size\n",
            "      41/50      3.19G     0.8489     0.6153     0.9713         17        640: 100% 52/52 [00:19<00:00,  2.61it/s]\n",
            "                 Class     Images  Instances      Box(P          R      mAP50  mAP50-95): 100% 10/10 [00:03<00:00,  2.92it/s]\n",
            "                   all        315       2499      0.437      0.502      0.439      0.296\n",
            "\n",
            "      Epoch    GPU_mem   box_loss   cls_loss   dfl_loss  Instances       Size\n",
            "      42/50      3.19G     0.8442      0.589     0.9623         30        640: 100% 52/52 [00:16<00:00,  3.08it/s]\n",
            "                 Class     Images  Instances      Box(P          R      mAP50  mAP50-95): 100% 10/10 [00:04<00:00,  2.36it/s]\n",
            "                   all        315       2499      0.406      0.516      0.405      0.272\n",
            "\n",
            "      Epoch    GPU_mem   box_loss   cls_loss   dfl_loss  Instances       Size\n",
            "      43/50      3.19G     0.8414     0.5783     0.9628         18        640: 100% 52/52 [00:17<00:00,  3.05it/s]\n",
            "                 Class     Images  Instances      Box(P          R      mAP50  mAP50-95): 100% 10/10 [00:03<00:00,  2.90it/s]\n",
            "                   all        315       2499       0.36      0.486      0.407      0.278\n",
            "\n",
            "      Epoch    GPU_mem   box_loss   cls_loss   dfl_loss  Instances       Size\n",
            "      44/50      3.19G     0.8332     0.5695     0.9562         12        640: 100% 52/52 [00:15<00:00,  3.26it/s]\n",
            "                 Class     Images  Instances      Box(P          R      mAP50  mAP50-95): 100% 10/10 [00:03<00:00,  2.61it/s]\n",
            "                   all        315       2499      0.367      0.507      0.399      0.264\n",
            "\n",
            "      Epoch    GPU_mem   box_loss   cls_loss   dfl_loss  Instances       Size\n",
            "      45/50      3.19G     0.8429     0.5751     0.9635         28        640: 100% 52/52 [00:17<00:00,  2.99it/s]\n",
            "                 Class     Images  Instances      Box(P          R      mAP50  mAP50-95): 100% 10/10 [00:03<00:00,  2.72it/s]\n",
            "                   all        315       2499      0.437      0.462      0.416      0.273\n",
            "\n",
            "      Epoch    GPU_mem   box_loss   cls_loss   dfl_loss  Instances       Size\n",
            "      46/50      3.19G      0.805     0.5508     0.9563         30        640: 100% 52/52 [00:16<00:00,  3.13it/s]\n",
            "                 Class     Images  Instances      Box(P          R      mAP50  mAP50-95): 100% 10/10 [00:03<00:00,  2.87it/s]\n",
            "                   all        315       2499      0.475      0.429       0.43      0.291\n",
            "\n",
            "      Epoch    GPU_mem   box_loss   cls_loss   dfl_loss  Instances       Size\n",
            "      47/50      3.19G     0.8105     0.5578     0.9523         60        640: 100% 52/52 [00:17<00:00,  3.06it/s]\n",
            "                 Class     Images  Instances      Box(P          R      mAP50  mAP50-95): 100% 10/10 [00:04<00:00,  2.27it/s]\n",
            "                   all        315       2499      0.503      0.433      0.427      0.288\n",
            "\n",
            "      Epoch    GPU_mem   box_loss   cls_loss   dfl_loss  Instances       Size\n",
            "      48/50      3.19G     0.8004      0.541     0.9443         10        640: 100% 52/52 [00:16<00:00,  3.18it/s]\n",
            "                 Class     Images  Instances      Box(P          R      mAP50  mAP50-95): 100% 10/10 [00:03<00:00,  2.77it/s]\n",
            "                   all        315       2499      0.518       0.43      0.416      0.278\n",
            "\n",
            "      Epoch    GPU_mem   box_loss   cls_loss   dfl_loss  Instances       Size\n",
            "      49/50      3.19G     0.7959     0.5442     0.9438         16        640: 100% 52/52 [00:16<00:00,  3.19it/s]\n",
            "                 Class     Images  Instances      Box(P          R      mAP50  mAP50-95): 100% 10/10 [00:04<00:00,  2.06it/s]\n",
            "                   all        315       2499      0.527      0.424      0.421      0.285\n",
            "\n",
            "      Epoch    GPU_mem   box_loss   cls_loss   dfl_loss  Instances       Size\n",
            "      50/50      3.19G     0.7871     0.5332     0.9384         12        640: 100% 52/52 [00:16<00:00,  3.23it/s]\n",
            "                 Class     Images  Instances      Box(P          R      mAP50  mAP50-95): 100% 10/10 [00:03<00:00,  2.89it/s]\n",
            "                   all        315       2499      0.532      0.419      0.422      0.286\n",
            "\n",
            "50 epochs completed in 0.336 hours.\n",
            "Optimizer stripped from /content/drive/MyDrive/YOLOResults/lane_obstacle_run7/weights/last.pt, 6.3MB\n",
            "Optimizer stripped from /content/drive/MyDrive/YOLOResults/lane_obstacle_run7/weights/best.pt, 6.3MB\n",
            "\n",
            "Validating /content/drive/MyDrive/YOLOResults/lane_obstacle_run7/weights/best.pt...\n",
            "Ultralytics 8.3.152 🚀 Python-3.11.13 torch-2.6.0+cu124 CUDA:0 (Tesla T4, 15095MiB)\n",
            "Model summary (fused): 72 layers, 3,007,208 parameters, 0 gradients, 8.1 GFLOPs\n",
            "                 Class     Images  Instances      Box(P          R      mAP50  mAP50-95): 100% 10/10 [00:05<00:00,  1.80it/s]\n",
            "                   all        315       2499      0.433      0.502      0.439      0.296\n",
            "                  bike          7          9      0.724      0.111      0.236      0.141\n",
            "                   bus         16         18      0.235        0.5      0.321      0.249\n",
            "                   car        141       1685      0.385      0.649      0.596      0.352\n",
            "                person         48        230      0.265      0.426      0.311      0.131\n",
            "                 rider          4          5      0.317        0.4      0.361      0.214\n",
            "                 truck         42         64      0.227      0.453      0.269      0.155\n",
            "                  lane        174        488      0.876      0.975      0.978      0.831\n",
            "Speed: 0.3ms preprocess, 2.6ms inference, 0.0ms loss, 4.3ms postprocess per image\n",
            "Results saved to \u001b[1m/content/drive/MyDrive/YOLOResults/lane_obstacle_run7\u001b[0m\n",
            "💡 Learn more at https://docs.ultralytics.com/modes/train\n"
          ]
        }
      ],
      "source": [
        "!yolo task=detect mode=train model=yolov8n.pt data=/content/drive/MyDrive/LaneDetectionDataset/data.yaml epochs=50 imgsz=640 project=/content/drive/MyDrive/YOLOResults name=lane_obstacle_run"
      ]
    },
    {
      "cell_type": "code",
      "execution_count": null,
      "metadata": {
        "colab": {
          "base_uri": "https://localhost:8080/"
        },
        "id": "K4s0GhjVA4Tq",
        "outputId": "ead5d3d0-6fc0-433b-c197-5a4f14ee311b"
      },
      "outputs": [
        {
          "output_type": "stream",
          "name": "stdout",
          "text": [
            "\n",
            "image 1/1 /content/drive/MyDrive/TestImage/solidWhiteCurve.jpg: 736x1280 4 cars, 4 lanes, 13.0ms\n",
            "Speed: 8.4ms preprocess, 13.0ms inference, 1.8ms postprocess per image at shape (1, 3, 736, 1280)\n",
            "Results saved to \u001b[1mruns/detect/predict2\u001b[0m\n"
          ]
        }
      ],
      "source": [
        "from ultralytics import YOLO\n",
        "\n",
        "# Load the segmentation model (change the path to your trained model)\n",
        "model = YOLO(\"/content/drive/MyDrive/YOLOResults/lane_obstacle_run7/weights/best.pt\")  # Ensure this is the correct model file\n",
        "\n",
        "# Run inference on an image\n",
        "results = model.predict(source=\"/content/drive/MyDrive/TestImage/output.mp4\", save=True, imgsz=1280)"
      ]
    },
    {
      "cell_type": "code",
      "execution_count": null,
      "metadata": {
        "colab": {
          "base_uri": "https://localhost:8080/"
        },
        "id": "ytSvs4wuBfqq",
        "outputId": "d717ded3-dfd7-4dc9-c170-3ef15ccab21e"
      },
      "outputs": [
        {
          "name": "stdout",
          "output_type": "stream",
          "text": [
            "\n",
            "0: 384x640 2 cars, 64.5ms\n",
            "Speed: 2.0ms preprocess, 64.5ms inference, 2.4ms postprocess per image at shape (1, 3, 384, 640)\n",
            "Moviepy - Building video /content/drive/MyDrive/TestImage/output.mp4.\n",
            "MoviePy - Writing audio in outputTEMP_MPY_wvf_snd.mp3\n"
          ]
        },
        {
          "name": "stderr",
          "output_type": "stream",
          "text": []
        },
        {
          "name": "stdout",
          "output_type": "stream",
          "text": [
            "MoviePy - Done.\n",
            "Moviepy - Writing video /content/drive/MyDrive/TestImage/output.mp4\n",
            "\n"
          ]
        },
        {
          "name": "stderr",
          "output_type": "stream",
          "text": [
            "\rt:   0%|          | 0/251 [00:00<?, ?it/s, now=None]"
          ]
        },
        {
          "name": "stdout",
          "output_type": "stream",
          "text": [
            "\n",
            "0: 384x640 2 cars, 9.6ms\n",
            "Speed: 3.4ms preprocess, 9.6ms inference, 1.6ms postprocess per image at shape (1, 3, 384, 640)\n",
            "\n",
            "0: 384x640 2 cars, 16.7ms\n",
            "Speed: 2.3ms preprocess, 16.7ms inference, 3.0ms postprocess per image at shape (1, 3, 384, 640)\n",
            "\n",
            "0: 384x640 2 cars, 10.7ms\n",
            "Speed: 4.0ms preprocess, 10.7ms inference, 1.5ms postprocess per image at shape (1, 3, 384, 640)\n"
          ]
        },
        {
          "name": "stderr",
          "output_type": "stream",
          "text": [
            "\rt:   2%|▏         | 4/251 [00:00<00:08, 28.22it/s, now=None]"
          ]
        },
        {
          "name": "stdout",
          "output_type": "stream",
          "text": [
            "\n",
            "0: 384x640 2 cars, 10.5ms\n",
            "Speed: 3.1ms preprocess, 10.5ms inference, 1.5ms postprocess per image at shape (1, 3, 384, 640)\n",
            "\n",
            "0: 384x640 2 cars, 19.8ms\n",
            "Speed: 7.6ms preprocess, 19.8ms inference, 2.5ms postprocess per image at shape (1, 3, 384, 640)\n",
            "\n",
            "0: 384x640 2 cars, 11.9ms\n",
            "Speed: 3.9ms preprocess, 11.9ms inference, 1.6ms postprocess per image at shape (1, 3, 384, 640)\n"
          ]
        },
        {
          "name": "stderr",
          "output_type": "stream",
          "text": [
            "\rt:   3%|▎         | 7/251 [00:00<00:11, 22.16it/s, now=None]"
          ]
        },
        {
          "name": "stdout",
          "output_type": "stream",
          "text": [
            "\n",
            "0: 384x640 2 cars, 11.0ms\n",
            "Speed: 4.9ms preprocess, 11.0ms inference, 1.5ms postprocess per image at shape (1, 3, 384, 640)\n",
            "\n",
            "0: 384x640 2 cars, 11.6ms\n",
            "Speed: 6.1ms preprocess, 11.6ms inference, 1.5ms postprocess per image at shape (1, 3, 384, 640)\n",
            "\n",
            "0: 384x640 2 cars, 10.5ms\n",
            "Speed: 3.1ms preprocess, 10.5ms inference, 1.6ms postprocess per image at shape (1, 3, 384, 640)\n"
          ]
        },
        {
          "name": "stderr",
          "output_type": "stream",
          "text": [
            "\rt:   4%|▍         | 10/251 [00:00<00:11, 21.85it/s, now=None]"
          ]
        },
        {
          "name": "stdout",
          "output_type": "stream",
          "text": [
            "\n",
            "0: 384x640 2 cars, 14.3ms\n",
            "Speed: 3.5ms preprocess, 14.3ms inference, 1.7ms postprocess per image at shape (1, 3, 384, 640)\n",
            "\n",
            "0: 384x640 2 cars, 10.3ms\n",
            "Speed: 3.8ms preprocess, 10.3ms inference, 1.6ms postprocess per image at shape (1, 3, 384, 640)\n",
            "\n",
            "0: 384x640 2 cars, 9.5ms\n",
            "Speed: 2.8ms preprocess, 9.5ms inference, 1.5ms postprocess per image at shape (1, 3, 384, 640)\n"
          ]
        },
        {
          "name": "stderr",
          "output_type": "stream",
          "text": [
            "\rt:   5%|▌         | 13/251 [00:00<00:11, 21.41it/s, now=None]"
          ]
        },
        {
          "name": "stdout",
          "output_type": "stream",
          "text": [
            "\n",
            "0: 384x640 2 cars, 13.5ms\n",
            "Speed: 3.8ms preprocess, 13.5ms inference, 1.6ms postprocess per image at shape (1, 3, 384, 640)\n",
            "\n",
            "0: 384x640 2 cars, 11.3ms\n",
            "Speed: 3.0ms preprocess, 11.3ms inference, 1.5ms postprocess per image at shape (1, 3, 384, 640)\n",
            "\n",
            "0: 384x640 2 cars, 11.8ms\n",
            "Speed: 6.1ms preprocess, 11.8ms inference, 1.6ms postprocess per image at shape (1, 3, 384, 640)\n"
          ]
        },
        {
          "name": "stderr",
          "output_type": "stream",
          "text": [
            "\rt:   6%|▋         | 16/251 [00:00<00:10, 21.52it/s, now=None]"
          ]
        },
        {
          "name": "stdout",
          "output_type": "stream",
          "text": [
            "\n",
            "0: 384x640 2 cars, 11.1ms\n",
            "Speed: 3.6ms preprocess, 11.1ms inference, 1.6ms postprocess per image at shape (1, 3, 384, 640)\n",
            "\n",
            "0: 384x640 2 cars, 12.4ms\n",
            "Speed: 2.7ms preprocess, 12.4ms inference, 1.6ms postprocess per image at shape (1, 3, 384, 640)\n",
            "\n",
            "0: 384x640 2 cars, 14.3ms\n",
            "Speed: 2.9ms preprocess, 14.3ms inference, 1.9ms postprocess per image at shape (1, 3, 384, 640)\n"
          ]
        },
        {
          "name": "stderr",
          "output_type": "stream",
          "text": [
            "\rt:   8%|▊         | 19/251 [00:00<00:10, 21.91it/s, now=None]"
          ]
        },
        {
          "name": "stdout",
          "output_type": "stream",
          "text": [
            "\n",
            "0: 384x640 2 cars, 13.9ms\n",
            "Speed: 2.5ms preprocess, 13.9ms inference, 2.1ms postprocess per image at shape (1, 3, 384, 640)\n",
            "\n",
            "0: 384x640 2 cars, 11.9ms\n",
            "Speed: 8.5ms preprocess, 11.9ms inference, 1.6ms postprocess per image at shape (1, 3, 384, 640)\n",
            "\n",
            "0: 384x640 2 cars, 16.6ms\n",
            "Speed: 3.1ms preprocess, 16.6ms inference, 1.7ms postprocess per image at shape (1, 3, 384, 640)\n"
          ]
        },
        {
          "name": "stderr",
          "output_type": "stream",
          "text": [
            "\rt:   9%|▉         | 22/251 [00:00<00:10, 21.95it/s, now=None]"
          ]
        },
        {
          "name": "stdout",
          "output_type": "stream",
          "text": [
            "\n",
            "0: 384x640 2 cars, 13.4ms\n",
            "Speed: 8.9ms preprocess, 13.4ms inference, 1.5ms postprocess per image at shape (1, 3, 384, 640)\n",
            "\n",
            "0: 384x640 2 cars, 13.7ms\n",
            "Speed: 3.7ms preprocess, 13.7ms inference, 1.5ms postprocess per image at shape (1, 3, 384, 640)\n",
            "\n",
            "0: 384x640 2 cars, 10.3ms\n",
            "Speed: 3.0ms preprocess, 10.3ms inference, 1.5ms postprocess per image at shape (1, 3, 384, 640)\n"
          ]
        },
        {
          "name": "stderr",
          "output_type": "stream",
          "text": [
            "\rt:  10%|▉         | 25/251 [00:01<00:10, 21.80it/s, now=None]"
          ]
        },
        {
          "name": "stdout",
          "output_type": "stream",
          "text": [
            "\n",
            "0: 384x640 3 cars, 10.2ms\n",
            "Speed: 3.6ms preprocess, 10.2ms inference, 1.5ms postprocess per image at shape (1, 3, 384, 640)\n",
            "\n",
            "0: 384x640 3 cars, 13.9ms\n",
            "Speed: 4.1ms preprocess, 13.9ms inference, 1.6ms postprocess per image at shape (1, 3, 384, 640)\n",
            "\n",
            "0: 384x640 3 cars, 17.3ms\n",
            "Speed: 3.2ms preprocess, 17.3ms inference, 2.3ms postprocess per image at shape (1, 3, 384, 640)\n"
          ]
        },
        {
          "name": "stderr",
          "output_type": "stream",
          "text": [
            "\rt:  11%|█         | 28/251 [00:01<00:10, 20.74it/s, now=None]"
          ]
        },
        {
          "name": "stdout",
          "output_type": "stream",
          "text": [
            "\n",
            "0: 384x640 2 cars, 12.3ms\n",
            "Speed: 3.9ms preprocess, 12.3ms inference, 1.5ms postprocess per image at shape (1, 3, 384, 640)\n",
            "\n",
            "0: 384x640 3 cars, 12.1ms\n",
            "Speed: 2.9ms preprocess, 12.1ms inference, 1.5ms postprocess per image at shape (1, 3, 384, 640)\n",
            "\n",
            "0: 384x640 3 cars, 15.4ms\n",
            "Speed: 3.3ms preprocess, 15.4ms inference, 1.6ms postprocess per image at shape (1, 3, 384, 640)\n"
          ]
        },
        {
          "name": "stderr",
          "output_type": "stream",
          "text": [
            "\rt:  12%|█▏        | 31/251 [00:01<00:10, 21.04it/s, now=None]"
          ]
        },
        {
          "name": "stdout",
          "output_type": "stream",
          "text": [
            "\n",
            "0: 384x640 3 cars, 10.5ms\n",
            "Speed: 3.4ms preprocess, 10.5ms inference, 1.6ms postprocess per image at shape (1, 3, 384, 640)\n",
            "\n",
            "0: 384x640 3 cars, 14.0ms\n",
            "Speed: 3.2ms preprocess, 14.0ms inference, 1.6ms postprocess per image at shape (1, 3, 384, 640)\n",
            "\n",
            "0: 384x640 3 cars, 10.3ms\n",
            "Speed: 3.6ms preprocess, 10.3ms inference, 1.6ms postprocess per image at shape (1, 3, 384, 640)\n"
          ]
        },
        {
          "name": "stderr",
          "output_type": "stream",
          "text": [
            "\rt:  14%|█▎        | 34/251 [00:01<00:10, 21.03it/s, now=None]"
          ]
        },
        {
          "name": "stdout",
          "output_type": "stream",
          "text": [
            "\n",
            "0: 384x640 3 cars, 12.6ms\n",
            "Speed: 3.3ms preprocess, 12.6ms inference, 1.6ms postprocess per image at shape (1, 3, 384, 640)\n",
            "\n",
            "0: 384x640 2 cars, 11.1ms\n",
            "Speed: 3.7ms preprocess, 11.1ms inference, 1.5ms postprocess per image at shape (1, 3, 384, 640)\n",
            "\n",
            "0: 384x640 2 cars, 12.5ms\n",
            "Speed: 3.8ms preprocess, 12.5ms inference, 1.7ms postprocess per image at shape (1, 3, 384, 640)\n"
          ]
        },
        {
          "name": "stderr",
          "output_type": "stream",
          "text": [
            "\rt:  15%|█▍        | 37/251 [00:01<00:10, 21.22it/s, now=None]"
          ]
        },
        {
          "name": "stdout",
          "output_type": "stream",
          "text": [
            "\n",
            "0: 384x640 2 cars, 12.0ms\n",
            "Speed: 6.2ms preprocess, 12.0ms inference, 1.6ms postprocess per image at shape (1, 3, 384, 640)\n",
            "\n",
            "0: 384x640 2 cars, 10.9ms\n",
            "Speed: 3.5ms preprocess, 10.9ms inference, 1.6ms postprocess per image at shape (1, 3, 384, 640)\n",
            "\n",
            "0: 384x640 2 cars, 15.7ms\n",
            "Speed: 3.1ms preprocess, 15.7ms inference, 1.6ms postprocess per image at shape (1, 3, 384, 640)\n"
          ]
        },
        {
          "name": "stderr",
          "output_type": "stream",
          "text": [
            "\rt:  16%|█▌        | 40/251 [00:01<00:09, 21.28it/s, now=None]"
          ]
        },
        {
          "name": "stdout",
          "output_type": "stream",
          "text": [
            "\n",
            "0: 384x640 2 cars, 12.0ms\n",
            "Speed: 5.7ms preprocess, 12.0ms inference, 1.5ms postprocess per image at shape (1, 3, 384, 640)\n",
            "\n",
            "0: 384x640 2 cars, 10.1ms\n",
            "Speed: 3.9ms preprocess, 10.1ms inference, 1.5ms postprocess per image at shape (1, 3, 384, 640)\n",
            "\n",
            "0: 384x640 2 cars, 12.2ms\n",
            "Speed: 10.6ms preprocess, 12.2ms inference, 1.6ms postprocess per image at shape (1, 3, 384, 640)\n"
          ]
        },
        {
          "name": "stderr",
          "output_type": "stream",
          "text": [
            "\rt:  17%|█▋        | 43/251 [00:02<00:09, 21.01it/s, now=None]"
          ]
        },
        {
          "name": "stdout",
          "output_type": "stream",
          "text": [
            "\n",
            "0: 384x640 2 cars, 18.1ms\n",
            "Speed: 3.5ms preprocess, 18.1ms inference, 2.0ms postprocess per image at shape (1, 3, 384, 640)\n",
            "\n",
            "0: 384x640 2 cars, 14.5ms\n",
            "Speed: 3.8ms preprocess, 14.5ms inference, 2.0ms postprocess per image at shape (1, 3, 384, 640)\n",
            "\n",
            "0: 384x640 2 cars, 12.8ms\n",
            "Speed: 3.6ms preprocess, 12.8ms inference, 1.9ms postprocess per image at shape (1, 3, 384, 640)\n"
          ]
        },
        {
          "name": "stderr",
          "output_type": "stream",
          "text": [
            "\rt:  18%|█▊        | 46/251 [00:02<00:12, 16.18it/s, now=None]"
          ]
        },
        {
          "name": "stdout",
          "output_type": "stream",
          "text": [
            "\n",
            "0: 384x640 3 cars, 23.9ms\n",
            "Speed: 6.1ms preprocess, 23.9ms inference, 2.7ms postprocess per image at shape (1, 3, 384, 640)\n",
            "\n",
            "0: 384x640 2 cars, 17.5ms\n",
            "Speed: 3.1ms preprocess, 17.5ms inference, 2.1ms postprocess per image at shape (1, 3, 384, 640)\n"
          ]
        },
        {
          "name": "stderr",
          "output_type": "stream",
          "text": [
            "\rt:  19%|█▉        | 48/251 [00:02<00:13, 15.50it/s, now=None]"
          ]
        },
        {
          "name": "stdout",
          "output_type": "stream",
          "text": [
            "\n",
            "0: 384x640 3 cars, 16.6ms\n",
            "Speed: 5.6ms preprocess, 16.6ms inference, 2.0ms postprocess per image at shape (1, 3, 384, 640)\n",
            "\n",
            "0: 384x640 2 cars, 16.6ms\n",
            "Speed: 5.4ms preprocess, 16.6ms inference, 2.6ms postprocess per image at shape (1, 3, 384, 640)\n"
          ]
        },
        {
          "name": "stderr",
          "output_type": "stream",
          "text": [
            "\rt:  20%|█▉        | 50/251 [00:02<00:13, 15.21it/s, now=None]"
          ]
        },
        {
          "name": "stdout",
          "output_type": "stream",
          "text": [
            "\n",
            "0: 384x640 2 cars, 13.8ms\n",
            "Speed: 4.9ms preprocess, 13.8ms inference, 2.6ms postprocess per image at shape (1, 3, 384, 640)\n",
            "\n",
            "0: 384x640 2 cars, 32.8ms\n",
            "Speed: 15.2ms preprocess, 32.8ms inference, 12.4ms postprocess per image at shape (1, 3, 384, 640)\n"
          ]
        },
        {
          "name": "stderr",
          "output_type": "stream",
          "text": [
            "\rt:  21%|██        | 52/251 [00:02<00:14, 13.85it/s, now=None]"
          ]
        },
        {
          "name": "stdout",
          "output_type": "stream",
          "text": [
            "\n",
            "0: 384x640 2 cars, 18.1ms\n",
            "Speed: 5.2ms preprocess, 18.1ms inference, 2.4ms postprocess per image at shape (1, 3, 384, 640)\n",
            "\n",
            "0: 384x640 2 cars, 24.3ms\n",
            "Speed: 13.5ms preprocess, 24.3ms inference, 2.3ms postprocess per image at shape (1, 3, 384, 640)\n"
          ]
        },
        {
          "name": "stderr",
          "output_type": "stream",
          "text": [
            "\rt:  22%|██▏       | 54/251 [00:02<00:15, 12.61it/s, now=None]"
          ]
        },
        {
          "name": "stdout",
          "output_type": "stream",
          "text": [
            "\n",
            "0: 384x640 2 cars, 53.7ms\n",
            "Speed: 5.3ms preprocess, 53.7ms inference, 21.4ms postprocess per image at shape (1, 3, 384, 640)\n",
            "\n",
            "0: 384x640 2 cars, 36.2ms\n",
            "Speed: 3.5ms preprocess, 36.2ms inference, 2.3ms postprocess per image at shape (1, 3, 384, 640)\n"
          ]
        },
        {
          "name": "stderr",
          "output_type": "stream",
          "text": [
            "\rt:  22%|██▏       | 56/251 [00:03<00:18, 10.69it/s, now=None]"
          ]
        },
        {
          "name": "stdout",
          "output_type": "stream",
          "text": [
            "\n",
            "0: 384x640 3 cars, 35.8ms\n",
            "Speed: 7.7ms preprocess, 35.8ms inference, 2.0ms postprocess per image at shape (1, 3, 384, 640)\n",
            "\n",
            "0: 384x640 3 cars, 18.5ms\n",
            "Speed: 7.2ms preprocess, 18.5ms inference, 2.4ms postprocess per image at shape (1, 3, 384, 640)\n"
          ]
        },
        {
          "name": "stderr",
          "output_type": "stream",
          "text": [
            "\rt:  23%|██▎       | 58/251 [00:03<00:19,  9.85it/s, now=None]"
          ]
        },
        {
          "name": "stdout",
          "output_type": "stream",
          "text": [
            "\n",
            "0: 384x640 2 cars, 18.0ms\n",
            "Speed: 3.8ms preprocess, 18.0ms inference, 2.4ms postprocess per image at shape (1, 3, 384, 640)\n",
            "\n",
            "0: 384x640 2 cars, 14.0ms\n",
            "Speed: 3.2ms preprocess, 14.0ms inference, 2.3ms postprocess per image at shape (1, 3, 384, 640)\n"
          ]
        },
        {
          "name": "stderr",
          "output_type": "stream",
          "text": [
            "\rt:  24%|██▍       | 60/251 [00:03<00:17, 10.84it/s, now=None]"
          ]
        },
        {
          "name": "stdout",
          "output_type": "stream",
          "text": [
            "\n",
            "0: 384x640 3 cars, 15.8ms\n",
            "Speed: 6.1ms preprocess, 15.8ms inference, 2.3ms postprocess per image at shape (1, 3, 384, 640)\n",
            "\n",
            "0: 384x640 2 cars, 14.8ms\n",
            "Speed: 6.0ms preprocess, 14.8ms inference, 2.2ms postprocess per image at shape (1, 3, 384, 640)\n"
          ]
        },
        {
          "name": "stderr",
          "output_type": "stream",
          "text": [
            "\rt:  25%|██▍       | 62/251 [00:03<00:16, 11.61it/s, now=None]"
          ]
        },
        {
          "name": "stdout",
          "output_type": "stream",
          "text": [
            "\n",
            "0: 384x640 2 cars, 20.2ms\n",
            "Speed: 2.9ms preprocess, 20.2ms inference, 2.3ms postprocess per image at shape (1, 3, 384, 640)\n",
            "\n",
            "0: 384x640 2 cars, 27.8ms\n",
            "Speed: 5.3ms preprocess, 27.8ms inference, 2.4ms postprocess per image at shape (1, 3, 384, 640)\n"
          ]
        },
        {
          "name": "stderr",
          "output_type": "stream",
          "text": [
            "\rt:  25%|██▌       | 64/251 [00:03<00:17, 10.72it/s, now=None]"
          ]
        },
        {
          "name": "stdout",
          "output_type": "stream",
          "text": [
            "\n",
            "0: 384x640 3 cars, 42.8ms\n",
            "Speed: 7.8ms preprocess, 42.8ms inference, 2.2ms postprocess per image at shape (1, 3, 384, 640)\n",
            "\n",
            "0: 384x640 3 cars, 39.8ms\n",
            "Speed: 4.2ms preprocess, 39.8ms inference, 2.2ms postprocess per image at shape (1, 3, 384, 640)\n"
          ]
        },
        {
          "name": "stderr",
          "output_type": "stream",
          "text": [
            "\rt:  26%|██▋       | 66/251 [00:04<00:20,  9.04it/s, now=None]"
          ]
        },
        {
          "name": "stdout",
          "output_type": "stream",
          "text": [
            "\n",
            "0: 384x640 3 cars, 35.2ms\n",
            "Speed: 4.8ms preprocess, 35.2ms inference, 2.3ms postprocess per image at shape (1, 3, 384, 640)\n"
          ]
        },
        {
          "name": "stderr",
          "output_type": "stream",
          "text": [
            "\rt:  27%|██▋       | 67/251 [00:04<00:20,  9.14it/s, now=None]"
          ]
        },
        {
          "name": "stdout",
          "output_type": "stream",
          "text": [
            "\n",
            "0: 384x640 2 cars, 15.4ms\n",
            "Speed: 4.0ms preprocess, 15.4ms inference, 2.2ms postprocess per image at shape (1, 3, 384, 640)\n",
            "\n",
            "0: 384x640 3 cars, 29.5ms\n",
            "Speed: 6.4ms preprocess, 29.5ms inference, 2.4ms postprocess per image at shape (1, 3, 384, 640)\n"
          ]
        },
        {
          "name": "stderr",
          "output_type": "stream",
          "text": [
            "\rt:  27%|██▋       | 69/251 [00:04<00:18,  9.80it/s, now=None]"
          ]
        },
        {
          "name": "stdout",
          "output_type": "stream",
          "text": [
            "\n",
            "0: 384x640 2 cars, 35.2ms\n",
            "Speed: 3.7ms preprocess, 35.2ms inference, 8.1ms postprocess per image at shape (1, 3, 384, 640)\n",
            "\n",
            "0: 384x640 2 cars, 36.5ms\n",
            "Speed: 13.9ms preprocess, 36.5ms inference, 2.2ms postprocess per image at shape (1, 3, 384, 640)\n"
          ]
        },
        {
          "name": "stderr",
          "output_type": "stream",
          "text": [
            "\rt:  28%|██▊       | 71/251 [00:04<00:19,  9.13it/s, now=None]"
          ]
        },
        {
          "name": "stdout",
          "output_type": "stream",
          "text": [
            "\n",
            "0: 384x640 2 cars, 32.0ms\n",
            "Speed: 4.7ms preprocess, 32.0ms inference, 2.3ms postprocess per image at shape (1, 3, 384, 640)\n"
          ]
        },
        {
          "name": "stderr",
          "output_type": "stream",
          "text": [
            "\rt:  29%|██▊       | 72/251 [00:04<00:19,  8.95it/s, now=None]"
          ]
        },
        {
          "name": "stdout",
          "output_type": "stream",
          "text": [
            "\n",
            "0: 384x640 3 cars, 32.7ms\n",
            "Speed: 4.5ms preprocess, 32.7ms inference, 8.0ms postprocess per image at shape (1, 3, 384, 640)\n"
          ]
        },
        {
          "name": "stderr",
          "output_type": "stream",
          "text": [
            "\rt:  29%|██▉       | 73/251 [00:05<00:21,  8.46it/s, now=None]"
          ]
        },
        {
          "name": "stdout",
          "output_type": "stream",
          "text": [
            "\n",
            "0: 384x640 2 cars, 36.8ms\n",
            "Speed: 4.3ms preprocess, 36.8ms inference, 2.2ms postprocess per image at shape (1, 3, 384, 640)\n"
          ]
        },
        {
          "name": "stderr",
          "output_type": "stream",
          "text": [
            "\rt:  29%|██▉       | 74/251 [00:05<00:21,  8.43it/s, now=None]"
          ]
        },
        {
          "name": "stdout",
          "output_type": "stream",
          "text": [
            "\n",
            "0: 384x640 2 cars, 21.5ms\n",
            "Speed: 5.2ms preprocess, 21.5ms inference, 2.3ms postprocess per image at shape (1, 3, 384, 640)\n",
            "\n",
            "0: 384x640 2 cars, 25.0ms\n",
            "Speed: 5.1ms preprocess, 25.0ms inference, 2.4ms postprocess per image at shape (1, 3, 384, 640)\n"
          ]
        },
        {
          "name": "stderr",
          "output_type": "stream",
          "text": [
            "\rt:  30%|███       | 76/251 [00:05<00:19,  8.98it/s, now=None]"
          ]
        },
        {
          "name": "stdout",
          "output_type": "stream",
          "text": [
            "\n",
            "0: 384x640 2 cars, 44.3ms\n",
            "Speed: 10.4ms preprocess, 44.3ms inference, 2.4ms postprocess per image at shape (1, 3, 384, 640)\n"
          ]
        },
        {
          "name": "stderr",
          "output_type": "stream",
          "text": [
            "\rt:  31%|███       | 77/251 [00:05<00:22,  7.79it/s, now=None]"
          ]
        },
        {
          "name": "stdout",
          "output_type": "stream",
          "text": [
            "\n",
            "0: 384x640 2 cars, 54.8ms\n",
            "Speed: 7.0ms preprocess, 54.8ms inference, 5.8ms postprocess per image at shape (1, 3, 384, 640)\n"
          ]
        },
        {
          "name": "stderr",
          "output_type": "stream",
          "text": [
            "\rt:  31%|███       | 78/251 [00:05<00:24,  7.10it/s, now=None]"
          ]
        },
        {
          "name": "stdout",
          "output_type": "stream",
          "text": [
            "\n",
            "0: 384x640 2 cars, 155.0ms\n",
            "Speed: 10.1ms preprocess, 155.0ms inference, 13.4ms postprocess per image at shape (1, 3, 384, 640)\n"
          ]
        },
        {
          "name": "stderr",
          "output_type": "stream",
          "text": [
            "\rt:  31%|███▏      | 79/251 [00:06<00:31,  5.45it/s, now=None]"
          ]
        },
        {
          "name": "stdout",
          "output_type": "stream",
          "text": [
            "\n",
            "0: 384x640 3 cars, 26.8ms\n",
            "Speed: 2.9ms preprocess, 26.8ms inference, 3.8ms postprocess per image at shape (1, 3, 384, 640)\n"
          ]
        },
        {
          "name": "stderr",
          "output_type": "stream",
          "text": [
            "\rt:  32%|███▏      | 80/251 [00:06<00:28,  5.99it/s, now=None]"
          ]
        },
        {
          "name": "stdout",
          "output_type": "stream",
          "text": [
            "\n",
            "0: 384x640 4 cars, 55.3ms\n",
            "Speed: 10.3ms preprocess, 55.3ms inference, 12.3ms postprocess per image at shape (1, 3, 384, 640)\n"
          ]
        },
        {
          "name": "stderr",
          "output_type": "stream",
          "text": [
            "\rt:  32%|███▏      | 81/251 [00:06<00:28,  5.95it/s, now=None]"
          ]
        },
        {
          "name": "stdout",
          "output_type": "stream",
          "text": [
            "\n",
            "0: 384x640 4 cars, 34.3ms\n",
            "Speed: 10.7ms preprocess, 34.3ms inference, 2.2ms postprocess per image at shape (1, 3, 384, 640)\n"
          ]
        },
        {
          "name": "stderr",
          "output_type": "stream",
          "text": [
            "\rt:  33%|███▎      | 82/251 [00:06<00:27,  6.12it/s, now=None]"
          ]
        },
        {
          "name": "stdout",
          "output_type": "stream",
          "text": [
            "\n",
            "0: 384x640 2 cars, 54.1ms\n",
            "Speed: 11.1ms preprocess, 54.1ms inference, 7.4ms postprocess per image at shape (1, 3, 384, 640)\n"
          ]
        },
        {
          "name": "stderr",
          "output_type": "stream",
          "text": [
            "\rt:  33%|███▎      | 83/251 [00:06<00:28,  5.92it/s, now=None]"
          ]
        },
        {
          "name": "stdout",
          "output_type": "stream",
          "text": [
            "\n",
            "0: 384x640 3 cars, 44.5ms\n",
            "Speed: 7.5ms preprocess, 44.5ms inference, 2.4ms postprocess per image at shape (1, 3, 384, 640)\n"
          ]
        },
        {
          "name": "stderr",
          "output_type": "stream",
          "text": [
            "\rt:  33%|███▎      | 84/251 [00:06<00:27,  6.18it/s, now=None]"
          ]
        },
        {
          "name": "stdout",
          "output_type": "stream",
          "text": [
            "\n",
            "0: 384x640 2 cars, 59.5ms\n",
            "Speed: 13.0ms preprocess, 59.5ms inference, 11.2ms postprocess per image at shape (1, 3, 384, 640)\n"
          ]
        },
        {
          "name": "stderr",
          "output_type": "stream",
          "text": [
            "\rt:  34%|███▍      | 85/251 [00:07<00:29,  5.69it/s, now=None]"
          ]
        },
        {
          "name": "stdout",
          "output_type": "stream",
          "text": [
            "\n",
            "0: 384x640 2 cars, 31.1ms\n",
            "Speed: 12.7ms preprocess, 31.1ms inference, 2.4ms postprocess per image at shape (1, 3, 384, 640)\n"
          ]
        },
        {
          "name": "stderr",
          "output_type": "stream",
          "text": [
            "\rt:  34%|███▍      | 86/251 [00:07<00:27,  6.10it/s, now=None]"
          ]
        },
        {
          "name": "stdout",
          "output_type": "stream",
          "text": [
            "\n",
            "0: 384x640 2 cars, 31.8ms\n",
            "Speed: 3.7ms preprocess, 31.8ms inference, 2.6ms postprocess per image at shape (1, 3, 384, 640)\n"
          ]
        },
        {
          "name": "stderr",
          "output_type": "stream",
          "text": [
            "\rt:  35%|███▍      | 87/251 [00:07<00:24,  6.78it/s, now=None]"
          ]
        },
        {
          "name": "stdout",
          "output_type": "stream",
          "text": [
            "\n",
            "0: 384x640 2 cars, 18.4ms\n",
            "Speed: 5.2ms preprocess, 18.4ms inference, 2.5ms postprocess per image at shape (1, 3, 384, 640)\n",
            "\n",
            "0: 384x640 2 cars, 23.9ms\n",
            "Speed: 6.1ms preprocess, 23.9ms inference, 2.0ms postprocess per image at shape (1, 3, 384, 640)\n"
          ]
        },
        {
          "name": "stderr",
          "output_type": "stream",
          "text": [
            "\rt:  35%|███▌      | 89/251 [00:07<00:19,  8.29it/s, now=None]"
          ]
        },
        {
          "name": "stdout",
          "output_type": "stream",
          "text": [
            "\n",
            "0: 384x640 2 cars, 57.0ms\n",
            "Speed: 3.2ms preprocess, 57.0ms inference, 2.3ms postprocess per image at shape (1, 3, 384, 640)\n"
          ]
        },
        {
          "name": "stderr",
          "output_type": "stream",
          "text": [
            "\rt:  36%|███▌      | 90/251 [00:07<00:20,  7.79it/s, now=None]"
          ]
        },
        {
          "name": "stdout",
          "output_type": "stream",
          "text": [
            "\n",
            "0: 384x640 3 cars, 38.2ms\n",
            "Speed: 3.5ms preprocess, 38.2ms inference, 2.9ms postprocess per image at shape (1, 3, 384, 640)\n"
          ]
        },
        {
          "name": "stderr",
          "output_type": "stream",
          "text": [
            "\rt:  36%|███▋      | 91/251 [00:07<00:20,  7.90it/s, now=None]"
          ]
        },
        {
          "name": "stdout",
          "output_type": "stream",
          "text": [
            "\n",
            "0: 384x640 2 cars, 18.8ms\n",
            "Speed: 4.2ms preprocess, 18.8ms inference, 2.2ms postprocess per image at shape (1, 3, 384, 640)\n"
          ]
        },
        {
          "name": "stderr",
          "output_type": "stream",
          "text": [
            "\rt:  37%|███▋      | 92/251 [00:07<00:19,  8.07it/s, now=None]"
          ]
        },
        {
          "name": "stdout",
          "output_type": "stream",
          "text": [
            "\n",
            "0: 384x640 4 cars, 17.1ms\n",
            "Speed: 6.4ms preprocess, 17.1ms inference, 2.3ms postprocess per image at shape (1, 3, 384, 640)\n",
            "\n",
            "0: 384x640 3 cars, 32.5ms\n",
            "Speed: 3.7ms preprocess, 32.5ms inference, 2.5ms postprocess per image at shape (1, 3, 384, 640)\n"
          ]
        },
        {
          "name": "stderr",
          "output_type": "stream",
          "text": [
            "\rt:  37%|███▋      | 94/251 [00:08<00:18,  8.60it/s, now=None]"
          ]
        },
        {
          "name": "stdout",
          "output_type": "stream",
          "text": [
            "\n",
            "0: 384x640 3 cars, 25.8ms\n",
            "Speed: 3.4ms preprocess, 25.8ms inference, 2.5ms postprocess per image at shape (1, 3, 384, 640)\n",
            "\n",
            "0: 384x640 3 cars, 15.6ms\n",
            "Speed: 3.8ms preprocess, 15.6ms inference, 2.2ms postprocess per image at shape (1, 3, 384, 640)\n"
          ]
        },
        {
          "name": "stderr",
          "output_type": "stream",
          "text": [
            "\rt:  38%|███▊      | 96/251 [00:08<00:16,  9.13it/s, now=None]"
          ]
        },
        {
          "name": "stdout",
          "output_type": "stream",
          "text": [
            "\n",
            "0: 384x640 3 cars, 35.7ms\n",
            "Speed: 8.8ms preprocess, 35.7ms inference, 2.4ms postprocess per image at shape (1, 3, 384, 640)\n"
          ]
        },
        {
          "name": "stderr",
          "output_type": "stream",
          "text": [
            "\rt:  39%|███▊      | 97/251 [00:08<00:17,  8.66it/s, now=None]"
          ]
        },
        {
          "name": "stdout",
          "output_type": "stream",
          "text": [
            "\n",
            "0: 384x640 3 cars, 21.8ms\n",
            "Speed: 3.1ms preprocess, 21.8ms inference, 2.5ms postprocess per image at shape (1, 3, 384, 640)\n"
          ]
        },
        {
          "name": "stderr",
          "output_type": "stream",
          "text": [
            "\rt:  39%|███▉      | 98/251 [00:08<00:17,  8.57it/s, now=None]"
          ]
        },
        {
          "name": "stdout",
          "output_type": "stream",
          "text": [
            "\n",
            "0: 384x640 3 cars, 29.2ms\n",
            "Speed: 3.6ms preprocess, 29.2ms inference, 2.5ms postprocess per image at shape (1, 3, 384, 640)\n",
            "\n",
            "0: 384x640 3 cars, 23.1ms\n",
            "Speed: 3.5ms preprocess, 23.1ms inference, 2.5ms postprocess per image at shape (1, 3, 384, 640)\n"
          ]
        },
        {
          "name": "stderr",
          "output_type": "stream",
          "text": [
            "\rt:  40%|███▉      | 100/251 [00:08<00:16,  8.97it/s, now=None]"
          ]
        },
        {
          "name": "stdout",
          "output_type": "stream",
          "text": [
            "\n",
            "0: 384x640 4 cars, 41.3ms\n",
            "Speed: 9.0ms preprocess, 41.3ms inference, 2.4ms postprocess per image at shape (1, 3, 384, 640)\n"
          ]
        },
        {
          "name": "stderr",
          "output_type": "stream",
          "text": [
            "\rt:  40%|████      | 101/251 [00:08<00:17,  8.36it/s, now=None]"
          ]
        },
        {
          "name": "stdout",
          "output_type": "stream",
          "text": [
            "\n",
            "0: 384x640 3 cars, 18.6ms\n",
            "Speed: 3.5ms preprocess, 18.6ms inference, 2.4ms postprocess per image at shape (1, 3, 384, 640)\n",
            "\n",
            "0: 384x640 3 cars, 20.3ms\n",
            "Speed: 5.4ms preprocess, 20.3ms inference, 2.3ms postprocess per image at shape (1, 3, 384, 640)\n"
          ]
        },
        {
          "name": "stderr",
          "output_type": "stream",
          "text": [
            "\rt:  41%|████      | 103/251 [00:09<00:15,  9.57it/s, now=None]"
          ]
        },
        {
          "name": "stdout",
          "output_type": "stream",
          "text": [
            "\n",
            "0: 384x640 3 cars, 20.1ms\n",
            "Speed: 3.7ms preprocess, 20.1ms inference, 2.4ms postprocess per image at shape (1, 3, 384, 640)\n",
            "\n",
            "0: 384x640 3 cars, 16.5ms\n",
            "Speed: 3.0ms preprocess, 16.5ms inference, 2.3ms postprocess per image at shape (1, 3, 384, 640)\n"
          ]
        },
        {
          "name": "stderr",
          "output_type": "stream",
          "text": [
            "\rt:  42%|████▏     | 105/251 [00:09<00:15,  9.67it/s, now=None]"
          ]
        },
        {
          "name": "stdout",
          "output_type": "stream",
          "text": [
            "\n",
            "0: 384x640 3 cars, 27.7ms\n",
            "Speed: 3.6ms preprocess, 27.7ms inference, 2.3ms postprocess per image at shape (1, 3, 384, 640)\n"
          ]
        },
        {
          "name": "stderr",
          "output_type": "stream",
          "text": [
            "\rt:  42%|████▏     | 106/251 [00:09<00:15,  9.07it/s, now=None]"
          ]
        },
        {
          "name": "stdout",
          "output_type": "stream",
          "text": [
            "\n",
            "0: 384x640 3 cars, 25.2ms\n",
            "Speed: 3.7ms preprocess, 25.2ms inference, 2.4ms postprocess per image at shape (1, 3, 384, 640)\n",
            "\n",
            "0: 384x640 3 cars, 15.8ms\n",
            "Speed: 3.2ms preprocess, 15.8ms inference, 8.1ms postprocess per image at shape (1, 3, 384, 640)\n"
          ]
        },
        {
          "name": "stderr",
          "output_type": "stream",
          "text": [
            "\rt:  43%|████▎     | 108/251 [00:09<00:15,  9.23it/s, now=None]"
          ]
        },
        {
          "name": "stdout",
          "output_type": "stream",
          "text": [
            "\n",
            "0: 384x640 3 cars, 52.4ms\n",
            "Speed: 4.2ms preprocess, 52.4ms inference, 12.5ms postprocess per image at shape (1, 3, 384, 640)\n"
          ]
        },
        {
          "name": "stderr",
          "output_type": "stream",
          "text": [
            "\rt:  43%|████▎     | 109/251 [00:09<00:17,  8.27it/s, now=None]"
          ]
        },
        {
          "name": "stdout",
          "output_type": "stream",
          "text": [
            "\n",
            "0: 384x640 3 cars, 60.0ms\n",
            "Speed: 23.5ms preprocess, 60.0ms inference, 3.1ms postprocess per image at shape (1, 3, 384, 640)\n"
          ]
        },
        {
          "name": "stderr",
          "output_type": "stream",
          "text": [
            "\rt:  44%|████▍     | 110/251 [00:09<00:18,  7.53it/s, now=None]"
          ]
        },
        {
          "name": "stdout",
          "output_type": "stream",
          "text": [
            "\n",
            "0: 384x640 4 cars, 55.4ms\n",
            "Speed: 4.1ms preprocess, 55.4ms inference, 15.1ms postprocess per image at shape (1, 3, 384, 640)\n"
          ]
        },
        {
          "name": "stderr",
          "output_type": "stream",
          "text": [
            "\rt:  44%|████▍     | 111/251 [00:10<00:19,  7.08it/s, now=None]"
          ]
        },
        {
          "name": "stdout",
          "output_type": "stream",
          "text": [
            "\n",
            "0: 384x640 4 cars, 64.3ms\n",
            "Speed: 3.3ms preprocess, 64.3ms inference, 11.7ms postprocess per image at shape (1, 3, 384, 640)\n"
          ]
        },
        {
          "name": "stderr",
          "output_type": "stream",
          "text": [
            "\rt:  45%|████▍     | 112/251 [00:10<00:22,  6.27it/s, now=None]"
          ]
        },
        {
          "name": "stdout",
          "output_type": "stream",
          "text": [
            "\n",
            "0: 384x640 4 cars, 67.0ms\n",
            "Speed: 12.5ms preprocess, 67.0ms inference, 2.1ms postprocess per image at shape (1, 3, 384, 640)\n"
          ]
        },
        {
          "name": "stderr",
          "output_type": "stream",
          "text": [
            "\rt:  45%|████▌     | 113/251 [00:10<00:24,  5.59it/s, now=None]"
          ]
        },
        {
          "name": "stdout",
          "output_type": "stream",
          "text": [
            "\n",
            "0: 384x640 3 cars, 44.8ms\n",
            "Speed: 13.7ms preprocess, 44.8ms inference, 7.1ms postprocess per image at shape (1, 3, 384, 640)\n"
          ]
        },
        {
          "name": "stderr",
          "output_type": "stream",
          "text": [
            "\rt:  45%|████▌     | 114/251 [00:10<00:24,  5.61it/s, now=None]"
          ]
        },
        {
          "name": "stdout",
          "output_type": "stream",
          "text": [
            "\n",
            "0: 384x640 3 cars, 33.6ms\n",
            "Speed: 16.1ms preprocess, 33.6ms inference, 12.0ms postprocess per image at shape (1, 3, 384, 640)\n"
          ]
        },
        {
          "name": "stderr",
          "output_type": "stream",
          "text": [
            "\rt:  46%|████▌     | 115/251 [00:10<00:23,  5.88it/s, now=None]"
          ]
        },
        {
          "name": "stdout",
          "output_type": "stream",
          "text": [
            "\n",
            "0: 384x640 3 cars, 61.9ms\n",
            "Speed: 8.6ms preprocess, 61.9ms inference, 7.0ms postprocess per image at shape (1, 3, 384, 640)\n"
          ]
        },
        {
          "name": "stderr",
          "output_type": "stream",
          "text": [
            "\rt:  46%|████▌     | 116/251 [00:11<00:23,  5.64it/s, now=None]"
          ]
        },
        {
          "name": "stdout",
          "output_type": "stream",
          "text": [
            "\n",
            "0: 384x640 3 cars, 50.5ms\n",
            "Speed: 10.5ms preprocess, 50.5ms inference, 24.5ms postprocess per image at shape (1, 3, 384, 640)\n"
          ]
        },
        {
          "name": "stderr",
          "output_type": "stream",
          "text": [
            "\rt:  47%|████▋     | 117/251 [00:11<00:26,  5.14it/s, now=None]"
          ]
        },
        {
          "name": "stdout",
          "output_type": "stream",
          "text": [
            "\n",
            "0: 384x640 5 cars, 61.5ms\n",
            "Speed: 17.2ms preprocess, 61.5ms inference, 8.7ms postprocess per image at shape (1, 3, 384, 640)\n"
          ]
        },
        {
          "name": "stderr",
          "output_type": "stream",
          "text": [
            "\rt:  47%|████▋     | 118/251 [00:11<00:25,  5.19it/s, now=None]"
          ]
        },
        {
          "name": "stdout",
          "output_type": "stream",
          "text": [
            "\n",
            "0: 384x640 3 cars, 44.6ms\n",
            "Speed: 4.8ms preprocess, 44.6ms inference, 2.3ms postprocess per image at shape (1, 3, 384, 640)\n"
          ]
        },
        {
          "name": "stderr",
          "output_type": "stream",
          "text": [
            "\rt:  47%|████▋     | 119/251 [00:11<00:23,  5.71it/s, now=None]"
          ]
        },
        {
          "name": "stdout",
          "output_type": "stream",
          "text": [
            "\n",
            "0: 384x640 2 cars, 41.5ms\n",
            "Speed: 17.2ms preprocess, 41.5ms inference, 2.4ms postprocess per image at shape (1, 3, 384, 640)\n"
          ]
        },
        {
          "name": "stderr",
          "output_type": "stream",
          "text": [
            "\rt:  48%|████▊     | 120/251 [00:11<00:21,  5.98it/s, now=None]"
          ]
        },
        {
          "name": "stdout",
          "output_type": "stream",
          "text": [
            "\n",
            "0: 384x640 4 cars, 47.0ms\n",
            "Speed: 13.5ms preprocess, 47.0ms inference, 11.5ms postprocess per image at shape (1, 3, 384, 640)\n"
          ]
        },
        {
          "name": "stderr",
          "output_type": "stream",
          "text": [
            "\rt:  48%|████▊     | 121/251 [00:11<00:23,  5.63it/s, now=None]"
          ]
        },
        {
          "name": "stdout",
          "output_type": "stream",
          "text": [
            "\n",
            "0: 384x640 2 cars, 59.0ms\n",
            "Speed: 10.6ms preprocess, 59.0ms inference, 2.0ms postprocess per image at shape (1, 3, 384, 640)\n"
          ]
        },
        {
          "name": "stderr",
          "output_type": "stream",
          "text": [
            "\rt:  49%|████▊     | 122/251 [00:12<00:25,  5.04it/s, now=None]"
          ]
        },
        {
          "name": "stdout",
          "output_type": "stream",
          "text": [
            "\n",
            "0: 384x640 4 cars, 40.4ms\n",
            "Speed: 12.3ms preprocess, 40.4ms inference, 6.3ms postprocess per image at shape (1, 3, 384, 640)\n"
          ]
        },
        {
          "name": "stderr",
          "output_type": "stream",
          "text": [
            "\rt:  49%|████▉     | 123/251 [00:12<00:23,  5.46it/s, now=None]"
          ]
        },
        {
          "name": "stdout",
          "output_type": "stream",
          "text": [
            "\n",
            "0: 384x640 4 cars, 80.7ms\n",
            "Speed: 10.8ms preprocess, 80.7ms inference, 14.3ms postprocess per image at shape (1, 3, 384, 640)\n"
          ]
        },
        {
          "name": "stderr",
          "output_type": "stream",
          "text": [
            "\rt:  49%|████▉     | 124/251 [00:12<00:25,  5.01it/s, now=None]"
          ]
        },
        {
          "name": "stdout",
          "output_type": "stream",
          "text": [
            "\n",
            "0: 384x640 3 cars, 37.0ms\n",
            "Speed: 10.5ms preprocess, 37.0ms inference, 7.7ms postprocess per image at shape (1, 3, 384, 640)\n"
          ]
        },
        {
          "name": "stderr",
          "output_type": "stream",
          "text": [
            "\rt:  50%|████▉     | 125/251 [00:12<00:24,  5.06it/s, now=None]"
          ]
        },
        {
          "name": "stdout",
          "output_type": "stream",
          "text": [
            "\n",
            "0: 384x640 3 cars, 44.2ms\n",
            "Speed: 3.4ms preprocess, 44.2ms inference, 1.9ms postprocess per image at shape (1, 3, 384, 640)\n"
          ]
        },
        {
          "name": "stderr",
          "output_type": "stream",
          "text": [
            "\rt:  50%|█████     | 126/251 [00:12<00:22,  5.45it/s, now=None]"
          ]
        },
        {
          "name": "stdout",
          "output_type": "stream",
          "text": [
            "\n",
            "0: 384x640 4 cars, 42.0ms\n",
            "Speed: 10.9ms preprocess, 42.0ms inference, 9.7ms postprocess per image at shape (1, 3, 384, 640)\n"
          ]
        },
        {
          "name": "stderr",
          "output_type": "stream",
          "text": [
            "\rt:  51%|█████     | 127/251 [00:13<00:21,  5.71it/s, now=None]"
          ]
        },
        {
          "name": "stdout",
          "output_type": "stream",
          "text": [
            "\n",
            "0: 384x640 3 cars, 43.6ms\n",
            "Speed: 12.3ms preprocess, 43.6ms inference, 2.1ms postprocess per image at shape (1, 3, 384, 640)\n"
          ]
        },
        {
          "name": "stderr",
          "output_type": "stream",
          "text": [
            "\rt:  51%|█████     | 128/251 [00:13<00:21,  5.85it/s, now=None]"
          ]
        },
        {
          "name": "stdout",
          "output_type": "stream",
          "text": [
            "\n",
            "0: 384x640 5 cars, 28.3ms\n",
            "Speed: 13.5ms preprocess, 28.3ms inference, 2.1ms postprocess per image at shape (1, 3, 384, 640)\n"
          ]
        },
        {
          "name": "stderr",
          "output_type": "stream",
          "text": [
            "\rt:  51%|█████▏    | 129/251 [00:13<00:21,  5.65it/s, now=None]"
          ]
        },
        {
          "name": "stdout",
          "output_type": "stream",
          "text": [
            "\n",
            "0: 384x640 4 cars, 39.2ms\n",
            "Speed: 8.5ms preprocess, 39.2ms inference, 17.2ms postprocess per image at shape (1, 3, 384, 640)\n"
          ]
        },
        {
          "name": "stderr",
          "output_type": "stream",
          "text": [
            "\rt:  52%|█████▏    | 130/251 [00:13<00:23,  5.06it/s, now=None]"
          ]
        },
        {
          "name": "stdout",
          "output_type": "stream",
          "text": [
            "\n",
            "0: 384x640 5 cars, 54.7ms\n",
            "Speed: 7.6ms preprocess, 54.7ms inference, 2.0ms postprocess per image at shape (1, 3, 384, 640)\n"
          ]
        },
        {
          "name": "stderr",
          "output_type": "stream",
          "text": [
            "\rt:  52%|█████▏    | 131/251 [00:13<00:24,  4.89it/s, now=None]"
          ]
        },
        {
          "name": "stdout",
          "output_type": "stream",
          "text": [
            "\n",
            "0: 384x640 6 cars, 52.4ms\n",
            "Speed: 7.1ms preprocess, 52.4ms inference, 16.1ms postprocess per image at shape (1, 3, 384, 640)\n"
          ]
        },
        {
          "name": "stderr",
          "output_type": "stream",
          "text": [
            "\rt:  53%|█████▎    | 132/251 [00:14<00:25,  4.58it/s, now=None]"
          ]
        },
        {
          "name": "stdout",
          "output_type": "stream",
          "text": [
            "\n",
            "0: 384x640 6 cars, 54.1ms\n",
            "Speed: 3.6ms preprocess, 54.1ms inference, 10.4ms postprocess per image at shape (1, 3, 384, 640)\n"
          ]
        },
        {
          "name": "stderr",
          "output_type": "stream",
          "text": [
            "\rt:  53%|█████▎    | 133/251 [00:14<00:24,  4.77it/s, now=None]"
          ]
        },
        {
          "name": "stdout",
          "output_type": "stream",
          "text": [
            "\n",
            "0: 384x640 5 cars, 43.8ms\n",
            "Speed: 10.6ms preprocess, 43.8ms inference, 11.6ms postprocess per image at shape (1, 3, 384, 640)\n"
          ]
        },
        {
          "name": "stderr",
          "output_type": "stream",
          "text": [
            "\rt:  53%|█████▎    | 134/251 [00:14<00:23,  4.96it/s, now=None]"
          ]
        },
        {
          "name": "stdout",
          "output_type": "stream",
          "text": [
            "\n",
            "0: 384x640 5 cars, 74.1ms\n",
            "Speed: 2.9ms preprocess, 74.1ms inference, 6.4ms postprocess per image at shape (1, 3, 384, 640)\n"
          ]
        },
        {
          "name": "stderr",
          "output_type": "stream",
          "text": [
            "\rt:  54%|█████▍    | 135/251 [00:14<00:22,  5.17it/s, now=None]"
          ]
        },
        {
          "name": "stdout",
          "output_type": "stream",
          "text": [
            "\n",
            "0: 384x640 5 cars, 54.0ms\n",
            "Speed: 4.0ms preprocess, 54.0ms inference, 2.3ms postprocess per image at shape (1, 3, 384, 640)\n"
          ]
        },
        {
          "name": "stderr",
          "output_type": "stream",
          "text": [
            "\rt:  54%|█████▍    | 136/251 [00:14<00:21,  5.45it/s, now=None]"
          ]
        },
        {
          "name": "stdout",
          "output_type": "stream",
          "text": [
            "\n",
            "0: 384x640 7 cars, 98.7ms\n",
            "Speed: 17.6ms preprocess, 98.7ms inference, 2.2ms postprocess per image at shape (1, 3, 384, 640)\n"
          ]
        },
        {
          "name": "stderr",
          "output_type": "stream",
          "text": [
            "\rt:  55%|█████▍    | 137/251 [00:15<00:23,  4.82it/s, now=None]"
          ]
        },
        {
          "name": "stdout",
          "output_type": "stream",
          "text": [
            "\n",
            "0: 384x640 7 cars, 44.6ms\n",
            "Speed: 8.2ms preprocess, 44.6ms inference, 2.5ms postprocess per image at shape (1, 3, 384, 640)\n"
          ]
        },
        {
          "name": "stderr",
          "output_type": "stream",
          "text": [
            "\rt:  55%|█████▍    | 138/251 [00:15<00:21,  5.29it/s, now=None]"
          ]
        },
        {
          "name": "stdout",
          "output_type": "stream",
          "text": [
            "\n",
            "0: 384x640 6 cars, 47.5ms\n",
            "Speed: 6.6ms preprocess, 47.5ms inference, 3.8ms postprocess per image at shape (1, 3, 384, 640)\n"
          ]
        },
        {
          "name": "stderr",
          "output_type": "stream",
          "text": [
            "\rt:  55%|█████▌    | 139/251 [00:15<00:19,  5.62it/s, now=None]"
          ]
        },
        {
          "name": "stdout",
          "output_type": "stream",
          "text": [
            "\n",
            "0: 384x640 2 cars, 79.8ms\n",
            "Speed: 7.8ms preprocess, 79.8ms inference, 5.2ms postprocess per image at shape (1, 3, 384, 640)\n"
          ]
        },
        {
          "name": "stderr",
          "output_type": "stream",
          "text": [
            "\rt:  56%|█████▌    | 140/251 [00:15<00:19,  5.72it/s, now=None]"
          ]
        },
        {
          "name": "stdout",
          "output_type": "stream",
          "text": [
            "\n",
            "0: 384x640 2 cars, 56.3ms\n",
            "Speed: 3.9ms preprocess, 56.3ms inference, 10.9ms postprocess per image at shape (1, 3, 384, 640)\n"
          ]
        },
        {
          "name": "stderr",
          "output_type": "stream",
          "text": [
            "\rt:  56%|█████▌    | 141/251 [00:15<00:19,  5.75it/s, now=None]"
          ]
        },
        {
          "name": "stdout",
          "output_type": "stream",
          "text": [
            "\n",
            "0: 384x640 3 cars, 58.7ms\n",
            "Speed: 3.8ms preprocess, 58.7ms inference, 12.5ms postprocess per image at shape (1, 3, 384, 640)\n"
          ]
        },
        {
          "name": "stderr",
          "output_type": "stream",
          "text": [
            "\rt:  57%|█████▋    | 142/251 [00:15<00:18,  5.76it/s, now=None]"
          ]
        },
        {
          "name": "stdout",
          "output_type": "stream",
          "text": [
            "\n",
            "0: 384x640 2 cars, 20.8ms\n",
            "Speed: 4.1ms preprocess, 20.8ms inference, 2.4ms postprocess per image at shape (1, 3, 384, 640)\n",
            "\n",
            "0: 384x640 2 cars, 25.7ms\n",
            "Speed: 10.0ms preprocess, 25.7ms inference, 2.3ms postprocess per image at shape (1, 3, 384, 640)\n"
          ]
        },
        {
          "name": "stderr",
          "output_type": "stream",
          "text": [
            "\rt:  57%|█████▋    | 144/251 [00:16<00:15,  7.09it/s, now=None]"
          ]
        },
        {
          "name": "stdout",
          "output_type": "stream",
          "text": [
            "\n",
            "0: 384x640 2 cars, 36.9ms\n",
            "Speed: 3.0ms preprocess, 36.9ms inference, 2.3ms postprocess per image at shape (1, 3, 384, 640)\n"
          ]
        },
        {
          "name": "stderr",
          "output_type": "stream",
          "text": [
            "\rt:  58%|█████▊    | 145/251 [00:16<00:14,  7.35it/s, now=None]"
          ]
        },
        {
          "name": "stdout",
          "output_type": "stream",
          "text": [
            "\n",
            "0: 384x640 3 cars, 34.3ms\n",
            "Speed: 3.6ms preprocess, 34.3ms inference, 2.3ms postprocess per image at shape (1, 3, 384, 640)\n"
          ]
        },
        {
          "name": "stderr",
          "output_type": "stream",
          "text": [
            "\rt:  58%|█████▊    | 146/251 [00:16<00:13,  7.57it/s, now=None]"
          ]
        },
        {
          "name": "stdout",
          "output_type": "stream",
          "text": [
            "\n",
            "0: 384x640 2 cars, 25.3ms\n",
            "Speed: 15.4ms preprocess, 25.3ms inference, 4.3ms postprocess per image at shape (1, 3, 384, 640)\n"
          ]
        },
        {
          "name": "stderr",
          "output_type": "stream",
          "text": [
            "\rt:  59%|█████▊    | 147/251 [00:16<00:13,  7.96it/s, now=None]"
          ]
        },
        {
          "name": "stdout",
          "output_type": "stream",
          "text": [
            "\n",
            "0: 384x640 2 cars, 16.8ms\n",
            "Speed: 6.2ms preprocess, 16.8ms inference, 2.4ms postprocess per image at shape (1, 3, 384, 640)\n",
            "\n",
            "0: 384x640 2 cars, 41.1ms\n",
            "Speed: 7.4ms preprocess, 41.1ms inference, 2.3ms postprocess per image at shape (1, 3, 384, 640)\n"
          ]
        },
        {
          "name": "stderr",
          "output_type": "stream",
          "text": [
            "\rt:  59%|█████▉    | 149/251 [00:16<00:11,  8.55it/s, now=None]"
          ]
        },
        {
          "name": "stdout",
          "output_type": "stream",
          "text": [
            "\n",
            "0: 384x640 2 cars, 25.7ms\n",
            "Speed: 6.2ms preprocess, 25.7ms inference, 9.3ms postprocess per image at shape (1, 3, 384, 640)\n"
          ]
        },
        {
          "name": "stderr",
          "output_type": "stream",
          "text": [
            "\rt:  60%|█████▉    | 150/251 [00:16<00:11,  8.46it/s, now=None]"
          ]
        },
        {
          "name": "stdout",
          "output_type": "stream",
          "text": [
            "\n",
            "0: 384x640 3 cars, 39.4ms\n",
            "Speed: 8.4ms preprocess, 39.4ms inference, 8.1ms postprocess per image at shape (1, 3, 384, 640)\n"
          ]
        },
        {
          "name": "stderr",
          "output_type": "stream",
          "text": [
            "\rt:  60%|██████    | 151/251 [00:16<00:12,  8.30it/s, now=None]"
          ]
        },
        {
          "name": "stdout",
          "output_type": "stream",
          "text": [
            "\n",
            "0: 384x640 2 cars, 34.3ms\n",
            "Speed: 13.6ms preprocess, 34.3ms inference, 9.7ms postprocess per image at shape (1, 3, 384, 640)\n"
          ]
        },
        {
          "name": "stderr",
          "output_type": "stream",
          "text": [
            "\rt:  61%|██████    | 152/251 [00:17<00:12,  8.05it/s, now=None]"
          ]
        },
        {
          "name": "stdout",
          "output_type": "stream",
          "text": [
            "\n",
            "0: 384x640 2 cars, 43.8ms\n",
            "Speed: 3.6ms preprocess, 43.8ms inference, 2.4ms postprocess per image at shape (1, 3, 384, 640)\n"
          ]
        },
        {
          "name": "stderr",
          "output_type": "stream",
          "text": [
            "\rt:  61%|██████    | 153/251 [00:17<00:12,  7.75it/s, now=None]"
          ]
        },
        {
          "name": "stdout",
          "output_type": "stream",
          "text": [
            "\n",
            "0: 384x640 4 cars, 16.2ms\n",
            "Speed: 3.7ms preprocess, 16.2ms inference, 2.4ms postprocess per image at shape (1, 3, 384, 640)\n",
            "\n",
            "0: 384x640 4 cars, 32.2ms\n",
            "Speed: 3.0ms preprocess, 32.2ms inference, 2.5ms postprocess per image at shape (1, 3, 384, 640)\n"
          ]
        },
        {
          "name": "stderr",
          "output_type": "stream",
          "text": [
            "\rt:  62%|██████▏   | 155/251 [00:17<00:11,  8.13it/s, now=None]"
          ]
        },
        {
          "name": "stdout",
          "output_type": "stream",
          "text": [
            "\n",
            "0: 384x640 3 cars, 21.5ms\n",
            "Speed: 9.8ms preprocess, 21.5ms inference, 2.3ms postprocess per image at shape (1, 3, 384, 640)\n"
          ]
        },
        {
          "name": "stderr",
          "output_type": "stream",
          "text": [
            "\rt:  62%|██████▏   | 156/251 [00:17<00:11,  8.34it/s, now=None]"
          ]
        },
        {
          "name": "stdout",
          "output_type": "stream",
          "text": [
            "\n",
            "0: 384x640 4 cars, 15.8ms\n",
            "Speed: 4.3ms preprocess, 15.8ms inference, 2.2ms postprocess per image at shape (1, 3, 384, 640)\n",
            "\n",
            "0: 384x640 4 cars, 19.5ms\n",
            "Speed: 3.2ms preprocess, 19.5ms inference, 11.2ms postprocess per image at shape (1, 3, 384, 640)\n"
          ]
        },
        {
          "name": "stderr",
          "output_type": "stream",
          "text": [
            "\rt:  63%|██████▎   | 158/251 [00:17<00:10,  9.19it/s, now=None]"
          ]
        },
        {
          "name": "stdout",
          "output_type": "stream",
          "text": [
            "\n",
            "0: 384x640 3 cars, 24.4ms\n",
            "Speed: 3.7ms preprocess, 24.4ms inference, 2.3ms postprocess per image at shape (1, 3, 384, 640)\n",
            "\n",
            "0: 384x640 4 cars, 42.9ms\n",
            "Speed: 8.0ms preprocess, 42.9ms inference, 2.1ms postprocess per image at shape (1, 3, 384, 640)\n"
          ]
        },
        {
          "name": "stderr",
          "output_type": "stream",
          "text": [
            "\rt:  64%|██████▎   | 160/251 [00:18<00:10,  8.57it/s, now=None]"
          ]
        },
        {
          "name": "stdout",
          "output_type": "stream",
          "text": [
            "\n",
            "0: 384x640 3 cars, 51.6ms\n",
            "Speed: 3.4ms preprocess, 51.6ms inference, 2.3ms postprocess per image at shape (1, 3, 384, 640)\n"
          ]
        },
        {
          "name": "stderr",
          "output_type": "stream",
          "text": [
            "\rt:  64%|██████▍   | 161/251 [00:18<00:10,  8.22it/s, now=None]"
          ]
        },
        {
          "name": "stdout",
          "output_type": "stream",
          "text": [
            "\n",
            "0: 384x640 2 cars, 46.1ms\n",
            "Speed: 3.5ms preprocess, 46.1ms inference, 7.4ms postprocess per image at shape (1, 3, 384, 640)\n"
          ]
        },
        {
          "name": "stderr",
          "output_type": "stream",
          "text": [
            "\rt:  65%|██████▍   | 162/251 [00:18<00:10,  8.49it/s, now=None]"
          ]
        },
        {
          "name": "stdout",
          "output_type": "stream",
          "text": [
            "\n",
            "0: 384x640 2 cars, 49.7ms\n",
            "Speed: 4.0ms preprocess, 49.7ms inference, 11.4ms postprocess per image at shape (1, 3, 384, 640)\n"
          ]
        },
        {
          "name": "stderr",
          "output_type": "stream",
          "text": [
            "\rt:  65%|██████▍   | 163/251 [00:18<00:11,  7.77it/s, now=None]"
          ]
        },
        {
          "name": "stdout",
          "output_type": "stream",
          "text": [
            "\n",
            "0: 384x640 3 cars, 60.8ms\n",
            "Speed: 6.8ms preprocess, 60.8ms inference, 2.5ms postprocess per image at shape (1, 3, 384, 640)\n"
          ]
        },
        {
          "name": "stderr",
          "output_type": "stream",
          "text": [
            "\rt:  65%|██████▌   | 164/251 [00:18<00:11,  7.68it/s, now=None]"
          ]
        },
        {
          "name": "stdout",
          "output_type": "stream",
          "text": [
            "\n",
            "0: 384x640 3 cars, 39.4ms\n",
            "Speed: 7.5ms preprocess, 39.4ms inference, 2.3ms postprocess per image at shape (1, 3, 384, 640)\n"
          ]
        },
        {
          "name": "stderr",
          "output_type": "stream",
          "text": [
            "\rt:  66%|██████▌   | 165/251 [00:18<00:11,  7.53it/s, now=None]"
          ]
        },
        {
          "name": "stdout",
          "output_type": "stream",
          "text": [
            "\n",
            "0: 384x640 3 cars, 40.1ms\n",
            "Speed: 3.4ms preprocess, 40.1ms inference, 2.2ms postprocess per image at shape (1, 3, 384, 640)\n"
          ]
        },
        {
          "name": "stderr",
          "output_type": "stream",
          "text": [
            "\rt:  66%|██████▌   | 166/251 [00:18<00:10,  8.04it/s, now=None]"
          ]
        },
        {
          "name": "stdout",
          "output_type": "stream",
          "text": [
            "\n",
            "0: 384x640 2 cars, 47.1ms\n",
            "Speed: 3.5ms preprocess, 47.1ms inference, 24.0ms postprocess per image at shape (1, 3, 384, 640)\n"
          ]
        },
        {
          "name": "stderr",
          "output_type": "stream",
          "text": [
            "\rt:  67%|██████▋   | 167/251 [00:19<00:12,  6.91it/s, now=None]"
          ]
        },
        {
          "name": "stdout",
          "output_type": "stream",
          "text": [
            "\n",
            "0: 384x640 3 cars, 55.5ms\n",
            "Speed: 9.1ms preprocess, 55.5ms inference, 2.3ms postprocess per image at shape (1, 3, 384, 640)\n"
          ]
        },
        {
          "name": "stderr",
          "output_type": "stream",
          "text": [
            "\rt:  67%|██████▋   | 168/251 [00:19<00:12,  6.81it/s, now=None]"
          ]
        },
        {
          "name": "stdout",
          "output_type": "stream",
          "text": [
            "\n",
            "0: 384x640 2 cars, 33.9ms\n",
            "Speed: 9.9ms preprocess, 33.9ms inference, 2.4ms postprocess per image at shape (1, 3, 384, 640)\n"
          ]
        },
        {
          "name": "stderr",
          "output_type": "stream",
          "text": [
            "\rt:  67%|██████▋   | 169/251 [00:19<00:11,  6.85it/s, now=None]"
          ]
        },
        {
          "name": "stdout",
          "output_type": "stream",
          "text": [
            "\n",
            "0: 384x640 2 cars, 63.7ms\n",
            "Speed: 8.0ms preprocess, 63.7ms inference, 17.7ms postprocess per image at shape (1, 3, 384, 640)\n"
          ]
        },
        {
          "name": "stderr",
          "output_type": "stream",
          "text": [
            "\rt:  68%|██████▊   | 170/251 [00:19<00:12,  6.46it/s, now=None]"
          ]
        },
        {
          "name": "stdout",
          "output_type": "stream",
          "text": [
            "\n",
            "0: 384x640 2 cars, 62.5ms\n",
            "Speed: 13.3ms preprocess, 62.5ms inference, 11.5ms postprocess per image at shape (1, 3, 384, 640)\n"
          ]
        },
        {
          "name": "stderr",
          "output_type": "stream",
          "text": [
            "\rt:  68%|██████▊   | 171/251 [00:19<00:13,  6.10it/s, now=None]"
          ]
        },
        {
          "name": "stdout",
          "output_type": "stream",
          "text": [
            "\n",
            "0: 384x640 2 cars, 40.9ms\n",
            "Speed: 11.3ms preprocess, 40.9ms inference, 2.3ms postprocess per image at shape (1, 3, 384, 640)\n"
          ]
        },
        {
          "name": "stderr",
          "output_type": "stream",
          "text": [
            "\rt:  69%|██████▊   | 172/251 [00:19<00:11,  6.60it/s, now=None]"
          ]
        },
        {
          "name": "stdout",
          "output_type": "stream",
          "text": [
            "\n",
            "0: 384x640 2 cars, 31.9ms\n",
            "Speed: 3.0ms preprocess, 31.9ms inference, 9.1ms postprocess per image at shape (1, 3, 384, 640)\n"
          ]
        },
        {
          "name": "stderr",
          "output_type": "stream",
          "text": [
            "\rt:  69%|██████▉   | 173/251 [00:19<00:10,  7.17it/s, now=None]"
          ]
        },
        {
          "name": "stdout",
          "output_type": "stream",
          "text": [
            "\n",
            "0: 384x640 2 cars, 29.4ms\n",
            "Speed: 5.6ms preprocess, 29.4ms inference, 9.5ms postprocess per image at shape (1, 3, 384, 640)\n"
          ]
        },
        {
          "name": "stderr",
          "output_type": "stream",
          "text": [
            "\rt:  69%|██████▉   | 174/251 [00:20<00:10,  7.14it/s, now=None]"
          ]
        },
        {
          "name": "stdout",
          "output_type": "stream",
          "text": [
            "\n",
            "0: 384x640 4 cars, 19.1ms\n",
            "Speed: 5.2ms preprocess, 19.1ms inference, 2.3ms postprocess per image at shape (1, 3, 384, 640)\n",
            "\n",
            "0: 384x640 2 cars, 20.9ms\n",
            "Speed: 5.2ms preprocess, 20.9ms inference, 2.4ms postprocess per image at shape (1, 3, 384, 640)\n"
          ]
        },
        {
          "name": "stderr",
          "output_type": "stream",
          "text": [
            "\rt:  70%|███████   | 176/251 [00:20<00:08,  8.87it/s, now=None]"
          ]
        },
        {
          "name": "stdout",
          "output_type": "stream",
          "text": [
            "\n",
            "0: 384x640 2 cars, 26.7ms\n",
            "Speed: 3.9ms preprocess, 26.7ms inference, 2.4ms postprocess per image at shape (1, 3, 384, 640)\n",
            "\n",
            "0: 384x640 2 cars, 40.3ms\n",
            "Speed: 6.3ms preprocess, 40.3ms inference, 6.7ms postprocess per image at shape (1, 3, 384, 640)\n"
          ]
        },
        {
          "name": "stderr",
          "output_type": "stream",
          "text": [
            "\rt:  71%|███████   | 178/251 [00:20<00:08,  8.62it/s, now=None]"
          ]
        },
        {
          "name": "stdout",
          "output_type": "stream",
          "text": [
            "\n",
            "0: 384x640 2 cars, 1 lane, 30.1ms\n",
            "Speed: 12.1ms preprocess, 30.1ms inference, 9.4ms postprocess per image at shape (1, 3, 384, 640)\n"
          ]
        },
        {
          "name": "stderr",
          "output_type": "stream",
          "text": [
            "\rt:  71%|███████▏  | 179/251 [00:20<00:08,  8.51it/s, now=None]"
          ]
        },
        {
          "name": "stdout",
          "output_type": "stream",
          "text": [
            "\n",
            "0: 384x640 2 cars, 1 lane, 66.8ms\n",
            "Speed: 3.1ms preprocess, 66.8ms inference, 12.5ms postprocess per image at shape (1, 3, 384, 640)\n"
          ]
        },
        {
          "name": "stderr",
          "output_type": "stream",
          "text": [
            "\rt:  72%|███████▏  | 180/251 [00:20<00:08,  8.04it/s, now=None]"
          ]
        },
        {
          "name": "stdout",
          "output_type": "stream",
          "text": [
            "\n",
            "0: 384x640 2 cars, 1 lane, 34.7ms\n",
            "Speed: 7.8ms preprocess, 34.7ms inference, 2.3ms postprocess per image at shape (1, 3, 384, 640)\n"
          ]
        },
        {
          "name": "stderr",
          "output_type": "stream",
          "text": [
            "\rt:  72%|███████▏  | 181/251 [00:20<00:09,  7.70it/s, now=None]"
          ]
        },
        {
          "name": "stdout",
          "output_type": "stream",
          "text": [
            "\n",
            "0: 384x640 2 cars, 2 lanes, 41.3ms\n",
            "Speed: 8.0ms preprocess, 41.3ms inference, 2.5ms postprocess per image at shape (1, 3, 384, 640)\n"
          ]
        },
        {
          "name": "stderr",
          "output_type": "stream",
          "text": [
            "\rt:  73%|███████▎  | 182/251 [00:20<00:08,  7.82it/s, now=None]"
          ]
        },
        {
          "name": "stdout",
          "output_type": "stream",
          "text": [
            "\n",
            "0: 384x640 2 cars, 39.2ms\n",
            "Speed: 5.3ms preprocess, 39.2ms inference, 2.4ms postprocess per image at shape (1, 3, 384, 640)\n"
          ]
        },
        {
          "name": "stderr",
          "output_type": "stream",
          "text": [
            "\rt:  73%|███████▎  | 183/251 [00:21<00:08,  8.03it/s, now=None]"
          ]
        },
        {
          "name": "stdout",
          "output_type": "stream",
          "text": [
            "\n",
            "0: 384x640 2 cars, 18.0ms\n",
            "Speed: 8.1ms preprocess, 18.0ms inference, 2.5ms postprocess per image at shape (1, 3, 384, 640)\n",
            "\n",
            "0: 384x640 2 cars, 34.4ms\n",
            "Speed: 5.0ms preprocess, 34.4ms inference, 2.5ms postprocess per image at shape (1, 3, 384, 640)\n"
          ]
        },
        {
          "name": "stderr",
          "output_type": "stream",
          "text": [
            "\rt:  74%|███████▎  | 185/251 [00:21<00:07,  8.86it/s, now=None]"
          ]
        },
        {
          "name": "stdout",
          "output_type": "stream",
          "text": [
            "\n",
            "0: 384x640 2 cars, 1 lane, 24.9ms\n",
            "Speed: 9.3ms preprocess, 24.9ms inference, 2.4ms postprocess per image at shape (1, 3, 384, 640)\n",
            "\n",
            "0: 384x640 2 cars, 38.8ms\n",
            "Speed: 8.1ms preprocess, 38.8ms inference, 7.7ms postprocess per image at shape (1, 3, 384, 640)\n"
          ]
        },
        {
          "name": "stderr",
          "output_type": "stream",
          "text": [
            "\rt:  75%|███████▍  | 187/251 [00:21<00:07,  8.97it/s, now=None]"
          ]
        },
        {
          "name": "stdout",
          "output_type": "stream",
          "text": [
            "\n",
            "0: 384x640 2 cars, 35.4ms\n",
            "Speed: 3.3ms preprocess, 35.4ms inference, 2.4ms postprocess per image at shape (1, 3, 384, 640)\n"
          ]
        },
        {
          "name": "stderr",
          "output_type": "stream",
          "text": [
            "\rt:  75%|███████▍  | 188/251 [00:21<00:07,  8.44it/s, now=None]"
          ]
        },
        {
          "name": "stdout",
          "output_type": "stream",
          "text": [
            "\n",
            "0: 384x640 2 cars, 41.8ms\n",
            "Speed: 8.7ms preprocess, 41.8ms inference, 16.6ms postprocess per image at shape (1, 3, 384, 640)\n"
          ]
        },
        {
          "name": "stderr",
          "output_type": "stream",
          "text": [
            "\rt:  75%|███████▌  | 189/251 [00:21<00:07,  7.80it/s, now=None]"
          ]
        },
        {
          "name": "stdout",
          "output_type": "stream",
          "text": [
            "\n",
            "0: 384x640 2 cars, 1 lane, 28.9ms\n",
            "Speed: 13.2ms preprocess, 28.9ms inference, 8.5ms postprocess per image at shape (1, 3, 384, 640)\n"
          ]
        },
        {
          "name": "stderr",
          "output_type": "stream",
          "text": [
            "\rt:  76%|███████▌  | 190/251 [00:21<00:08,  7.44it/s, now=None]"
          ]
        },
        {
          "name": "stdout",
          "output_type": "stream",
          "text": [
            "\n",
            "0: 384x640 2 cars, 1 lane, 36.7ms\n",
            "Speed: 4.4ms preprocess, 36.7ms inference, 2.5ms postprocess per image at shape (1, 3, 384, 640)\n"
          ]
        },
        {
          "name": "stderr",
          "output_type": "stream",
          "text": [
            "\rt:  76%|███████▌  | 191/251 [00:22<00:07,  7.65it/s, now=None]"
          ]
        },
        {
          "name": "stdout",
          "output_type": "stream",
          "text": [
            "\n",
            "0: 384x640 2 cars, 1 lane, 42.7ms\n",
            "Speed: 3.8ms preprocess, 42.7ms inference, 9.5ms postprocess per image at shape (1, 3, 384, 640)\n"
          ]
        },
        {
          "name": "stderr",
          "output_type": "stream",
          "text": [
            "\rt:  76%|███████▋  | 192/251 [00:22<00:07,  7.71it/s, now=None]"
          ]
        },
        {
          "name": "stdout",
          "output_type": "stream",
          "text": [
            "\n",
            "0: 384x640 2 cars, 28.1ms\n",
            "Speed: 8.9ms preprocess, 28.1ms inference, 2.4ms postprocess per image at shape (1, 3, 384, 640)\n"
          ]
        },
        {
          "name": "stderr",
          "output_type": "stream",
          "text": [
            "\rt:  77%|███████▋  | 193/251 [00:22<00:07,  8.14it/s, now=None]"
          ]
        },
        {
          "name": "stdout",
          "output_type": "stream",
          "text": [
            "\n",
            "0: 384x640 2 cars, 29.1ms\n",
            "Speed: 12.6ms preprocess, 29.1ms inference, 2.3ms postprocess per image at shape (1, 3, 384, 640)\n"
          ]
        },
        {
          "name": "stderr",
          "output_type": "stream",
          "text": [
            "\rt:  77%|███████▋  | 194/251 [00:22<00:06,  8.21it/s, now=None]"
          ]
        },
        {
          "name": "stdout",
          "output_type": "stream",
          "text": [
            "\n",
            "0: 384x640 2 cars, 37.3ms\n",
            "Speed: 3.2ms preprocess, 37.3ms inference, 2.1ms postprocess per image at shape (1, 3, 384, 640)\n"
          ]
        },
        {
          "name": "stderr",
          "output_type": "stream",
          "text": [
            "\rt:  78%|███████▊  | 195/251 [00:22<00:07,  7.99it/s, now=None]"
          ]
        },
        {
          "name": "stdout",
          "output_type": "stream",
          "text": [
            "\n",
            "0: 384x640 3 cars, 37.5ms\n",
            "Speed: 7.9ms preprocess, 37.5ms inference, 2.5ms postprocess per image at shape (1, 3, 384, 640)\n"
          ]
        },
        {
          "name": "stderr",
          "output_type": "stream",
          "text": [
            "\rt:  78%|███████▊  | 196/251 [00:22<00:06,  8.12it/s, now=None]"
          ]
        },
        {
          "name": "stdout",
          "output_type": "stream",
          "text": [
            "\n",
            "0: 384x640 2 cars, 56.9ms\n",
            "Speed: 6.0ms preprocess, 56.9ms inference, 6.0ms postprocess per image at shape (1, 3, 384, 640)\n"
          ]
        },
        {
          "name": "stderr",
          "output_type": "stream",
          "text": [
            "\rt:  78%|███████▊  | 197/251 [00:22<00:07,  7.16it/s, now=None]"
          ]
        },
        {
          "name": "stdout",
          "output_type": "stream",
          "text": [
            "\n",
            "0: 384x640 2 cars, 34.8ms\n",
            "Speed: 5.5ms preprocess, 34.8ms inference, 5.3ms postprocess per image at shape (1, 3, 384, 640)\n"
          ]
        },
        {
          "name": "stderr",
          "output_type": "stream",
          "text": [
            "\rt:  79%|███████▉  | 198/251 [00:22<00:07,  7.49it/s, now=None]"
          ]
        },
        {
          "name": "stdout",
          "output_type": "stream",
          "text": [
            "\n",
            "0: 384x640 2 cars, 32.2ms\n",
            "Speed: 7.6ms preprocess, 32.2ms inference, 2.5ms postprocess per image at shape (1, 3, 384, 640)\n"
          ]
        },
        {
          "name": "stderr",
          "output_type": "stream",
          "text": [
            "\rt:  79%|███████▉  | 199/251 [00:23<00:06,  7.82it/s, now=None]"
          ]
        },
        {
          "name": "stdout",
          "output_type": "stream",
          "text": [
            "\n",
            "0: 384x640 2 cars, 48.8ms\n",
            "Speed: 2.9ms preprocess, 48.8ms inference, 2.4ms postprocess per image at shape (1, 3, 384, 640)\n"
          ]
        },
        {
          "name": "stderr",
          "output_type": "stream",
          "text": [
            "\rt:  80%|███████▉  | 200/251 [00:23<00:06,  7.47it/s, now=None]"
          ]
        },
        {
          "name": "stdout",
          "output_type": "stream",
          "text": [
            "\n",
            "0: 384x640 2 cars, 19.9ms\n",
            "Speed: 9.1ms preprocess, 19.9ms inference, 2.4ms postprocess per image at shape (1, 3, 384, 640)\n",
            "\n",
            "0: 384x640 2 cars, 31.8ms\n",
            "Speed: 6.4ms preprocess, 31.8ms inference, 21.3ms postprocess per image at shape (1, 3, 384, 640)\n"
          ]
        },
        {
          "name": "stderr",
          "output_type": "stream",
          "text": [
            "\rt:  80%|████████  | 202/251 [00:23<00:06,  7.35it/s, now=None]"
          ]
        },
        {
          "name": "stdout",
          "output_type": "stream",
          "text": [
            "\n",
            "0: 384x640 2 cars, 56.0ms\n",
            "Speed: 6.9ms preprocess, 56.0ms inference, 2.7ms postprocess per image at shape (1, 3, 384, 640)\n"
          ]
        },
        {
          "name": "stderr",
          "output_type": "stream",
          "text": [
            "\rt:  81%|████████  | 203/251 [00:23<00:06,  7.38it/s, now=None]"
          ]
        },
        {
          "name": "stdout",
          "output_type": "stream",
          "text": [
            "\n",
            "0: 384x640 2 cars, 34.5ms\n",
            "Speed: 4.8ms preprocess, 34.5ms inference, 12.4ms postprocess per image at shape (1, 3, 384, 640)\n"
          ]
        },
        {
          "name": "stderr",
          "output_type": "stream",
          "text": [
            "\rt:  81%|████████▏ | 204/251 [00:23<00:06,  7.29it/s, now=None]"
          ]
        },
        {
          "name": "stdout",
          "output_type": "stream",
          "text": [
            "\n",
            "0: 384x640 2 cars, 42.7ms\n",
            "Speed: 3.4ms preprocess, 42.7ms inference, 2.3ms postprocess per image at shape (1, 3, 384, 640)\n"
          ]
        },
        {
          "name": "stderr",
          "output_type": "stream",
          "text": [
            "\rt:  82%|████████▏ | 205/251 [00:23<00:06,  7.26it/s, now=None]"
          ]
        },
        {
          "name": "stdout",
          "output_type": "stream",
          "text": [
            "\n",
            "0: 384x640 2 cars, 27.3ms\n",
            "Speed: 8.5ms preprocess, 27.3ms inference, 9.5ms postprocess per image at shape (1, 3, 384, 640)\n"
          ]
        },
        {
          "name": "stderr",
          "output_type": "stream",
          "text": [
            "\rt:  82%|████████▏ | 206/251 [00:24<00:06,  7.44it/s, now=None]"
          ]
        },
        {
          "name": "stdout",
          "output_type": "stream",
          "text": [
            "\n",
            "0: 384x640 2 cars, 45.3ms\n",
            "Speed: 12.4ms preprocess, 45.3ms inference, 13.5ms postprocess per image at shape (1, 3, 384, 640)\n"
          ]
        },
        {
          "name": "stderr",
          "output_type": "stream",
          "text": [
            "\rt:  82%|████████▏ | 207/251 [00:24<00:06,  6.98it/s, now=None]"
          ]
        },
        {
          "name": "stdout",
          "output_type": "stream",
          "text": [
            "\n",
            "0: 384x640 2 cars, 35.8ms\n",
            "Speed: 6.5ms preprocess, 35.8ms inference, 8.9ms postprocess per image at shape (1, 3, 384, 640)\n"
          ]
        },
        {
          "name": "stderr",
          "output_type": "stream",
          "text": [
            "\rt:  83%|████████▎ | 208/251 [00:24<00:06,  7.03it/s, now=None]"
          ]
        },
        {
          "name": "stdout",
          "output_type": "stream",
          "text": [
            "\n",
            "0: 384x640 2 cars, 58.2ms\n",
            "Speed: 8.4ms preprocess, 58.2ms inference, 2.4ms postprocess per image at shape (1, 3, 384, 640)\n"
          ]
        },
        {
          "name": "stderr",
          "output_type": "stream",
          "text": [
            "\rt:  83%|████████▎ | 209/251 [00:24<00:06,  6.81it/s, now=None]"
          ]
        },
        {
          "name": "stdout",
          "output_type": "stream",
          "text": [
            "\n",
            "0: 384x640 3 cars, 18.9ms\n",
            "Speed: 5.7ms preprocess, 18.9ms inference, 2.1ms postprocess per image at shape (1, 3, 384, 640)\n",
            "\n",
            "0: 384x640 2 cars, 30.0ms\n",
            "Speed: 14.3ms preprocess, 30.0ms inference, 2.4ms postprocess per image at shape (1, 3, 384, 640)\n"
          ]
        },
        {
          "name": "stderr",
          "output_type": "stream",
          "text": [
            "\rt:  84%|████████▍ | 211/251 [00:24<00:05,  7.93it/s, now=None]"
          ]
        },
        {
          "name": "stdout",
          "output_type": "stream",
          "text": [
            "\n",
            "0: 384x640 2 cars, 16.2ms\n",
            "Speed: 17.9ms preprocess, 16.2ms inference, 2.2ms postprocess per image at shape (1, 3, 384, 640)\n"
          ]
        },
        {
          "name": "stderr",
          "output_type": "stream",
          "text": [
            "\rt:  84%|████████▍ | 212/251 [00:24<00:04,  8.11it/s, now=None]"
          ]
        },
        {
          "name": "stdout",
          "output_type": "stream",
          "text": [
            "\n",
            "0: 384x640 2 cars, 35.6ms\n",
            "Speed: 3.4ms preprocess, 35.6ms inference, 4.9ms postprocess per image at shape (1, 3, 384, 640)\n"
          ]
        },
        {
          "name": "stderr",
          "output_type": "stream",
          "text": [
            "\rt:  85%|████████▍ | 213/251 [00:24<00:04,  8.24it/s, now=None]"
          ]
        },
        {
          "name": "stdout",
          "output_type": "stream",
          "text": [
            "\n",
            "0: 384x640 2 cars, 19.0ms\n",
            "Speed: 6.7ms preprocess, 19.0ms inference, 2.5ms postprocess per image at shape (1, 3, 384, 640)\n",
            "\n",
            "0: 384x640 3 cars, 38.2ms\n",
            "Speed: 7.1ms preprocess, 38.2ms inference, 2.3ms postprocess per image at shape (1, 3, 384, 640)\n"
          ]
        },
        {
          "name": "stderr",
          "output_type": "stream",
          "text": [
            "\rt:  86%|████████▌ | 215/251 [00:25<00:04,  8.62it/s, now=None]"
          ]
        },
        {
          "name": "stdout",
          "output_type": "stream",
          "text": [
            "\n",
            "0: 384x640 2 cars, 36.4ms\n",
            "Speed: 9.8ms preprocess, 36.4ms inference, 2.4ms postprocess per image at shape (1, 3, 384, 640)\n"
          ]
        },
        {
          "name": "stderr",
          "output_type": "stream",
          "text": [
            "\rt:  86%|████████▌ | 216/251 [00:25<00:04,  8.54it/s, now=None]"
          ]
        },
        {
          "name": "stdout",
          "output_type": "stream",
          "text": [
            "\n",
            "0: 384x640 2 cars, 31.9ms\n",
            "Speed: 8.9ms preprocess, 31.9ms inference, 2.3ms postprocess per image at shape (1, 3, 384, 640)\n"
          ]
        },
        {
          "name": "stderr",
          "output_type": "stream",
          "text": [
            "\rt:  86%|████████▋ | 217/251 [00:25<00:03,  8.71it/s, now=None]"
          ]
        },
        {
          "name": "stdout",
          "output_type": "stream",
          "text": [
            "\n",
            "0: 384x640 2 cars, 30.7ms\n",
            "Speed: 8.5ms preprocess, 30.7ms inference, 8.5ms postprocess per image at shape (1, 3, 384, 640)\n"
          ]
        },
        {
          "name": "stderr",
          "output_type": "stream",
          "text": [
            "\rt:  87%|████████▋ | 218/251 [00:25<00:03,  8.71it/s, now=None]"
          ]
        },
        {
          "name": "stdout",
          "output_type": "stream",
          "text": [
            "\n",
            "0: 384x640 2 cars, 28.2ms\n",
            "Speed: 5.4ms preprocess, 28.2ms inference, 9.5ms postprocess per image at shape (1, 3, 384, 640)\n"
          ]
        },
        {
          "name": "stderr",
          "output_type": "stream",
          "text": [
            "\rt:  87%|████████▋ | 219/251 [00:25<00:03,  8.52it/s, now=None]"
          ]
        },
        {
          "name": "stdout",
          "output_type": "stream",
          "text": [
            "\n",
            "0: 384x640 2 cars, 47.3ms\n",
            "Speed: 3.6ms preprocess, 47.3ms inference, 15.4ms postprocess per image at shape (1, 3, 384, 640)\n"
          ]
        },
        {
          "name": "stderr",
          "output_type": "stream",
          "text": [
            "\rt:  88%|████████▊ | 220/251 [00:25<00:04,  7.26it/s, now=None]"
          ]
        },
        {
          "name": "stdout",
          "output_type": "stream",
          "text": [
            "\n",
            "0: 384x640 2 cars, 72.3ms\n",
            "Speed: 15.4ms preprocess, 72.3ms inference, 6.7ms postprocess per image at shape (1, 3, 384, 640)\n"
          ]
        },
        {
          "name": "stderr",
          "output_type": "stream",
          "text": [
            "\rt:  88%|████████▊ | 221/251 [00:26<00:04,  6.52it/s, now=None]"
          ]
        },
        {
          "name": "stdout",
          "output_type": "stream",
          "text": [
            "\n",
            "0: 384x640 2 cars, 39.3ms\n",
            "Speed: 5.1ms preprocess, 39.3ms inference, 16.7ms postprocess per image at shape (1, 3, 384, 640)\n"
          ]
        },
        {
          "name": "stderr",
          "output_type": "stream",
          "text": [
            "\rt:  88%|████████▊ | 222/251 [00:26<00:04,  6.23it/s, now=None]"
          ]
        },
        {
          "name": "stdout",
          "output_type": "stream",
          "text": [
            "\n",
            "0: 384x640 3 cars, 38.3ms\n",
            "Speed: 14.3ms preprocess, 38.3ms inference, 3.5ms postprocess per image at shape (1, 3, 384, 640)\n"
          ]
        },
        {
          "name": "stderr",
          "output_type": "stream",
          "text": [
            "\rt:  89%|████████▉ | 223/251 [00:26<00:04,  6.04it/s, now=None]"
          ]
        },
        {
          "name": "stdout",
          "output_type": "stream",
          "text": [
            "\n",
            "0: 384x640 2 cars, 56.9ms\n",
            "Speed: 13.5ms preprocess, 56.9ms inference, 2.3ms postprocess per image at shape (1, 3, 384, 640)\n"
          ]
        },
        {
          "name": "stderr",
          "output_type": "stream",
          "text": [
            "\rt:  89%|████████▉ | 224/251 [00:26<00:04,  5.88it/s, now=None]"
          ]
        },
        {
          "name": "stdout",
          "output_type": "stream",
          "text": [
            "\n",
            "0: 384x640 2 cars, 41.6ms\n",
            "Speed: 13.2ms preprocess, 41.6ms inference, 11.6ms postprocess per image at shape (1, 3, 384, 640)\n"
          ]
        },
        {
          "name": "stderr",
          "output_type": "stream",
          "text": [
            "\rt:  90%|████████▉ | 225/251 [00:26<00:04,  5.76it/s, now=None]"
          ]
        },
        {
          "name": "stdout",
          "output_type": "stream",
          "text": [
            "\n",
            "0: 384x640 2 cars, 50.9ms\n",
            "Speed: 12.9ms preprocess, 50.9ms inference, 11.6ms postprocess per image at shape (1, 3, 384, 640)\n"
          ]
        },
        {
          "name": "stderr",
          "output_type": "stream",
          "text": [
            "\rt:  90%|█████████ | 226/251 [00:27<00:05,  4.88it/s, now=None]"
          ]
        },
        {
          "name": "stdout",
          "output_type": "stream",
          "text": [
            "\n",
            "0: 384x640 2 cars, 70.2ms\n",
            "Speed: 5.7ms preprocess, 70.2ms inference, 2.5ms postprocess per image at shape (1, 3, 384, 640)\n"
          ]
        },
        {
          "name": "stderr",
          "output_type": "stream",
          "text": [
            "\rt:  90%|█████████ | 227/251 [00:27<00:05,  4.64it/s, now=None]"
          ]
        },
        {
          "name": "stdout",
          "output_type": "stream",
          "text": [
            "\n",
            "0: 384x640 2 cars, 57.9ms\n",
            "Speed: 5.9ms preprocess, 57.9ms inference, 2.5ms postprocess per image at shape (1, 3, 384, 640)\n"
          ]
        },
        {
          "name": "stderr",
          "output_type": "stream",
          "text": [
            "\rt:  91%|█████████ | 228/251 [00:27<00:04,  5.01it/s, now=None]"
          ]
        },
        {
          "name": "stdout",
          "output_type": "stream",
          "text": [
            "\n",
            "0: 384x640 2 cars, 46.4ms\n",
            "Speed: 5.7ms preprocess, 46.4ms inference, 2.6ms postprocess per image at shape (1, 3, 384, 640)\n"
          ]
        },
        {
          "name": "stderr",
          "output_type": "stream",
          "text": [
            "\rt:  91%|█████████ | 229/251 [00:27<00:04,  5.27it/s, now=None]"
          ]
        },
        {
          "name": "stdout",
          "output_type": "stream",
          "text": [
            "\n",
            "0: 384x640 3 cars, 63.9ms\n",
            "Speed: 9.1ms preprocess, 63.9ms inference, 18.0ms postprocess per image at shape (1, 3, 384, 640)\n"
          ]
        },
        {
          "name": "stderr",
          "output_type": "stream",
          "text": [
            "\rt:  92%|█████████▏| 230/251 [00:27<00:04,  5.03it/s, now=None]"
          ]
        },
        {
          "name": "stdout",
          "output_type": "stream",
          "text": [
            "\n",
            "0: 384x640 3 cars, 58.7ms\n",
            "Speed: 16.0ms preprocess, 58.7ms inference, 13.1ms postprocess per image at shape (1, 3, 384, 640)\n"
          ]
        },
        {
          "name": "stderr",
          "output_type": "stream",
          "text": [
            "\rt:  92%|█████████▏| 231/251 [00:28<00:04,  4.79it/s, now=None]"
          ]
        },
        {
          "name": "stdout",
          "output_type": "stream",
          "text": [
            "\n",
            "0: 384x640 3 cars, 63.0ms\n",
            "Speed: 9.1ms preprocess, 63.0ms inference, 2.8ms postprocess per image at shape (1, 3, 384, 640)\n"
          ]
        },
        {
          "name": "stderr",
          "output_type": "stream",
          "text": [
            "\rt:  92%|█████████▏| 232/251 [00:28<00:04,  4.60it/s, now=None]"
          ]
        },
        {
          "name": "stdout",
          "output_type": "stream",
          "text": [
            "\n",
            "0: 384x640 4 cars, 50.3ms\n",
            "Speed: 6.2ms preprocess, 50.3ms inference, 19.6ms postprocess per image at shape (1, 3, 384, 640)\n"
          ]
        },
        {
          "name": "stderr",
          "output_type": "stream",
          "text": [
            "\rt:  93%|█████████▎| 233/251 [00:28<00:03,  4.66it/s, now=None]"
          ]
        },
        {
          "name": "stdout",
          "output_type": "stream",
          "text": [
            "\n",
            "0: 384x640 3 cars, 33.4ms\n",
            "Speed: 4.6ms preprocess, 33.4ms inference, 9.9ms postprocess per image at shape (1, 3, 384, 640)\n"
          ]
        },
        {
          "name": "stderr",
          "output_type": "stream",
          "text": [
            "\rt:  93%|█████████▎| 234/251 [00:28<00:03,  4.94it/s, now=None]"
          ]
        },
        {
          "name": "stdout",
          "output_type": "stream",
          "text": [
            "\n",
            "0: 384x640 2 cars, 37.1ms\n",
            "Speed: 2.9ms preprocess, 37.1ms inference, 2.3ms postprocess per image at shape (1, 3, 384, 640)\n"
          ]
        },
        {
          "name": "stderr",
          "output_type": "stream",
          "text": [
            "\rt:  94%|█████████▎| 235/251 [00:28<00:03,  5.16it/s, now=None]"
          ]
        },
        {
          "name": "stdout",
          "output_type": "stream",
          "text": [
            "\n",
            "0: 384x640 2 cars, 61.0ms\n",
            "Speed: 30.9ms preprocess, 61.0ms inference, 7.0ms postprocess per image at shape (1, 3, 384, 640)\n"
          ]
        },
        {
          "name": "stderr",
          "output_type": "stream",
          "text": [
            "\rt:  94%|█████████▍| 236/251 [00:29<00:03,  4.92it/s, now=None]"
          ]
        },
        {
          "name": "stdout",
          "output_type": "stream",
          "text": [
            "\n",
            "0: 384x640 2 cars, 57.5ms\n",
            "Speed: 16.4ms preprocess, 57.5ms inference, 2.2ms postprocess per image at shape (1, 3, 384, 640)\n"
          ]
        },
        {
          "name": "stderr",
          "output_type": "stream",
          "text": [
            "\rt:  94%|█████████▍| 237/251 [00:29<00:02,  4.92it/s, now=None]"
          ]
        },
        {
          "name": "stdout",
          "output_type": "stream",
          "text": [
            "\n",
            "0: 384x640 2 cars, 39.4ms\n",
            "Speed: 3.4ms preprocess, 39.4ms inference, 1.9ms postprocess per image at shape (1, 3, 384, 640)\n"
          ]
        },
        {
          "name": "stderr",
          "output_type": "stream",
          "text": [
            "\rt:  95%|█████████▍| 238/251 [00:29<00:02,  5.12it/s, now=None]"
          ]
        },
        {
          "name": "stdout",
          "output_type": "stream",
          "text": [
            "\n",
            "0: 384x640 2 cars, 38.3ms\n",
            "Speed: 14.5ms preprocess, 38.3ms inference, 21.3ms postprocess per image at shape (1, 3, 384, 640)\n"
          ]
        },
        {
          "name": "stderr",
          "output_type": "stream",
          "text": [
            "\rt:  95%|█████████▌| 239/251 [00:29<00:02,  5.00it/s, now=None]"
          ]
        },
        {
          "name": "stdout",
          "output_type": "stream",
          "text": [
            "\n",
            "0: 384x640 2 cars, 73.2ms\n",
            "Speed: 6.0ms preprocess, 73.2ms inference, 2.0ms postprocess per image at shape (1, 3, 384, 640)\n"
          ]
        },
        {
          "name": "stderr",
          "output_type": "stream",
          "text": [
            "\rt:  96%|█████████▌| 240/251 [00:29<00:02,  4.99it/s, now=None]"
          ]
        },
        {
          "name": "stdout",
          "output_type": "stream",
          "text": [
            "\n",
            "0: 384x640 2 cars, 50.6ms\n",
            "Speed: 3.5ms preprocess, 50.6ms inference, 9.1ms postprocess per image at shape (1, 3, 384, 640)\n"
          ]
        },
        {
          "name": "stderr",
          "output_type": "stream",
          "text": [
            "\rt:  96%|█████████▌| 241/251 [00:30<00:01,  5.16it/s, now=None]"
          ]
        },
        {
          "name": "stdout",
          "output_type": "stream",
          "text": [
            "\n",
            "0: 384x640 2 cars, 35.8ms\n",
            "Speed: 6.1ms preprocess, 35.8ms inference, 2.0ms postprocess per image at shape (1, 3, 384, 640)\n"
          ]
        },
        {
          "name": "stderr",
          "output_type": "stream",
          "text": [
            "\rt:  96%|█████████▋| 242/251 [00:30<00:01,  5.35it/s, now=None]"
          ]
        },
        {
          "name": "stdout",
          "output_type": "stream",
          "text": [
            "\n",
            "0: 384x640 2 cars, 66.7ms\n",
            "Speed: 17.0ms preprocess, 66.7ms inference, 16.5ms postprocess per image at shape (1, 3, 384, 640)\n"
          ]
        },
        {
          "name": "stderr",
          "output_type": "stream",
          "text": [
            "\rt:  97%|█████████▋| 243/251 [00:30<00:01,  5.17it/s, now=None]"
          ]
        },
        {
          "name": "stdout",
          "output_type": "stream",
          "text": [
            "\n",
            "0: 384x640 2 cars, 29.7ms\n",
            "Speed: 8.4ms preprocess, 29.7ms inference, 7.1ms postprocess per image at shape (1, 3, 384, 640)\n"
          ]
        },
        {
          "name": "stderr",
          "output_type": "stream",
          "text": [
            "\rt:  97%|█████████▋| 244/251 [00:30<00:01,  5.79it/s, now=None]"
          ]
        },
        {
          "name": "stdout",
          "output_type": "stream",
          "text": [
            "\n",
            "0: 384x640 2 cars, 42.8ms\n",
            "Speed: 11.6ms preprocess, 42.8ms inference, 6.5ms postprocess per image at shape (1, 3, 384, 640)\n"
          ]
        },
        {
          "name": "stderr",
          "output_type": "stream",
          "text": [
            "\rt:  98%|█████████▊| 245/251 [00:30<00:01,  5.83it/s, now=None]"
          ]
        },
        {
          "name": "stdout",
          "output_type": "stream",
          "text": [
            "\n",
            "0: 384x640 2 cars, 59.8ms\n",
            "Speed: 6.8ms preprocess, 59.8ms inference, 16.7ms postprocess per image at shape (1, 3, 384, 640)\n"
          ]
        },
        {
          "name": "stderr",
          "output_type": "stream",
          "text": [
            "\rt:  98%|█████████▊| 246/251 [00:30<00:01,  4.89it/s, now=None]"
          ]
        },
        {
          "name": "stdout",
          "output_type": "stream",
          "text": [
            "\n",
            "0: 384x640 3 cars, 54.2ms\n",
            "Speed: 5.6ms preprocess, 54.2ms inference, 11.6ms postprocess per image at shape (1, 3, 384, 640)\n"
          ]
        },
        {
          "name": "stderr",
          "output_type": "stream",
          "text": [
            "\rt:  98%|█████████▊| 247/251 [00:31<00:00,  5.29it/s, now=None]"
          ]
        },
        {
          "name": "stdout",
          "output_type": "stream",
          "text": [
            "\n",
            "0: 384x640 2 cars, 27.3ms\n",
            "Speed: 2.8ms preprocess, 27.3ms inference, 4.9ms postprocess per image at shape (1, 3, 384, 640)\n"
          ]
        },
        {
          "name": "stderr",
          "output_type": "stream",
          "text": [
            "\rt:  99%|█████████▉| 248/251 [00:31<00:00,  5.89it/s, now=None]"
          ]
        },
        {
          "name": "stdout",
          "output_type": "stream",
          "text": [
            "\n",
            "0: 384x640 2 cars, 63.0ms\n",
            "Speed: 12.1ms preprocess, 63.0ms inference, 10.7ms postprocess per image at shape (1, 3, 384, 640)\n"
          ]
        },
        {
          "name": "stderr",
          "output_type": "stream",
          "text": [
            "\rt:  99%|█████████▉| 249/251 [00:31<00:00,  5.35it/s, now=None]"
          ]
        },
        {
          "name": "stdout",
          "output_type": "stream",
          "text": [
            "\n",
            "0: 384x640 2 cars, 74.8ms\n",
            "Speed: 4.8ms preprocess, 74.8ms inference, 9.4ms postprocess per image at shape (1, 3, 384, 640)\n"
          ]
        },
        {
          "name": "stderr",
          "output_type": "stream",
          "text": [
            "\rt: 100%|█████████▉| 250/251 [00:31<00:00,  5.40it/s, now=None]"
          ]
        },
        {
          "name": "stdout",
          "output_type": "stream",
          "text": [
            "\n",
            "0: 384x640 2 cars, 36.7ms\n",
            "Speed: 6.0ms preprocess, 36.7ms inference, 7.9ms postprocess per image at shape (1, 3, 384, 640)\n"
          ]
        },
        {
          "name": "stderr",
          "output_type": "stream",
          "text": [
            "\rt: 100%|██████████| 251/251 [00:31<00:00,  6.02it/s, now=None]"
          ]
        },
        {
          "name": "stdout",
          "output_type": "stream",
          "text": [
            "\n",
            "0: 384x640 2 cars, 59.5ms\n",
            "Speed: 8.1ms preprocess, 59.5ms inference, 2.8ms postprocess per image at shape (1, 3, 384, 640)\n"
          ]
        },
        {
          "name": "stderr",
          "output_type": "stream",
          "text": []
        },
        {
          "name": "stdout",
          "output_type": "stream",
          "text": [
            "Moviepy - Done !\n",
            "Moviepy - video ready /content/drive/MyDrive/TestImage/output.mp4\n"
          ]
        }
      ],
      "source": [
        "import cv2\n",
        "import numpy as np\n",
        "import matplotlib.pyplot as plt\n",
        "from ultralytics import YOLO\n",
        "from moviepy.editor import VideoFileClip\n",
        "\n",
        "\n",
        "# Load YOLOv11 Model\n",
        "model_path = \"/content/drive/MyDrive/YOLOResults/lane_obstacle_run/weights/best.pt\"  # Change this to your trained model path\n",
        "model = YOLO(model_path)\n",
        "\n",
        "\n",
        "# Lane Detection Functions\n",
        "def yellow_white_mask(image):\n",
        "    \"\"\"Apply a mask to detect white and yellow lane lines.\"\"\"\n",
        "    gray = cv2.cvtColor(image, cv2.COLOR_BGR2GRAY)\n",
        "    hsv = cv2.cvtColor(image, cv2.COLOR_BGR2HSV)\n",
        "    gblur = cv2.GaussianBlur(gray, (5, 5), 0)\n",
        "\n",
        "    # Detect white lanes\n",
        "    white_mask = cv2.threshold(gblur, 200, 255, cv2.THRESH_BINARY)[1]\n",
        "\n",
        "    # Detect yellow lanes\n",
        "    lower_yellow = np.array([0, 100, 100])\n",
        "    upper_yellow = np.array([210, 255, 255])\n",
        "    yellow_mask = cv2.inRange(hsv, lower_yellow, upper_yellow)\n",
        "\n",
        "    # Combine both masks\n",
        "    combined_mask = cv2.bitwise_or(white_mask, yellow_mask)\n",
        "    return combined_mask\n",
        "\n",
        "\n",
        "def region_of_interest(img, vertices):\n",
        "    \"\"\"Crop image to focus on lane area.\"\"\"\n",
        "    mask = np.zeros_like(img)\n",
        "    cv2.fillPoly(mask, vertices, 255)\n",
        "    return cv2.bitwise_and(img, mask)\n",
        "\n",
        "\n",
        "def hough_transform(image):\n",
        "    \"\"\"Detect lane lines using Hough Transform.\"\"\"\n",
        "    return cv2.HoughLinesP(image, 1, np.pi / 180, 50, minLineLength=50, maxLineGap=150)\n",
        "\n",
        "\n",
        "def separate_lanes(lines, img_shape):\n",
        "    \"\"\"Separate lane lines into left and right.\"\"\"\n",
        "    left_lines = []\n",
        "    right_lines = []\n",
        "    img_center = img_shape[1] // 2  # Get center of the image\n",
        "\n",
        "    if lines is not None:\n",
        "        for line in lines:\n",
        "            for x1, y1, x2, y2 in line:\n",
        "                slope = (y2 - y1) / (x2 - x1) if (x2 - x1) != 0 else 0  # Avoid division by zero\n",
        "\n",
        "                if slope < -0.3 and x1 < img_center:  # Left lane (Negative slope, must be on the left side)\n",
        "                    left_lines.append([x1, y1, x2, y2])\n",
        "                elif slope > 0.3 and x1 > img_center:  # Right lane (Positive slope, must be on the right side)\n",
        "                    right_lines.append([x1, y1, x2, y2])\n",
        "\n",
        "    return left_lines, right_lines\n",
        "\n",
        "\n",
        "def fit_lane_line(lines, img_shape):\n",
        "    \"\"\"Fit a single line for each lane using Linear Regression.\"\"\"\n",
        "    if len(lines) == 0:\n",
        "        return None\n",
        "\n",
        "    x_coords = []\n",
        "    y_coords = []\n",
        "\n",
        "    for line in lines:\n",
        "        x1, y1, x2, y2 = line\n",
        "        x_coords.extend([x1, x2])\n",
        "        y_coords.extend([y1, y2])\n",
        "\n",
        "    if len(x_coords) > 1:\n",
        "        # Fit a straight line (y = mx + b)\n",
        "        poly = np.polyfit(y_coords, x_coords, 1)\n",
        "        slope, intercept = poly\n",
        "\n",
        "        # Shorten lane lines from the horizon side\n",
        "        y1 = int(img_shape[0] * 0.9)  # Closer to the car\n",
        "        y2 = int(img_shape[0] * 0.65)  # Stop earlier at the horizon\n",
        "\n",
        "        x1 = int(slope * y1 + intercept)\n",
        "        x2 = int(slope * y2 + intercept)\n",
        "\n",
        "        return [[x1, y1, x2, y2]]\n",
        "    return None\n",
        "\n",
        "\n",
        "def draw_lane_lines(img, left_line, right_line):\n",
        "    \"\"\"Draws the final lane lines onto the frame.\"\"\"\n",
        "    if left_line is not None:\n",
        "        x1, y1, x2, y2 = left_line[0]\n",
        "        cv2.line(img, (x1, y1), (x2, y2), (255, 0, 0), 5)\n",
        "\n",
        "    if right_line is not None:\n",
        "        x1, y1, x2, y2 = right_line[0]\n",
        "        cv2.line(img, (x1, y1), (x2, y2), (255, 0, 0), 5)\n",
        "\n",
        "    return img\n",
        "\n",
        "\n",
        "# Main Processing Function (YOLO + Lane Detection)\n",
        "def process_frame(image):\n",
        "    \"\"\"Detect objects with YOLO and lane lines with Hough Transform.\"\"\"\n",
        "    image = np.array(image, dtype=np.uint8).copy()  # Convert to writable format\n",
        "\n",
        "    # Convert to RGB for YOLO\n",
        "    img_rgb = cv2.cvtColor(image, cv2.COLOR_BGR2RGB)\n",
        "\n",
        "    # Run YOLO object detection\n",
        "    results = model(img_rgb, conf=0.3)  # Adjust confidence as needed\n",
        "\n",
        "    # Draw YOLO detections\n",
        "    for r in results:\n",
        "        for box in r.boxes:\n",
        "            x1, y1, x2, y2 = map(int, box.xyxy[0])\n",
        "            confidence = box.conf[0]\n",
        "            cls = int(box.cls[0])\n",
        "            label = f\"{model.names[cls]} {confidence:.2f}\"\n",
        "\n",
        "            # Draw bounding box and label\n",
        "            cv2.rectangle(image, (x1, y1), (x2, y2), (0, 255, 0), 3)\n",
        "            cv2.putText(image, label, (x1, y1 - 10), cv2.FONT_HERSHEY_SIMPLEX, 0.5, (0, 255, 0), 2)\n",
        "\n",
        "    # Lane Detection\n",
        "    mask = yellow_white_mask(image)\n",
        "    edges = cv2.Canny(mask, 100, 200)\n",
        "\n",
        "    # Define region of interest (ROI)\n",
        "    height, width = image.shape[:2]\n",
        "    roi_vertices = np.array([[(100, height), (width // 2 - 50, height // 2 + 90),\n",
        "                              (width // 2 + 50, height // 2 + 90), (width - 100, height)]], dtype=np.int32)\n",
        "    roi = region_of_interest(edges, roi_vertices)\n",
        "\n",
        "    # Detect lane lines\n",
        "    lines = hough_transform(roi)\n",
        "\n",
        "    # Separate left and right lanes\n",
        "    left_lines, right_lines = separate_lanes(lines, image.shape)\n",
        "\n",
        "    # Fit a single lane line for each side\n",
        "    left_lane = fit_lane_line(left_lines, image.shape)\n",
        "    right_lane = fit_lane_line(right_lines, image.shape)\n",
        "\n",
        "    # Draw final lane lines\n",
        "    image = draw_lane_lines(image, left_lane, right_lane)\n",
        "\n",
        "    return image\n",
        "\n",
        "\n",
        "# Process Video\n",
        "def process_video(input_video, output_video):\n",
        "    \"\"\"Process an entire video frame-by-frame.\"\"\"\n",
        "    clip = VideoFileClip(input_video)\n",
        "    processed_clip = clip.fl_image(process_frame)\n",
        "    processed_clip.write_videofile(output_video, codec=\"libx264\")\n",
        "\n",
        "\n",
        "# Run Video Processing\n",
        "input_video_path = \"/content/drive/MyDrive/TestImage/challenge.mp4\"  # Update with your video path\n",
        "output_video_path = \"/content/drive/MyDrive/TestImage/output.mp4\"\n",
        "\n",
        "process_video(input_video_path, output_video_path)\n"
      ]
    },
    {
      "cell_type": "code",
      "execution_count": null,
      "metadata": {
        "id": "sQUYKfcHX2ru"
      },
      "outputs": [],
      "source": [
        "from ultralytics import YOLO\n",
        "\n",
        "# Load a model\n",
        "model = YOLO('/content/runs/detect/train/weights/best.pt')  # load a pretrained model (recommended for training)\n",
        "\n",
        "# Use the model\n",
        "results = model('/content/drive/MyDrive/TestImage/solidWhiteCurve.jpg', save=True)  # predict on an image\n"
      ]
    },
    {
      "cell_type": "code",
      "execution_count": null,
      "metadata": {
        "colab": {
          "base_uri": "https://localhost:8080/"
        },
        "collapsed": true,
        "id": "lNe0kqpY3G88",
        "outputId": "a7c643ad-eb6d-47f5-8e97-426ec8c7734e"
      },
      "outputs": [
        {
          "name": "stdout",
          "output_type": "stream",
          "text": [
            "Ultralytics 8.3.78 🚀 Python-3.11.11 torch-2.5.1+cu124 CUDA:0 (Tesla T4, 15095MiB)\n"
          ]
        },
        {
          "name": "stderr",
          "output_type": "stream",
          "text": [
            "\u001b[34m\u001b[1mval: \u001b[0mScanning /content/drive/MyDrive/LaneDetectionDataset/valid/labels.cache... 171 images, 0 backgrounds, 0 corrupt: 100%|██████████| 171/171 [00:00<?, ?it/s]\n",
            "                 Class     Images  Instances      Box(P          R      mAP50  mAP50-95): 100%|██████████| 11/11 [00:05<00:00,  2.16it/s]\n"
          ]
        },
        {
          "name": "stdout",
          "output_type": "stream",
          "text": [
            "                   all        171       1025      0.747      0.218      0.315      0.198\n",
            "                  bike        116        337          1          0          0          0\n",
            "                   bus          5          5      0.374        0.4       0.51       0.41\n",
            "                   car         57        571      0.825      0.486       0.64      0.376\n",
            "                person         19         87      0.567      0.211      0.269      0.105\n",
            "                 rider          1          1          1          0     0.0711     0.0213\n",
            "                 truck         15         24      0.715      0.209      0.399      0.276\n",
            "Speed: 2.9ms preprocess, 5.8ms inference, 0.0ms loss, 2.3ms postprocess per image\n",
            "Results saved to \u001b[1mruns/detect/val\u001b[0m\n"
          ]
        },
        {
          "data": {
            "text/plain": [
              "ultralytics.utils.metrics.DetMetrics object with attributes:\n",
              "\n",
              "ap_class_index: array([0, 1, 2, 4, 5, 6])\n",
              "box: ultralytics.utils.metrics.Metric object\n",
              "confusion_matrix: <ultralytics.utils.metrics.ConfusionMatrix object at 0x7fecfeb483d0>\n",
              "curves: ['Precision-Recall(B)', 'F1-Confidence(B)', 'Precision-Confidence(B)', 'Recall-Confidence(B)']\n",
              "curves_results: [[array([          0,    0.001001,    0.002002,    0.003003,    0.004004,    0.005005,    0.006006,    0.007007,    0.008008,    0.009009,     0.01001,    0.011011,    0.012012,    0.013013,    0.014014,    0.015015,    0.016016,    0.017017,    0.018018,    0.019019,     0.02002,    0.021021,    0.022022,    0.023023,\n",
              "          0.024024,    0.025025,    0.026026,    0.027027,    0.028028,    0.029029,     0.03003,    0.031031,    0.032032,    0.033033,    0.034034,    0.035035,    0.036036,    0.037037,    0.038038,    0.039039,     0.04004,    0.041041,    0.042042,    0.043043,    0.044044,    0.045045,    0.046046,    0.047047,\n",
              "          0.048048,    0.049049,     0.05005,    0.051051,    0.052052,    0.053053,    0.054054,    0.055055,    0.056056,    0.057057,    0.058058,    0.059059,     0.06006,    0.061061,    0.062062,    0.063063,    0.064064,    0.065065,    0.066066,    0.067067,    0.068068,    0.069069,     0.07007,    0.071071,\n",
              "          0.072072,    0.073073,    0.074074,    0.075075,    0.076076,    0.077077,    0.078078,    0.079079,     0.08008,    0.081081,    0.082082,    0.083083,    0.084084,    0.085085,    0.086086,    0.087087,    0.088088,    0.089089,     0.09009,    0.091091,    0.092092,    0.093093,    0.094094,    0.095095,\n",
              "          0.096096,    0.097097,    0.098098,    0.099099,      0.1001,      0.1011,      0.1021,      0.1031,      0.1041,     0.10511,     0.10611,     0.10711,     0.10811,     0.10911,     0.11011,     0.11111,     0.11211,     0.11311,     0.11411,     0.11512,     0.11612,     0.11712,     0.11812,     0.11912,\n",
              "           0.12012,     0.12112,     0.12212,     0.12312,     0.12412,     0.12513,     0.12613,     0.12713,     0.12813,     0.12913,     0.13013,     0.13113,     0.13213,     0.13313,     0.13413,     0.13514,     0.13614,     0.13714,     0.13814,     0.13914,     0.14014,     0.14114,     0.14214,     0.14314,\n",
              "           0.14414,     0.14515,     0.14615,     0.14715,     0.14815,     0.14915,     0.15015,     0.15115,     0.15215,     0.15315,     0.15415,     0.15516,     0.15616,     0.15716,     0.15816,     0.15916,     0.16016,     0.16116,     0.16216,     0.16316,     0.16416,     0.16517,     0.16617,     0.16717,\n",
              "           0.16817,     0.16917,     0.17017,     0.17117,     0.17217,     0.17317,     0.17417,     0.17518,     0.17618,     0.17718,     0.17818,     0.17918,     0.18018,     0.18118,     0.18218,     0.18318,     0.18418,     0.18519,     0.18619,     0.18719,     0.18819,     0.18919,     0.19019,     0.19119,\n",
              "           0.19219,     0.19319,     0.19419,      0.1952,      0.1962,      0.1972,      0.1982,      0.1992,      0.2002,      0.2012,      0.2022,      0.2032,      0.2042,     0.20521,     0.20621,     0.20721,     0.20821,     0.20921,     0.21021,     0.21121,     0.21221,     0.21321,     0.21421,     0.21522,\n",
              "           0.21622,     0.21722,     0.21822,     0.21922,     0.22022,     0.22122,     0.22222,     0.22322,     0.22422,     0.22523,     0.22623,     0.22723,     0.22823,     0.22923,     0.23023,     0.23123,     0.23223,     0.23323,     0.23423,     0.23524,     0.23624,     0.23724,     0.23824,     0.23924,\n",
              "           0.24024,     0.24124,     0.24224,     0.24324,     0.24424,     0.24525,     0.24625,     0.24725,     0.24825,     0.24925,     0.25025,     0.25125,     0.25225,     0.25325,     0.25425,     0.25526,     0.25626,     0.25726,     0.25826,     0.25926,     0.26026,     0.26126,     0.26226,     0.26326,\n",
              "           0.26426,     0.26527,     0.26627,     0.26727,     0.26827,     0.26927,     0.27027,     0.27127,     0.27227,     0.27327,     0.27427,     0.27528,     0.27628,     0.27728,     0.27828,     0.27928,     0.28028,     0.28128,     0.28228,     0.28328,     0.28428,     0.28529,     0.28629,     0.28729,\n",
              "           0.28829,     0.28929,     0.29029,     0.29129,     0.29229,     0.29329,     0.29429,      0.2953,      0.2963,      0.2973,      0.2983,      0.2993,      0.3003,      0.3013,      0.3023,      0.3033,      0.3043,     0.30531,     0.30631,     0.30731,     0.30831,     0.30931,     0.31031,     0.31131,\n",
              "           0.31231,     0.31331,     0.31431,     0.31532,     0.31632,     0.31732,     0.31832,     0.31932,     0.32032,     0.32132,     0.32232,     0.32332,     0.32432,     0.32533,     0.32633,     0.32733,     0.32833,     0.32933,     0.33033,     0.33133,     0.33233,     0.33333,     0.33433,     0.33534,\n",
              "           0.33634,     0.33734,     0.33834,     0.33934,     0.34034,     0.34134,     0.34234,     0.34334,     0.34434,     0.34535,     0.34635,     0.34735,     0.34835,     0.34935,     0.35035,     0.35135,     0.35235,     0.35335,     0.35435,     0.35536,     0.35636,     0.35736,     0.35836,     0.35936,\n",
              "           0.36036,     0.36136,     0.36236,     0.36336,     0.36436,     0.36537,     0.36637,     0.36737,     0.36837,     0.36937,     0.37037,     0.37137,     0.37237,     0.37337,     0.37437,     0.37538,     0.37638,     0.37738,     0.37838,     0.37938,     0.38038,     0.38138,     0.38238,     0.38338,\n",
              "           0.38438,     0.38539,     0.38639,     0.38739,     0.38839,     0.38939,     0.39039,     0.39139,     0.39239,     0.39339,     0.39439,      0.3954,      0.3964,      0.3974,      0.3984,      0.3994,      0.4004,      0.4014,      0.4024,      0.4034,      0.4044,     0.40541,     0.40641,     0.40741,\n",
              "           0.40841,     0.40941,     0.41041,     0.41141,     0.41241,     0.41341,     0.41441,     0.41542,     0.41642,     0.41742,     0.41842,     0.41942,     0.42042,     0.42142,     0.42242,     0.42342,     0.42442,     0.42543,     0.42643,     0.42743,     0.42843,     0.42943,     0.43043,     0.43143,\n",
              "           0.43243,     0.43343,     0.43443,     0.43544,     0.43644,     0.43744,     0.43844,     0.43944,     0.44044,     0.44144,     0.44244,     0.44344,     0.44444,     0.44545,     0.44645,     0.44745,     0.44845,     0.44945,     0.45045,     0.45145,     0.45245,     0.45345,     0.45445,     0.45546,\n",
              "           0.45646,     0.45746,     0.45846,     0.45946,     0.46046,     0.46146,     0.46246,     0.46346,     0.46446,     0.46547,     0.46647,     0.46747,     0.46847,     0.46947,     0.47047,     0.47147,     0.47247,     0.47347,     0.47447,     0.47548,     0.47648,     0.47748,     0.47848,     0.47948,\n",
              "           0.48048,     0.48148,     0.48248,     0.48348,     0.48448,     0.48549,     0.48649,     0.48749,     0.48849,     0.48949,     0.49049,     0.49149,     0.49249,     0.49349,     0.49449,      0.4955,      0.4965,      0.4975,      0.4985,      0.4995,      0.5005,      0.5015,      0.5025,      0.5035,\n",
              "            0.5045,     0.50551,     0.50651,     0.50751,     0.50851,     0.50951,     0.51051,     0.51151,     0.51251,     0.51351,     0.51451,     0.51552,     0.51652,     0.51752,     0.51852,     0.51952,     0.52052,     0.52152,     0.52252,     0.52352,     0.52452,     0.52553,     0.52653,     0.52753,\n",
              "           0.52853,     0.52953,     0.53053,     0.53153,     0.53253,     0.53353,     0.53453,     0.53554,     0.53654,     0.53754,     0.53854,     0.53954,     0.54054,     0.54154,     0.54254,     0.54354,     0.54454,     0.54555,     0.54655,     0.54755,     0.54855,     0.54955,     0.55055,     0.55155,\n",
              "           0.55255,     0.55355,     0.55455,     0.55556,     0.55656,     0.55756,     0.55856,     0.55956,     0.56056,     0.56156,     0.56256,     0.56356,     0.56456,     0.56557,     0.56657,     0.56757,     0.56857,     0.56957,     0.57057,     0.57157,     0.57257,     0.57357,     0.57457,     0.57558,\n",
              "           0.57658,     0.57758,     0.57858,     0.57958,     0.58058,     0.58158,     0.58258,     0.58358,     0.58458,     0.58559,     0.58659,     0.58759,     0.58859,     0.58959,     0.59059,     0.59159,     0.59259,     0.59359,     0.59459,      0.5956,      0.5966,      0.5976,      0.5986,      0.5996,\n",
              "            0.6006,      0.6016,      0.6026,      0.6036,      0.6046,     0.60561,     0.60661,     0.60761,     0.60861,     0.60961,     0.61061,     0.61161,     0.61261,     0.61361,     0.61461,     0.61562,     0.61662,     0.61762,     0.61862,     0.61962,     0.62062,     0.62162,     0.62262,     0.62362,\n",
              "           0.62462,     0.62563,     0.62663,     0.62763,     0.62863,     0.62963,     0.63063,     0.63163,     0.63263,     0.63363,     0.63463,     0.63564,     0.63664,     0.63764,     0.63864,     0.63964,     0.64064,     0.64164,     0.64264,     0.64364,     0.64464,     0.64565,     0.64665,     0.64765,\n",
              "           0.64865,     0.64965,     0.65065,     0.65165,     0.65265,     0.65365,     0.65465,     0.65566,     0.65666,     0.65766,     0.65866,     0.65966,     0.66066,     0.66166,     0.66266,     0.66366,     0.66466,     0.66567,     0.66667,     0.66767,     0.66867,     0.66967,     0.67067,     0.67167,\n",
              "           0.67267,     0.67367,     0.67467,     0.67568,     0.67668,     0.67768,     0.67868,     0.67968,     0.68068,     0.68168,     0.68268,     0.68368,     0.68468,     0.68569,     0.68669,     0.68769,     0.68869,     0.68969,     0.69069,     0.69169,     0.69269,     0.69369,     0.69469,      0.6957,\n",
              "            0.6967,      0.6977,      0.6987,      0.6997,      0.7007,      0.7017,      0.7027,      0.7037,      0.7047,     0.70571,     0.70671,     0.70771,     0.70871,     0.70971,     0.71071,     0.71171,     0.71271,     0.71371,     0.71471,     0.71572,     0.71672,     0.71772,     0.71872,     0.71972,\n",
              "           0.72072,     0.72172,     0.72272,     0.72372,     0.72472,     0.72573,     0.72673,     0.72773,     0.72873,     0.72973,     0.73073,     0.73173,     0.73273,     0.73373,     0.73473,     0.73574,     0.73674,     0.73774,     0.73874,     0.73974,     0.74074,     0.74174,     0.74274,     0.74374,\n",
              "           0.74474,     0.74575,     0.74675,     0.74775,     0.74875,     0.74975,     0.75075,     0.75175,     0.75275,     0.75375,     0.75475,     0.75576,     0.75676,     0.75776,     0.75876,     0.75976,     0.76076,     0.76176,     0.76276,     0.76376,     0.76476,     0.76577,     0.76677,     0.76777,\n",
              "           0.76877,     0.76977,     0.77077,     0.77177,     0.77277,     0.77377,     0.77477,     0.77578,     0.77678,     0.77778,     0.77878,     0.77978,     0.78078,     0.78178,     0.78278,     0.78378,     0.78478,     0.78579,     0.78679,     0.78779,     0.78879,     0.78979,     0.79079,     0.79179,\n",
              "           0.79279,     0.79379,     0.79479,      0.7958,      0.7968,      0.7978,      0.7988,      0.7998,      0.8008,      0.8018,      0.8028,      0.8038,      0.8048,     0.80581,     0.80681,     0.80781,     0.80881,     0.80981,     0.81081,     0.81181,     0.81281,     0.81381,     0.81481,     0.81582,\n",
              "           0.81682,     0.81782,     0.81882,     0.81982,     0.82082,     0.82182,     0.82282,     0.82382,     0.82482,     0.82583,     0.82683,     0.82783,     0.82883,     0.82983,     0.83083,     0.83183,     0.83283,     0.83383,     0.83483,     0.83584,     0.83684,     0.83784,     0.83884,     0.83984,\n",
              "           0.84084,     0.84184,     0.84284,     0.84384,     0.84484,     0.84585,     0.84685,     0.84785,     0.84885,     0.84985,     0.85085,     0.85185,     0.85285,     0.85385,     0.85485,     0.85586,     0.85686,     0.85786,     0.85886,     0.85986,     0.86086,     0.86186,     0.86286,     0.86386,\n",
              "           0.86486,     0.86587,     0.86687,     0.86787,     0.86887,     0.86987,     0.87087,     0.87187,     0.87287,     0.87387,     0.87487,     0.87588,     0.87688,     0.87788,     0.87888,     0.87988,     0.88088,     0.88188,     0.88288,     0.88388,     0.88488,     0.88589,     0.88689,     0.88789,\n",
              "           0.88889,     0.88989,     0.89089,     0.89189,     0.89289,     0.89389,     0.89489,      0.8959,      0.8969,      0.8979,      0.8989,      0.8999,      0.9009,      0.9019,      0.9029,      0.9039,      0.9049,     0.90591,     0.90691,     0.90791,     0.90891,     0.90991,     0.91091,     0.91191,\n",
              "           0.91291,     0.91391,     0.91491,     0.91592,     0.91692,     0.91792,     0.91892,     0.91992,     0.92092,     0.92192,     0.92292,     0.92392,     0.92492,     0.92593,     0.92693,     0.92793,     0.92893,     0.92993,     0.93093,     0.93193,     0.93293,     0.93393,     0.93493,     0.93594,\n",
              "           0.93694,     0.93794,     0.93894,     0.93994,     0.94094,     0.94194,     0.94294,     0.94394,     0.94494,     0.94595,     0.94695,     0.94795,     0.94895,     0.94995,     0.95095,     0.95195,     0.95295,     0.95395,     0.95495,     0.95596,     0.95696,     0.95796,     0.95896,     0.95996,\n",
              "           0.96096,     0.96196,     0.96296,     0.96396,     0.96496,     0.96597,     0.96697,     0.96797,     0.96897,     0.96997,     0.97097,     0.97197,     0.97297,     0.97397,     0.97497,     0.97598,     0.97698,     0.97798,     0.97898,     0.97998,     0.98098,     0.98198,     0.98298,     0.98398,\n",
              "           0.98498,     0.98599,     0.98699,     0.98799,     0.98899,     0.98999,     0.99099,     0.99199,     0.99299,     0.99399,     0.99499,       0.996,       0.997,       0.998,       0.999,           1]), array([[          0,           0,           0, ...,           0,           0,           0],\n",
              "       [          1,           1,           1, ...,     0.00011,     5.5e-05,           0],\n",
              "       [          1,           1,           1, ...,  0.00055337,  0.00027668,           0],\n",
              "       [          1,           1,           1, ...,   9.209e-05,  4.6045e-05,           0],\n",
              "       [   0.071429,    0.071429,    0.071429, ...,    0.071429,    0.071429,           0],\n",
              "       [          1,           1,           1, ...,  0.00036519,  0.00018259,           0]]), 'Recall', 'Precision'], [array([          0,    0.001001,    0.002002,    0.003003,    0.004004,    0.005005,    0.006006,    0.007007,    0.008008,    0.009009,     0.01001,    0.011011,    0.012012,    0.013013,    0.014014,    0.015015,    0.016016,    0.017017,    0.018018,    0.019019,     0.02002,    0.021021,    0.022022,    0.023023,\n",
              "          0.024024,    0.025025,    0.026026,    0.027027,    0.028028,    0.029029,     0.03003,    0.031031,    0.032032,    0.033033,    0.034034,    0.035035,    0.036036,    0.037037,    0.038038,    0.039039,     0.04004,    0.041041,    0.042042,    0.043043,    0.044044,    0.045045,    0.046046,    0.047047,\n",
              "          0.048048,    0.049049,     0.05005,    0.051051,    0.052052,    0.053053,    0.054054,    0.055055,    0.056056,    0.057057,    0.058058,    0.059059,     0.06006,    0.061061,    0.062062,    0.063063,    0.064064,    0.065065,    0.066066,    0.067067,    0.068068,    0.069069,     0.07007,    0.071071,\n",
              "          0.072072,    0.073073,    0.074074,    0.075075,    0.076076,    0.077077,    0.078078,    0.079079,     0.08008,    0.081081,    0.082082,    0.083083,    0.084084,    0.085085,    0.086086,    0.087087,    0.088088,    0.089089,     0.09009,    0.091091,    0.092092,    0.093093,    0.094094,    0.095095,\n",
              "          0.096096,    0.097097,    0.098098,    0.099099,      0.1001,      0.1011,      0.1021,      0.1031,      0.1041,     0.10511,     0.10611,     0.10711,     0.10811,     0.10911,     0.11011,     0.11111,     0.11211,     0.11311,     0.11411,     0.11512,     0.11612,     0.11712,     0.11812,     0.11912,\n",
              "           0.12012,     0.12112,     0.12212,     0.12312,     0.12412,     0.12513,     0.12613,     0.12713,     0.12813,     0.12913,     0.13013,     0.13113,     0.13213,     0.13313,     0.13413,     0.13514,     0.13614,     0.13714,     0.13814,     0.13914,     0.14014,     0.14114,     0.14214,     0.14314,\n",
              "           0.14414,     0.14515,     0.14615,     0.14715,     0.14815,     0.14915,     0.15015,     0.15115,     0.15215,     0.15315,     0.15415,     0.15516,     0.15616,     0.15716,     0.15816,     0.15916,     0.16016,     0.16116,     0.16216,     0.16316,     0.16416,     0.16517,     0.16617,     0.16717,\n",
              "           0.16817,     0.16917,     0.17017,     0.17117,     0.17217,     0.17317,     0.17417,     0.17518,     0.17618,     0.17718,     0.17818,     0.17918,     0.18018,     0.18118,     0.18218,     0.18318,     0.18418,     0.18519,     0.18619,     0.18719,     0.18819,     0.18919,     0.19019,     0.19119,\n",
              "           0.19219,     0.19319,     0.19419,      0.1952,      0.1962,      0.1972,      0.1982,      0.1992,      0.2002,      0.2012,      0.2022,      0.2032,      0.2042,     0.20521,     0.20621,     0.20721,     0.20821,     0.20921,     0.21021,     0.21121,     0.21221,     0.21321,     0.21421,     0.21522,\n",
              "           0.21622,     0.21722,     0.21822,     0.21922,     0.22022,     0.22122,     0.22222,     0.22322,     0.22422,     0.22523,     0.22623,     0.22723,     0.22823,     0.22923,     0.23023,     0.23123,     0.23223,     0.23323,     0.23423,     0.23524,     0.23624,     0.23724,     0.23824,     0.23924,\n",
              "           0.24024,     0.24124,     0.24224,     0.24324,     0.24424,     0.24525,     0.24625,     0.24725,     0.24825,     0.24925,     0.25025,     0.25125,     0.25225,     0.25325,     0.25425,     0.25526,     0.25626,     0.25726,     0.25826,     0.25926,     0.26026,     0.26126,     0.26226,     0.26326,\n",
              "           0.26426,     0.26527,     0.26627,     0.26727,     0.26827,     0.26927,     0.27027,     0.27127,     0.27227,     0.27327,     0.27427,     0.27528,     0.27628,     0.27728,     0.27828,     0.27928,     0.28028,     0.28128,     0.28228,     0.28328,     0.28428,     0.28529,     0.28629,     0.28729,\n",
              "           0.28829,     0.28929,     0.29029,     0.29129,     0.29229,     0.29329,     0.29429,      0.2953,      0.2963,      0.2973,      0.2983,      0.2993,      0.3003,      0.3013,      0.3023,      0.3033,      0.3043,     0.30531,     0.30631,     0.30731,     0.30831,     0.30931,     0.31031,     0.31131,\n",
              "           0.31231,     0.31331,     0.31431,     0.31532,     0.31632,     0.31732,     0.31832,     0.31932,     0.32032,     0.32132,     0.32232,     0.32332,     0.32432,     0.32533,     0.32633,     0.32733,     0.32833,     0.32933,     0.33033,     0.33133,     0.33233,     0.33333,     0.33433,     0.33534,\n",
              "           0.33634,     0.33734,     0.33834,     0.33934,     0.34034,     0.34134,     0.34234,     0.34334,     0.34434,     0.34535,     0.34635,     0.34735,     0.34835,     0.34935,     0.35035,     0.35135,     0.35235,     0.35335,     0.35435,     0.35536,     0.35636,     0.35736,     0.35836,     0.35936,\n",
              "           0.36036,     0.36136,     0.36236,     0.36336,     0.36436,     0.36537,     0.36637,     0.36737,     0.36837,     0.36937,     0.37037,     0.37137,     0.37237,     0.37337,     0.37437,     0.37538,     0.37638,     0.37738,     0.37838,     0.37938,     0.38038,     0.38138,     0.38238,     0.38338,\n",
              "           0.38438,     0.38539,     0.38639,     0.38739,     0.38839,     0.38939,     0.39039,     0.39139,     0.39239,     0.39339,     0.39439,      0.3954,      0.3964,      0.3974,      0.3984,      0.3994,      0.4004,      0.4014,      0.4024,      0.4034,      0.4044,     0.40541,     0.40641,     0.40741,\n",
              "           0.40841,     0.40941,     0.41041,     0.41141,     0.41241,     0.41341,     0.41441,     0.41542,     0.41642,     0.41742,     0.41842,     0.41942,     0.42042,     0.42142,     0.42242,     0.42342,     0.42442,     0.42543,     0.42643,     0.42743,     0.42843,     0.42943,     0.43043,     0.43143,\n",
              "           0.43243,     0.43343,     0.43443,     0.43544,     0.43644,     0.43744,     0.43844,     0.43944,     0.44044,     0.44144,     0.44244,     0.44344,     0.44444,     0.44545,     0.44645,     0.44745,     0.44845,     0.44945,     0.45045,     0.45145,     0.45245,     0.45345,     0.45445,     0.45546,\n",
              "           0.45646,     0.45746,     0.45846,     0.45946,     0.46046,     0.46146,     0.46246,     0.46346,     0.46446,     0.46547,     0.46647,     0.46747,     0.46847,     0.46947,     0.47047,     0.47147,     0.47247,     0.47347,     0.47447,     0.47548,     0.47648,     0.47748,     0.47848,     0.47948,\n",
              "           0.48048,     0.48148,     0.48248,     0.48348,     0.48448,     0.48549,     0.48649,     0.48749,     0.48849,     0.48949,     0.49049,     0.49149,     0.49249,     0.49349,     0.49449,      0.4955,      0.4965,      0.4975,      0.4985,      0.4995,      0.5005,      0.5015,      0.5025,      0.5035,\n",
              "            0.5045,     0.50551,     0.50651,     0.50751,     0.50851,     0.50951,     0.51051,     0.51151,     0.51251,     0.51351,     0.51451,     0.51552,     0.51652,     0.51752,     0.51852,     0.51952,     0.52052,     0.52152,     0.52252,     0.52352,     0.52452,     0.52553,     0.52653,     0.52753,\n",
              "           0.52853,     0.52953,     0.53053,     0.53153,     0.53253,     0.53353,     0.53453,     0.53554,     0.53654,     0.53754,     0.53854,     0.53954,     0.54054,     0.54154,     0.54254,     0.54354,     0.54454,     0.54555,     0.54655,     0.54755,     0.54855,     0.54955,     0.55055,     0.55155,\n",
              "           0.55255,     0.55355,     0.55455,     0.55556,     0.55656,     0.55756,     0.55856,     0.55956,     0.56056,     0.56156,     0.56256,     0.56356,     0.56456,     0.56557,     0.56657,     0.56757,     0.56857,     0.56957,     0.57057,     0.57157,     0.57257,     0.57357,     0.57457,     0.57558,\n",
              "           0.57658,     0.57758,     0.57858,     0.57958,     0.58058,     0.58158,     0.58258,     0.58358,     0.58458,     0.58559,     0.58659,     0.58759,     0.58859,     0.58959,     0.59059,     0.59159,     0.59259,     0.59359,     0.59459,      0.5956,      0.5966,      0.5976,      0.5986,      0.5996,\n",
              "            0.6006,      0.6016,      0.6026,      0.6036,      0.6046,     0.60561,     0.60661,     0.60761,     0.60861,     0.60961,     0.61061,     0.61161,     0.61261,     0.61361,     0.61461,     0.61562,     0.61662,     0.61762,     0.61862,     0.61962,     0.62062,     0.62162,     0.62262,     0.62362,\n",
              "           0.62462,     0.62563,     0.62663,     0.62763,     0.62863,     0.62963,     0.63063,     0.63163,     0.63263,     0.63363,     0.63463,     0.63564,     0.63664,     0.63764,     0.63864,     0.63964,     0.64064,     0.64164,     0.64264,     0.64364,     0.64464,     0.64565,     0.64665,     0.64765,\n",
              "           0.64865,     0.64965,     0.65065,     0.65165,     0.65265,     0.65365,     0.65465,     0.65566,     0.65666,     0.65766,     0.65866,     0.65966,     0.66066,     0.66166,     0.66266,     0.66366,     0.66466,     0.66567,     0.66667,     0.66767,     0.66867,     0.66967,     0.67067,     0.67167,\n",
              "           0.67267,     0.67367,     0.67467,     0.67568,     0.67668,     0.67768,     0.67868,     0.67968,     0.68068,     0.68168,     0.68268,     0.68368,     0.68468,     0.68569,     0.68669,     0.68769,     0.68869,     0.68969,     0.69069,     0.69169,     0.69269,     0.69369,     0.69469,      0.6957,\n",
              "            0.6967,      0.6977,      0.6987,      0.6997,      0.7007,      0.7017,      0.7027,      0.7037,      0.7047,     0.70571,     0.70671,     0.70771,     0.70871,     0.70971,     0.71071,     0.71171,     0.71271,     0.71371,     0.71471,     0.71572,     0.71672,     0.71772,     0.71872,     0.71972,\n",
              "           0.72072,     0.72172,     0.72272,     0.72372,     0.72472,     0.72573,     0.72673,     0.72773,     0.72873,     0.72973,     0.73073,     0.73173,     0.73273,     0.73373,     0.73473,     0.73574,     0.73674,     0.73774,     0.73874,     0.73974,     0.74074,     0.74174,     0.74274,     0.74374,\n",
              "           0.74474,     0.74575,     0.74675,     0.74775,     0.74875,     0.74975,     0.75075,     0.75175,     0.75275,     0.75375,     0.75475,     0.75576,     0.75676,     0.75776,     0.75876,     0.75976,     0.76076,     0.76176,     0.76276,     0.76376,     0.76476,     0.76577,     0.76677,     0.76777,\n",
              "           0.76877,     0.76977,     0.77077,     0.77177,     0.77277,     0.77377,     0.77477,     0.77578,     0.77678,     0.77778,     0.77878,     0.77978,     0.78078,     0.78178,     0.78278,     0.78378,     0.78478,     0.78579,     0.78679,     0.78779,     0.78879,     0.78979,     0.79079,     0.79179,\n",
              "           0.79279,     0.79379,     0.79479,      0.7958,      0.7968,      0.7978,      0.7988,      0.7998,      0.8008,      0.8018,      0.8028,      0.8038,      0.8048,     0.80581,     0.80681,     0.80781,     0.80881,     0.80981,     0.81081,     0.81181,     0.81281,     0.81381,     0.81481,     0.81582,\n",
              "           0.81682,     0.81782,     0.81882,     0.81982,     0.82082,     0.82182,     0.82282,     0.82382,     0.82482,     0.82583,     0.82683,     0.82783,     0.82883,     0.82983,     0.83083,     0.83183,     0.83283,     0.83383,     0.83483,     0.83584,     0.83684,     0.83784,     0.83884,     0.83984,\n",
              "           0.84084,     0.84184,     0.84284,     0.84384,     0.84484,     0.84585,     0.84685,     0.84785,     0.84885,     0.84985,     0.85085,     0.85185,     0.85285,     0.85385,     0.85485,     0.85586,     0.85686,     0.85786,     0.85886,     0.85986,     0.86086,     0.86186,     0.86286,     0.86386,\n",
              "           0.86486,     0.86587,     0.86687,     0.86787,     0.86887,     0.86987,     0.87087,     0.87187,     0.87287,     0.87387,     0.87487,     0.87588,     0.87688,     0.87788,     0.87888,     0.87988,     0.88088,     0.88188,     0.88288,     0.88388,     0.88488,     0.88589,     0.88689,     0.88789,\n",
              "           0.88889,     0.88989,     0.89089,     0.89189,     0.89289,     0.89389,     0.89489,      0.8959,      0.8969,      0.8979,      0.8989,      0.8999,      0.9009,      0.9019,      0.9029,      0.9039,      0.9049,     0.90591,     0.90691,     0.90791,     0.90891,     0.90991,     0.91091,     0.91191,\n",
              "           0.91291,     0.91391,     0.91491,     0.91592,     0.91692,     0.91792,     0.91892,     0.91992,     0.92092,     0.92192,     0.92292,     0.92392,     0.92492,     0.92593,     0.92693,     0.92793,     0.92893,     0.92993,     0.93093,     0.93193,     0.93293,     0.93393,     0.93493,     0.93594,\n",
              "           0.93694,     0.93794,     0.93894,     0.93994,     0.94094,     0.94194,     0.94294,     0.94394,     0.94494,     0.94595,     0.94695,     0.94795,     0.94895,     0.94995,     0.95095,     0.95195,     0.95295,     0.95395,     0.95495,     0.95596,     0.95696,     0.95796,     0.95896,     0.95996,\n",
              "           0.96096,     0.96196,     0.96296,     0.96396,     0.96496,     0.96597,     0.96697,     0.96797,     0.96897,     0.96997,     0.97097,     0.97197,     0.97297,     0.97397,     0.97497,     0.97598,     0.97698,     0.97798,     0.97898,     0.97998,     0.98098,     0.98198,     0.98298,     0.98398,\n",
              "           0.98498,     0.98599,     0.98699,     0.98799,     0.98899,     0.98999,     0.99099,     0.99199,     0.99299,     0.99399,     0.99499,       0.996,       0.997,       0.998,       0.999,           1]), array([[          0,           0,           0, ...,           0,           0,           0],\n",
              "       [    0.02168,    0.021699,    0.040151, ...,           0,           0,           0],\n",
              "       [   0.090595,    0.090667,     0.13746, ...,           0,           0,           0],\n",
              "       [   0.035899,    0.035899,    0.046444, ...,           0,           0,           0],\n",
              "       [  0.0042373,   0.0042373,   0.0062808, ...,           0,           0,           0],\n",
              "       [   0.044444,    0.044444,    0.076756, ...,           0,           0,           0]]), 'Confidence', 'F1'], [array([          0,    0.001001,    0.002002,    0.003003,    0.004004,    0.005005,    0.006006,    0.007007,    0.008008,    0.009009,     0.01001,    0.011011,    0.012012,    0.013013,    0.014014,    0.015015,    0.016016,    0.017017,    0.018018,    0.019019,     0.02002,    0.021021,    0.022022,    0.023023,\n",
              "          0.024024,    0.025025,    0.026026,    0.027027,    0.028028,    0.029029,     0.03003,    0.031031,    0.032032,    0.033033,    0.034034,    0.035035,    0.036036,    0.037037,    0.038038,    0.039039,     0.04004,    0.041041,    0.042042,    0.043043,    0.044044,    0.045045,    0.046046,    0.047047,\n",
              "          0.048048,    0.049049,     0.05005,    0.051051,    0.052052,    0.053053,    0.054054,    0.055055,    0.056056,    0.057057,    0.058058,    0.059059,     0.06006,    0.061061,    0.062062,    0.063063,    0.064064,    0.065065,    0.066066,    0.067067,    0.068068,    0.069069,     0.07007,    0.071071,\n",
              "          0.072072,    0.073073,    0.074074,    0.075075,    0.076076,    0.077077,    0.078078,    0.079079,     0.08008,    0.081081,    0.082082,    0.083083,    0.084084,    0.085085,    0.086086,    0.087087,    0.088088,    0.089089,     0.09009,    0.091091,    0.092092,    0.093093,    0.094094,    0.095095,\n",
              "          0.096096,    0.097097,    0.098098,    0.099099,      0.1001,      0.1011,      0.1021,      0.1031,      0.1041,     0.10511,     0.10611,     0.10711,     0.10811,     0.10911,     0.11011,     0.11111,     0.11211,     0.11311,     0.11411,     0.11512,     0.11612,     0.11712,     0.11812,     0.11912,\n",
              "           0.12012,     0.12112,     0.12212,     0.12312,     0.12412,     0.12513,     0.12613,     0.12713,     0.12813,     0.12913,     0.13013,     0.13113,     0.13213,     0.13313,     0.13413,     0.13514,     0.13614,     0.13714,     0.13814,     0.13914,     0.14014,     0.14114,     0.14214,     0.14314,\n",
              "           0.14414,     0.14515,     0.14615,     0.14715,     0.14815,     0.14915,     0.15015,     0.15115,     0.15215,     0.15315,     0.15415,     0.15516,     0.15616,     0.15716,     0.15816,     0.15916,     0.16016,     0.16116,     0.16216,     0.16316,     0.16416,     0.16517,     0.16617,     0.16717,\n",
              "           0.16817,     0.16917,     0.17017,     0.17117,     0.17217,     0.17317,     0.17417,     0.17518,     0.17618,     0.17718,     0.17818,     0.17918,     0.18018,     0.18118,     0.18218,     0.18318,     0.18418,     0.18519,     0.18619,     0.18719,     0.18819,     0.18919,     0.19019,     0.19119,\n",
              "           0.19219,     0.19319,     0.19419,      0.1952,      0.1962,      0.1972,      0.1982,      0.1992,      0.2002,      0.2012,      0.2022,      0.2032,      0.2042,     0.20521,     0.20621,     0.20721,     0.20821,     0.20921,     0.21021,     0.21121,     0.21221,     0.21321,     0.21421,     0.21522,\n",
              "           0.21622,     0.21722,     0.21822,     0.21922,     0.22022,     0.22122,     0.22222,     0.22322,     0.22422,     0.22523,     0.22623,     0.22723,     0.22823,     0.22923,     0.23023,     0.23123,     0.23223,     0.23323,     0.23423,     0.23524,     0.23624,     0.23724,     0.23824,     0.23924,\n",
              "           0.24024,     0.24124,     0.24224,     0.24324,     0.24424,     0.24525,     0.24625,     0.24725,     0.24825,     0.24925,     0.25025,     0.25125,     0.25225,     0.25325,     0.25425,     0.25526,     0.25626,     0.25726,     0.25826,     0.25926,     0.26026,     0.26126,     0.26226,     0.26326,\n",
              "           0.26426,     0.26527,     0.26627,     0.26727,     0.26827,     0.26927,     0.27027,     0.27127,     0.27227,     0.27327,     0.27427,     0.27528,     0.27628,     0.27728,     0.27828,     0.27928,     0.28028,     0.28128,     0.28228,     0.28328,     0.28428,     0.28529,     0.28629,     0.28729,\n",
              "           0.28829,     0.28929,     0.29029,     0.29129,     0.29229,     0.29329,     0.29429,      0.2953,      0.2963,      0.2973,      0.2983,      0.2993,      0.3003,      0.3013,      0.3023,      0.3033,      0.3043,     0.30531,     0.30631,     0.30731,     0.30831,     0.30931,     0.31031,     0.31131,\n",
              "           0.31231,     0.31331,     0.31431,     0.31532,     0.31632,     0.31732,     0.31832,     0.31932,     0.32032,     0.32132,     0.32232,     0.32332,     0.32432,     0.32533,     0.32633,     0.32733,     0.32833,     0.32933,     0.33033,     0.33133,     0.33233,     0.33333,     0.33433,     0.33534,\n",
              "           0.33634,     0.33734,     0.33834,     0.33934,     0.34034,     0.34134,     0.34234,     0.34334,     0.34434,     0.34535,     0.34635,     0.34735,     0.34835,     0.34935,     0.35035,     0.35135,     0.35235,     0.35335,     0.35435,     0.35536,     0.35636,     0.35736,     0.35836,     0.35936,\n",
              "           0.36036,     0.36136,     0.36236,     0.36336,     0.36436,     0.36537,     0.36637,     0.36737,     0.36837,     0.36937,     0.37037,     0.37137,     0.37237,     0.37337,     0.37437,     0.37538,     0.37638,     0.37738,     0.37838,     0.37938,     0.38038,     0.38138,     0.38238,     0.38338,\n",
              "           0.38438,     0.38539,     0.38639,     0.38739,     0.38839,     0.38939,     0.39039,     0.39139,     0.39239,     0.39339,     0.39439,      0.3954,      0.3964,      0.3974,      0.3984,      0.3994,      0.4004,      0.4014,      0.4024,      0.4034,      0.4044,     0.40541,     0.40641,     0.40741,\n",
              "           0.40841,     0.40941,     0.41041,     0.41141,     0.41241,     0.41341,     0.41441,     0.41542,     0.41642,     0.41742,     0.41842,     0.41942,     0.42042,     0.42142,     0.42242,     0.42342,     0.42442,     0.42543,     0.42643,     0.42743,     0.42843,     0.42943,     0.43043,     0.43143,\n",
              "           0.43243,     0.43343,     0.43443,     0.43544,     0.43644,     0.43744,     0.43844,     0.43944,     0.44044,     0.44144,     0.44244,     0.44344,     0.44444,     0.44545,     0.44645,     0.44745,     0.44845,     0.44945,     0.45045,     0.45145,     0.45245,     0.45345,     0.45445,     0.45546,\n",
              "           0.45646,     0.45746,     0.45846,     0.45946,     0.46046,     0.46146,     0.46246,     0.46346,     0.46446,     0.46547,     0.46647,     0.46747,     0.46847,     0.46947,     0.47047,     0.47147,     0.47247,     0.47347,     0.47447,     0.47548,     0.47648,     0.47748,     0.47848,     0.47948,\n",
              "           0.48048,     0.48148,     0.48248,     0.48348,     0.48448,     0.48549,     0.48649,     0.48749,     0.48849,     0.48949,     0.49049,     0.49149,     0.49249,     0.49349,     0.49449,      0.4955,      0.4965,      0.4975,      0.4985,      0.4995,      0.5005,      0.5015,      0.5025,      0.5035,\n",
              "            0.5045,     0.50551,     0.50651,     0.50751,     0.50851,     0.50951,     0.51051,     0.51151,     0.51251,     0.51351,     0.51451,     0.51552,     0.51652,     0.51752,     0.51852,     0.51952,     0.52052,     0.52152,     0.52252,     0.52352,     0.52452,     0.52553,     0.52653,     0.52753,\n",
              "           0.52853,     0.52953,     0.53053,     0.53153,     0.53253,     0.53353,     0.53453,     0.53554,     0.53654,     0.53754,     0.53854,     0.53954,     0.54054,     0.54154,     0.54254,     0.54354,     0.54454,     0.54555,     0.54655,     0.54755,     0.54855,     0.54955,     0.55055,     0.55155,\n",
              "           0.55255,     0.55355,     0.55455,     0.55556,     0.55656,     0.55756,     0.55856,     0.55956,     0.56056,     0.56156,     0.56256,     0.56356,     0.56456,     0.56557,     0.56657,     0.56757,     0.56857,     0.56957,     0.57057,     0.57157,     0.57257,     0.57357,     0.57457,     0.57558,\n",
              "           0.57658,     0.57758,     0.57858,     0.57958,     0.58058,     0.58158,     0.58258,     0.58358,     0.58458,     0.58559,     0.58659,     0.58759,     0.58859,     0.58959,     0.59059,     0.59159,     0.59259,     0.59359,     0.59459,      0.5956,      0.5966,      0.5976,      0.5986,      0.5996,\n",
              "            0.6006,      0.6016,      0.6026,      0.6036,      0.6046,     0.60561,     0.60661,     0.60761,     0.60861,     0.60961,     0.61061,     0.61161,     0.61261,     0.61361,     0.61461,     0.61562,     0.61662,     0.61762,     0.61862,     0.61962,     0.62062,     0.62162,     0.62262,     0.62362,\n",
              "           0.62462,     0.62563,     0.62663,     0.62763,     0.62863,     0.62963,     0.63063,     0.63163,     0.63263,     0.63363,     0.63463,     0.63564,     0.63664,     0.63764,     0.63864,     0.63964,     0.64064,     0.64164,     0.64264,     0.64364,     0.64464,     0.64565,     0.64665,     0.64765,\n",
              "           0.64865,     0.64965,     0.65065,     0.65165,     0.65265,     0.65365,     0.65465,     0.65566,     0.65666,     0.65766,     0.65866,     0.65966,     0.66066,     0.66166,     0.66266,     0.66366,     0.66466,     0.66567,     0.66667,     0.66767,     0.66867,     0.66967,     0.67067,     0.67167,\n",
              "           0.67267,     0.67367,     0.67467,     0.67568,     0.67668,     0.67768,     0.67868,     0.67968,     0.68068,     0.68168,     0.68268,     0.68368,     0.68468,     0.68569,     0.68669,     0.68769,     0.68869,     0.68969,     0.69069,     0.69169,     0.69269,     0.69369,     0.69469,      0.6957,\n",
              "            0.6967,      0.6977,      0.6987,      0.6997,      0.7007,      0.7017,      0.7027,      0.7037,      0.7047,     0.70571,     0.70671,     0.70771,     0.70871,     0.70971,     0.71071,     0.71171,     0.71271,     0.71371,     0.71471,     0.71572,     0.71672,     0.71772,     0.71872,     0.71972,\n",
              "           0.72072,     0.72172,     0.72272,     0.72372,     0.72472,     0.72573,     0.72673,     0.72773,     0.72873,     0.72973,     0.73073,     0.73173,     0.73273,     0.73373,     0.73473,     0.73574,     0.73674,     0.73774,     0.73874,     0.73974,     0.74074,     0.74174,     0.74274,     0.74374,\n",
              "           0.74474,     0.74575,     0.74675,     0.74775,     0.74875,     0.74975,     0.75075,     0.75175,     0.75275,     0.75375,     0.75475,     0.75576,     0.75676,     0.75776,     0.75876,     0.75976,     0.76076,     0.76176,     0.76276,     0.76376,     0.76476,     0.76577,     0.76677,     0.76777,\n",
              "           0.76877,     0.76977,     0.77077,     0.77177,     0.77277,     0.77377,     0.77477,     0.77578,     0.77678,     0.77778,     0.77878,     0.77978,     0.78078,     0.78178,     0.78278,     0.78378,     0.78478,     0.78579,     0.78679,     0.78779,     0.78879,     0.78979,     0.79079,     0.79179,\n",
              "           0.79279,     0.79379,     0.79479,      0.7958,      0.7968,      0.7978,      0.7988,      0.7998,      0.8008,      0.8018,      0.8028,      0.8038,      0.8048,     0.80581,     0.80681,     0.80781,     0.80881,     0.80981,     0.81081,     0.81181,     0.81281,     0.81381,     0.81481,     0.81582,\n",
              "           0.81682,     0.81782,     0.81882,     0.81982,     0.82082,     0.82182,     0.82282,     0.82382,     0.82482,     0.82583,     0.82683,     0.82783,     0.82883,     0.82983,     0.83083,     0.83183,     0.83283,     0.83383,     0.83483,     0.83584,     0.83684,     0.83784,     0.83884,     0.83984,\n",
              "           0.84084,     0.84184,     0.84284,     0.84384,     0.84484,     0.84585,     0.84685,     0.84785,     0.84885,     0.84985,     0.85085,     0.85185,     0.85285,     0.85385,     0.85485,     0.85586,     0.85686,     0.85786,     0.85886,     0.85986,     0.86086,     0.86186,     0.86286,     0.86386,\n",
              "           0.86486,     0.86587,     0.86687,     0.86787,     0.86887,     0.86987,     0.87087,     0.87187,     0.87287,     0.87387,     0.87487,     0.87588,     0.87688,     0.87788,     0.87888,     0.87988,     0.88088,     0.88188,     0.88288,     0.88388,     0.88488,     0.88589,     0.88689,     0.88789,\n",
              "           0.88889,     0.88989,     0.89089,     0.89189,     0.89289,     0.89389,     0.89489,      0.8959,      0.8969,      0.8979,      0.8989,      0.8999,      0.9009,      0.9019,      0.9029,      0.9039,      0.9049,     0.90591,     0.90691,     0.90791,     0.90891,     0.90991,     0.91091,     0.91191,\n",
              "           0.91291,     0.91391,     0.91491,     0.91592,     0.91692,     0.91792,     0.91892,     0.91992,     0.92092,     0.92192,     0.92292,     0.92392,     0.92492,     0.92593,     0.92693,     0.92793,     0.92893,     0.92993,     0.93093,     0.93193,     0.93293,     0.93393,     0.93493,     0.93594,\n",
              "           0.93694,     0.93794,     0.93894,     0.93994,     0.94094,     0.94194,     0.94294,     0.94394,     0.94494,     0.94595,     0.94695,     0.94795,     0.94895,     0.94995,     0.95095,     0.95195,     0.95295,     0.95395,     0.95495,     0.95596,     0.95696,     0.95796,     0.95896,     0.95996,\n",
              "           0.96096,     0.96196,     0.96296,     0.96396,     0.96496,     0.96597,     0.96697,     0.96797,     0.96897,     0.96997,     0.97097,     0.97197,     0.97297,     0.97397,     0.97497,     0.97598,     0.97698,     0.97798,     0.97898,     0.97998,     0.98098,     0.98198,     0.98298,     0.98398,\n",
              "           0.98498,     0.98599,     0.98699,     0.98799,     0.98899,     0.98999,     0.99099,     0.99199,     0.99299,     0.99399,     0.99499,       0.996,       0.997,       0.998,       0.999,           1]), array([[          0,           0,           0, ...,           1,           1,           1],\n",
              "       [   0.010989,    0.010999,    0.020592, ...,           1,           1,           1],\n",
              "       [   0.047924,    0.047964,     0.07499, ...,           1,           1,           1],\n",
              "       [   0.018505,    0.018505,     0.02418, ...,           1,           1,           1],\n",
              "       [  0.0021231,   0.0021231,   0.0031503, ...,           1,           1,           1],\n",
              "       [   0.022801,    0.022801,    0.040139, ...,           1,           1,           1]]), 'Confidence', 'Precision'], [array([          0,    0.001001,    0.002002,    0.003003,    0.004004,    0.005005,    0.006006,    0.007007,    0.008008,    0.009009,     0.01001,    0.011011,    0.012012,    0.013013,    0.014014,    0.015015,    0.016016,    0.017017,    0.018018,    0.019019,     0.02002,    0.021021,    0.022022,    0.023023,\n",
              "          0.024024,    0.025025,    0.026026,    0.027027,    0.028028,    0.029029,     0.03003,    0.031031,    0.032032,    0.033033,    0.034034,    0.035035,    0.036036,    0.037037,    0.038038,    0.039039,     0.04004,    0.041041,    0.042042,    0.043043,    0.044044,    0.045045,    0.046046,    0.047047,\n",
              "          0.048048,    0.049049,     0.05005,    0.051051,    0.052052,    0.053053,    0.054054,    0.055055,    0.056056,    0.057057,    0.058058,    0.059059,     0.06006,    0.061061,    0.062062,    0.063063,    0.064064,    0.065065,    0.066066,    0.067067,    0.068068,    0.069069,     0.07007,    0.071071,\n",
              "          0.072072,    0.073073,    0.074074,    0.075075,    0.076076,    0.077077,    0.078078,    0.079079,     0.08008,    0.081081,    0.082082,    0.083083,    0.084084,    0.085085,    0.086086,    0.087087,    0.088088,    0.089089,     0.09009,    0.091091,    0.092092,    0.093093,    0.094094,    0.095095,\n",
              "          0.096096,    0.097097,    0.098098,    0.099099,      0.1001,      0.1011,      0.1021,      0.1031,      0.1041,     0.10511,     0.10611,     0.10711,     0.10811,     0.10911,     0.11011,     0.11111,     0.11211,     0.11311,     0.11411,     0.11512,     0.11612,     0.11712,     0.11812,     0.11912,\n",
              "           0.12012,     0.12112,     0.12212,     0.12312,     0.12412,     0.12513,     0.12613,     0.12713,     0.12813,     0.12913,     0.13013,     0.13113,     0.13213,     0.13313,     0.13413,     0.13514,     0.13614,     0.13714,     0.13814,     0.13914,     0.14014,     0.14114,     0.14214,     0.14314,\n",
              "           0.14414,     0.14515,     0.14615,     0.14715,     0.14815,     0.14915,     0.15015,     0.15115,     0.15215,     0.15315,     0.15415,     0.15516,     0.15616,     0.15716,     0.15816,     0.15916,     0.16016,     0.16116,     0.16216,     0.16316,     0.16416,     0.16517,     0.16617,     0.16717,\n",
              "           0.16817,     0.16917,     0.17017,     0.17117,     0.17217,     0.17317,     0.17417,     0.17518,     0.17618,     0.17718,     0.17818,     0.17918,     0.18018,     0.18118,     0.18218,     0.18318,     0.18418,     0.18519,     0.18619,     0.18719,     0.18819,     0.18919,     0.19019,     0.19119,\n",
              "           0.19219,     0.19319,     0.19419,      0.1952,      0.1962,      0.1972,      0.1982,      0.1992,      0.2002,      0.2012,      0.2022,      0.2032,      0.2042,     0.20521,     0.20621,     0.20721,     0.20821,     0.20921,     0.21021,     0.21121,     0.21221,     0.21321,     0.21421,     0.21522,\n",
              "           0.21622,     0.21722,     0.21822,     0.21922,     0.22022,     0.22122,     0.22222,     0.22322,     0.22422,     0.22523,     0.22623,     0.22723,     0.22823,     0.22923,     0.23023,     0.23123,     0.23223,     0.23323,     0.23423,     0.23524,     0.23624,     0.23724,     0.23824,     0.23924,\n",
              "           0.24024,     0.24124,     0.24224,     0.24324,     0.24424,     0.24525,     0.24625,     0.24725,     0.24825,     0.24925,     0.25025,     0.25125,     0.25225,     0.25325,     0.25425,     0.25526,     0.25626,     0.25726,     0.25826,     0.25926,     0.26026,     0.26126,     0.26226,     0.26326,\n",
              "           0.26426,     0.26527,     0.26627,     0.26727,     0.26827,     0.26927,     0.27027,     0.27127,     0.27227,     0.27327,     0.27427,     0.27528,     0.27628,     0.27728,     0.27828,     0.27928,     0.28028,     0.28128,     0.28228,     0.28328,     0.28428,     0.28529,     0.28629,     0.28729,\n",
              "           0.28829,     0.28929,     0.29029,     0.29129,     0.29229,     0.29329,     0.29429,      0.2953,      0.2963,      0.2973,      0.2983,      0.2993,      0.3003,      0.3013,      0.3023,      0.3033,      0.3043,     0.30531,     0.30631,     0.30731,     0.30831,     0.30931,     0.31031,     0.31131,\n",
              "           0.31231,     0.31331,     0.31431,     0.31532,     0.31632,     0.31732,     0.31832,     0.31932,     0.32032,     0.32132,     0.32232,     0.32332,     0.32432,     0.32533,     0.32633,     0.32733,     0.32833,     0.32933,     0.33033,     0.33133,     0.33233,     0.33333,     0.33433,     0.33534,\n",
              "           0.33634,     0.33734,     0.33834,     0.33934,     0.34034,     0.34134,     0.34234,     0.34334,     0.34434,     0.34535,     0.34635,     0.34735,     0.34835,     0.34935,     0.35035,     0.35135,     0.35235,     0.35335,     0.35435,     0.35536,     0.35636,     0.35736,     0.35836,     0.35936,\n",
              "           0.36036,     0.36136,     0.36236,     0.36336,     0.36436,     0.36537,     0.36637,     0.36737,     0.36837,     0.36937,     0.37037,     0.37137,     0.37237,     0.37337,     0.37437,     0.37538,     0.37638,     0.37738,     0.37838,     0.37938,     0.38038,     0.38138,     0.38238,     0.38338,\n",
              "           0.38438,     0.38539,     0.38639,     0.38739,     0.38839,     0.38939,     0.39039,     0.39139,     0.39239,     0.39339,     0.39439,      0.3954,      0.3964,      0.3974,      0.3984,      0.3994,      0.4004,      0.4014,      0.4024,      0.4034,      0.4044,     0.40541,     0.40641,     0.40741,\n",
              "           0.40841,     0.40941,     0.41041,     0.41141,     0.41241,     0.41341,     0.41441,     0.41542,     0.41642,     0.41742,     0.41842,     0.41942,     0.42042,     0.42142,     0.42242,     0.42342,     0.42442,     0.42543,     0.42643,     0.42743,     0.42843,     0.42943,     0.43043,     0.43143,\n",
              "           0.43243,     0.43343,     0.43443,     0.43544,     0.43644,     0.43744,     0.43844,     0.43944,     0.44044,     0.44144,     0.44244,     0.44344,     0.44444,     0.44545,     0.44645,     0.44745,     0.44845,     0.44945,     0.45045,     0.45145,     0.45245,     0.45345,     0.45445,     0.45546,\n",
              "           0.45646,     0.45746,     0.45846,     0.45946,     0.46046,     0.46146,     0.46246,     0.46346,     0.46446,     0.46547,     0.46647,     0.46747,     0.46847,     0.46947,     0.47047,     0.47147,     0.47247,     0.47347,     0.47447,     0.47548,     0.47648,     0.47748,     0.47848,     0.47948,\n",
              "           0.48048,     0.48148,     0.48248,     0.48348,     0.48448,     0.48549,     0.48649,     0.48749,     0.48849,     0.48949,     0.49049,     0.49149,     0.49249,     0.49349,     0.49449,      0.4955,      0.4965,      0.4975,      0.4985,      0.4995,      0.5005,      0.5015,      0.5025,      0.5035,\n",
              "            0.5045,     0.50551,     0.50651,     0.50751,     0.50851,     0.50951,     0.51051,     0.51151,     0.51251,     0.51351,     0.51451,     0.51552,     0.51652,     0.51752,     0.51852,     0.51952,     0.52052,     0.52152,     0.52252,     0.52352,     0.52452,     0.52553,     0.52653,     0.52753,\n",
              "           0.52853,     0.52953,     0.53053,     0.53153,     0.53253,     0.53353,     0.53453,     0.53554,     0.53654,     0.53754,     0.53854,     0.53954,     0.54054,     0.54154,     0.54254,     0.54354,     0.54454,     0.54555,     0.54655,     0.54755,     0.54855,     0.54955,     0.55055,     0.55155,\n",
              "           0.55255,     0.55355,     0.55455,     0.55556,     0.55656,     0.55756,     0.55856,     0.55956,     0.56056,     0.56156,     0.56256,     0.56356,     0.56456,     0.56557,     0.56657,     0.56757,     0.56857,     0.56957,     0.57057,     0.57157,     0.57257,     0.57357,     0.57457,     0.57558,\n",
              "           0.57658,     0.57758,     0.57858,     0.57958,     0.58058,     0.58158,     0.58258,     0.58358,     0.58458,     0.58559,     0.58659,     0.58759,     0.58859,     0.58959,     0.59059,     0.59159,     0.59259,     0.59359,     0.59459,      0.5956,      0.5966,      0.5976,      0.5986,      0.5996,\n",
              "            0.6006,      0.6016,      0.6026,      0.6036,      0.6046,     0.60561,     0.60661,     0.60761,     0.60861,     0.60961,     0.61061,     0.61161,     0.61261,     0.61361,     0.61461,     0.61562,     0.61662,     0.61762,     0.61862,     0.61962,     0.62062,     0.62162,     0.62262,     0.62362,\n",
              "           0.62462,     0.62563,     0.62663,     0.62763,     0.62863,     0.62963,     0.63063,     0.63163,     0.63263,     0.63363,     0.63463,     0.63564,     0.63664,     0.63764,     0.63864,     0.63964,     0.64064,     0.64164,     0.64264,     0.64364,     0.64464,     0.64565,     0.64665,     0.64765,\n",
              "           0.64865,     0.64965,     0.65065,     0.65165,     0.65265,     0.65365,     0.65465,     0.65566,     0.65666,     0.65766,     0.65866,     0.65966,     0.66066,     0.66166,     0.66266,     0.66366,     0.66466,     0.66567,     0.66667,     0.66767,     0.66867,     0.66967,     0.67067,     0.67167,\n",
              "           0.67267,     0.67367,     0.67467,     0.67568,     0.67668,     0.67768,     0.67868,     0.67968,     0.68068,     0.68168,     0.68268,     0.68368,     0.68468,     0.68569,     0.68669,     0.68769,     0.68869,     0.68969,     0.69069,     0.69169,     0.69269,     0.69369,     0.69469,      0.6957,\n",
              "            0.6967,      0.6977,      0.6987,      0.6997,      0.7007,      0.7017,      0.7027,      0.7037,      0.7047,     0.70571,     0.70671,     0.70771,     0.70871,     0.70971,     0.71071,     0.71171,     0.71271,     0.71371,     0.71471,     0.71572,     0.71672,     0.71772,     0.71872,     0.71972,\n",
              "           0.72072,     0.72172,     0.72272,     0.72372,     0.72472,     0.72573,     0.72673,     0.72773,     0.72873,     0.72973,     0.73073,     0.73173,     0.73273,     0.73373,     0.73473,     0.73574,     0.73674,     0.73774,     0.73874,     0.73974,     0.74074,     0.74174,     0.74274,     0.74374,\n",
              "           0.74474,     0.74575,     0.74675,     0.74775,     0.74875,     0.74975,     0.75075,     0.75175,     0.75275,     0.75375,     0.75475,     0.75576,     0.75676,     0.75776,     0.75876,     0.75976,     0.76076,     0.76176,     0.76276,     0.76376,     0.76476,     0.76577,     0.76677,     0.76777,\n",
              "           0.76877,     0.76977,     0.77077,     0.77177,     0.77277,     0.77377,     0.77477,     0.77578,     0.77678,     0.77778,     0.77878,     0.77978,     0.78078,     0.78178,     0.78278,     0.78378,     0.78478,     0.78579,     0.78679,     0.78779,     0.78879,     0.78979,     0.79079,     0.79179,\n",
              "           0.79279,     0.79379,     0.79479,      0.7958,      0.7968,      0.7978,      0.7988,      0.7998,      0.8008,      0.8018,      0.8028,      0.8038,      0.8048,     0.80581,     0.80681,     0.80781,     0.80881,     0.80981,     0.81081,     0.81181,     0.81281,     0.81381,     0.81481,     0.81582,\n",
              "           0.81682,     0.81782,     0.81882,     0.81982,     0.82082,     0.82182,     0.82282,     0.82382,     0.82482,     0.82583,     0.82683,     0.82783,     0.82883,     0.82983,     0.83083,     0.83183,     0.83283,     0.83383,     0.83483,     0.83584,     0.83684,     0.83784,     0.83884,     0.83984,\n",
              "           0.84084,     0.84184,     0.84284,     0.84384,     0.84484,     0.84585,     0.84685,     0.84785,     0.84885,     0.84985,     0.85085,     0.85185,     0.85285,     0.85385,     0.85485,     0.85586,     0.85686,     0.85786,     0.85886,     0.85986,     0.86086,     0.86186,     0.86286,     0.86386,\n",
              "           0.86486,     0.86587,     0.86687,     0.86787,     0.86887,     0.86987,     0.87087,     0.87187,     0.87287,     0.87387,     0.87487,     0.87588,     0.87688,     0.87788,     0.87888,     0.87988,     0.88088,     0.88188,     0.88288,     0.88388,     0.88488,     0.88589,     0.88689,     0.88789,\n",
              "           0.88889,     0.88989,     0.89089,     0.89189,     0.89289,     0.89389,     0.89489,      0.8959,      0.8969,      0.8979,      0.8989,      0.8999,      0.9009,      0.9019,      0.9029,      0.9039,      0.9049,     0.90591,     0.90691,     0.90791,     0.90891,     0.90991,     0.91091,     0.91191,\n",
              "           0.91291,     0.91391,     0.91491,     0.91592,     0.91692,     0.91792,     0.91892,     0.91992,     0.92092,     0.92192,     0.92292,     0.92392,     0.92492,     0.92593,     0.92693,     0.92793,     0.92893,     0.92993,     0.93093,     0.93193,     0.93293,     0.93393,     0.93493,     0.93594,\n",
              "           0.93694,     0.93794,     0.93894,     0.93994,     0.94094,     0.94194,     0.94294,     0.94394,     0.94494,     0.94595,     0.94695,     0.94795,     0.94895,     0.94995,     0.95095,     0.95195,     0.95295,     0.95395,     0.95495,     0.95596,     0.95696,     0.95796,     0.95896,     0.95996,\n",
              "           0.96096,     0.96196,     0.96296,     0.96396,     0.96496,     0.96597,     0.96697,     0.96797,     0.96897,     0.96997,     0.97097,     0.97197,     0.97297,     0.97397,     0.97497,     0.97598,     0.97698,     0.97798,     0.97898,     0.97998,     0.98098,     0.98198,     0.98298,     0.98398,\n",
              "           0.98498,     0.98599,     0.98699,     0.98799,     0.98899,     0.98999,     0.99099,     0.99199,     0.99299,     0.99399,     0.99499,       0.996,       0.997,       0.998,       0.999,           1]), array([[          0,           0,           0, ...,           0,           0,           0],\n",
              "       [        0.8,         0.8,         0.8, ...,           0,           0,           0],\n",
              "       [    0.82662,     0.82662,     0.82312, ...,           0,           0,           0],\n",
              "       [     0.5977,      0.5977,     0.58621, ...,           0,           0,           0],\n",
              "       [          1,           1,           1, ...,           0,           0,           0],\n",
              "       [      0.875,       0.875,       0.875, ...,           0,           0,           0]]), 'Confidence', 'Recall']]\n",
              "fitness: 0.2099050300992385\n",
              "keys: ['metrics/precision(B)', 'metrics/recall(B)', 'metrics/mAP50(B)', 'metrics/mAP50-95(B)']\n",
              "maps: array([          0,     0.41024,     0.37604,     0.19823,     0.10541,    0.021321,     0.27637,     0.19823])\n",
              "names: {0: 'bike', 1: 'bus', 2: 'car', 3: 'motor', 4: 'person', 5: 'rider', 6: 'truck', 7: 'lane'}\n",
              "plot: True\n",
              "results_dict: {'metrics/precision(B)': 0.746759509562083, 'metrics/recall(B)': 0.21769698985433883, 'metrics/mAP50(B)': 0.3149745564806899, 'metrics/mAP50-95(B)': 0.19823063827907722, 'fitness': 0.2099050300992385}\n",
              "save_dir: PosixPath('runs/detect/val')\n",
              "speed: {'preprocess': 2.9256139005860726, 'inference': 5.752677502924965, 'loss': 0.002041719298767132, 'postprocess': 2.2637889649130774}\n",
              "task: 'detect'"
            ]
          },
          "execution_count": 7,
          "metadata": {},
          "output_type": "execute_result"
        }
      ],
      "source": [
        "model.val()"
      ]
    },
    {
      "cell_type": "code",
      "execution_count": null,
      "metadata": {
        "colab": {
          "base_uri": "https://localhost:8080/"
        },
        "collapsed": true,
        "id": "huvbWGmY3yRs",
        "outputId": "cc6faf3a-627d-4711-97c1-1ed276bc8734"
      },
      "outputs": [
        {
          "name": "stdout",
          "output_type": "stream",
          "text": [
            "\n",
            "image 1/290 /content/drive/MyDrive/LaneDetectionDataset/test/images/031-0_jpg.rf.ed4db2f748695b109c1ac7e7fba63227.jpg: 416x640 3 lanes, 52.7ms\n",
            "image 2/290 /content/drive/MyDrive/LaneDetectionDataset/test/images/031-104_jpg.rf.6f0903381194a392821795d16b93ce67.jpg: 416x640 2 lanes, 27.0ms\n",
            "image 3/290 /content/drive/MyDrive/LaneDetectionDataset/test/images/031-108_jpg.rf.c40b3e1b9bb94499e2be2487f2f5e805.jpg: 416x640 2 lanes, 17.2ms\n",
            "image 4/290 /content/drive/MyDrive/LaneDetectionDataset/test/images/031-45_jpg.rf.3ca1337ce500bcbf156e16498050f037.jpg: 416x640 2 lanes, 15.9ms\n",
            "image 5/290 /content/drive/MyDrive/LaneDetectionDataset/test/images/031-55_jpg.rf.2380d1c89b94c1c43487359812f23abf.jpg: 416x640 2 lanes, 17.4ms\n",
            "image 6/290 /content/drive/MyDrive/LaneDetectionDataset/test/images/031-57_jpg.rf.ede2e35a1064903cda32ca345625cc81.jpg: 416x640 2 lanes, 23.3ms\n",
            "image 7/290 /content/drive/MyDrive/LaneDetectionDataset/test/images/031-76_jpg.rf.466a2776b2a794bd84072f150ca5ff93.jpg: 416x640 2 lanes, 23.9ms\n",
            "image 8/290 /content/drive/MyDrive/LaneDetectionDataset/test/images/031-89_jpg.rf.6cb0af08d4e3686f8147f8571d79f84b.jpg: 416x640 2 lanes, 21.6ms\n",
            "image 9/290 /content/drive/MyDrive/LaneDetectionDataset/test/images/031-91_jpg.rf.ef0f05e904a01668a875eef410047ede.jpg: 416x640 2 lanes, 19.5ms\n",
            "image 10/290 /content/drive/MyDrive/LaneDetectionDataset/test/images/031-94_jpg.rf.1942550c15fbfa1ddd28868644416af7.jpg: 416x640 3 lanes, 18.3ms\n",
            "image 11/290 /content/drive/MyDrive/LaneDetectionDataset/test/images/044-15_jpg.rf.ba49ec5df1a94c5344c77072d5b3c94b.jpg: 416x640 2 lanes, 17.9ms\n",
            "image 12/290 /content/drive/MyDrive/LaneDetectionDataset/test/images/044-20_jpg.rf.c602d9493dec77ef22162df11e5beb17.jpg: 416x640 2 lanes, 16.6ms\n",
            "image 13/290 /content/drive/MyDrive/LaneDetectionDataset/test/images/044-8_jpg.rf.d5efdab76e247fbf99366198edbc7fd8.jpg: 416x640 2 lanes, 16.4ms\n",
            "image 14/290 /content/drive/MyDrive/LaneDetectionDataset/test/images/049-23_jpg.rf.1295e9df9f8253cc6f76e0b8fa8b1faf.jpg: 416x640 3 lanes, 17.8ms\n",
            "image 15/290 /content/drive/MyDrive/LaneDetectionDataset/test/images/049-32_jpg.rf.2c5bcbbe27006b7f3b2d1bab208657dd.jpg: 416x640 3 lanes, 18.5ms\n",
            "image 16/290 /content/drive/MyDrive/LaneDetectionDataset/test/images/049-39_jpg.rf.08f0316cedf0dbcbb607f63e93d2cb5b.jpg: 416x640 3 lanes, 19.6ms\n",
            "image 17/290 /content/drive/MyDrive/LaneDetectionDataset/test/images/049-50_jpg.rf.3c0f093b0c68e9f024e1a47d2859ab26.jpg: 416x640 3 lanes, 19.4ms\n",
            "image 18/290 /content/drive/MyDrive/LaneDetectionDataset/test/images/049-56_jpg.rf.1d1fd940f5467311a2cc5042497f0f12.jpg: 416x640 3 lanes, 15.9ms\n",
            "image 19/290 /content/drive/MyDrive/LaneDetectionDataset/test/images/049-65_jpg.rf.43b09851e9937dc287ef238b8aaf973a.jpg: 416x640 3 lanes, 16.8ms\n",
            "image 20/290 /content/drive/MyDrive/LaneDetectionDataset/test/images/049-71_jpg.rf.f1f4b7fbde68faa13fa7cf9d4a5bdedf.jpg: 416x640 6 lanes, 16.9ms\n",
            "image 21/290 /content/drive/MyDrive/LaneDetectionDataset/test/images/049-73_jpg.rf.d541c0ab7b15711ae6806d0251d2355a.jpg: 416x640 5 lanes, 18.8ms\n",
            "image 22/290 /content/drive/MyDrive/LaneDetectionDataset/test/images/049-81_jpg.rf.e4157776cec650f77eea0c85cd46cef6.jpg: 416x640 4 lanes, 18.1ms\n",
            "image 23/290 /content/drive/MyDrive/LaneDetectionDataset/test/images/049-91_jpg.rf.ce5762933218b74623bb911ba88f183b.jpg: 416x640 3 lanes, 26.6ms\n",
            "image 24/290 /content/drive/MyDrive/LaneDetectionDataset/test/images/049-99_jpg.rf.fe13a35c8361b1cddda110a3c9897caf.jpg: 416x640 3 lanes, 23.4ms\n",
            "image 25/290 /content/drive/MyDrive/LaneDetectionDataset/test/images/050-1_jpg.rf.86f40412950c0b2180d354a0e4b21681.jpg: 416x640 4 lanes, 24.3ms\n",
            "image 26/290 /content/drive/MyDrive/LaneDetectionDataset/test/images/050-4_jpg.rf.11eab4106f6e9ee308949c5af539f3be.jpg: 416x640 4 lanes, 29.1ms\n",
            "image 27/290 /content/drive/MyDrive/LaneDetectionDataset/test/images/050-52_jpg.rf.b81490233313cbe3513112ab3e3b0a53.jpg: 416x640 3 lanes, 16.4ms\n",
            "image 28/290 /content/drive/MyDrive/LaneDetectionDataset/test/images/050-53_jpg.rf.242c9ed64c560a561fb116f2a5eda9b7.jpg: 416x640 3 lanes, 18.0ms\n",
            "image 29/290 /content/drive/MyDrive/LaneDetectionDataset/test/images/050-68_jpg.rf.62d26fc1efb63883e9f9b4cf804f8304.jpg: 416x640 3 lanes, 11.4ms\n",
            "image 30/290 /content/drive/MyDrive/LaneDetectionDataset/test/images/050-78_jpg.rf.7b0239b2cfdc9cb9a6e42624db620bcb.jpg: 416x640 5 lanes, 10.7ms\n",
            "image 31/290 /content/drive/MyDrive/LaneDetectionDataset/test/images/050-7_jpg.rf.f320e6f139835f4bc6c89ff056bae198.jpg: 416x640 3 lanes, 13.0ms\n",
            "image 32/290 /content/drive/MyDrive/LaneDetectionDataset/test/images/050-89_jpg.rf.099fc24e08ede0bc8f932ba4e73d499b.jpg: 416x640 3 lanes, 10.4ms\n",
            "image 33/290 /content/drive/MyDrive/LaneDetectionDataset/test/images/066-102_jpg.rf.b395db83962d3d25b53196c3d0adc9a6.jpg: 416x640 6 lanes, 11.1ms\n",
            "image 34/290 /content/drive/MyDrive/LaneDetectionDataset/test/images/066-35_jpg.rf.68c4d1ededbf04ea531cd6623ca8c064.jpg: 416x640 3 lanes, 10.8ms\n",
            "image 35/290 /content/drive/MyDrive/LaneDetectionDataset/test/images/066-54_jpg.rf.7d36803ac75b948309e9e3ab689b2eec.jpg: 416x640 3 lanes, 11.0ms\n",
            "image 36/290 /content/drive/MyDrive/LaneDetectionDataset/test/images/066-59_jpg.rf.d2a7c71bd5ef755be7ef686010a8796c.jpg: 416x640 5 lanes, 10.7ms\n",
            "image 37/290 /content/drive/MyDrive/LaneDetectionDataset/test/images/066-67_jpg.rf.f727c6404530d69fe4c9508d1022238c.jpg: 416x640 3 lanes, 11.8ms\n",
            "image 38/290 /content/drive/MyDrive/LaneDetectionDataset/test/images/066-70_jpg.rf.dc343676bdb279144676494f06a8e248.jpg: 416x640 4 lanes, 19.1ms\n",
            "image 39/290 /content/drive/MyDrive/LaneDetectionDataset/test/images/066-81_jpg.rf.df784ed45b3cd97b0b15f49f0136f67e.jpg: 416x640 3 cars, 4 lanes, 11.5ms\n",
            "image 40/290 /content/drive/MyDrive/LaneDetectionDataset/test/images/066-96_jpg.rf.268a45a6f2129bef74b246d0677b8817.jpg: 416x640 2 lanes, 11.6ms\n",
            "image 41/290 /content/drive/MyDrive/LaneDetectionDataset/test/images/068-12_jpg.rf.0f46066e8e87336e2eae8eb23c912dbb.jpg: 416x640 3 lanes, 11.5ms\n",
            "image 42/290 /content/drive/MyDrive/LaneDetectionDataset/test/images/068-14_jpg.rf.0b5cf1a6ea69b4dd5a1be43a05b8a410.jpg: 416x640 3 lanes, 11.1ms\n",
            "image 43/290 /content/drive/MyDrive/LaneDetectionDataset/test/images/068-24_jpg.rf.b3f80563e7b98be56b4903f313e58936.jpg: 416x640 3 lanes, 10.9ms\n",
            "image 44/290 /content/drive/MyDrive/LaneDetectionDataset/test/images/068-38_jpg.rf.85ae7d5f59d06315c338e4c70f78cebe.jpg: 416x640 3 lanes, 11.3ms\n",
            "image 45/290 /content/drive/MyDrive/LaneDetectionDataset/test/images/068-42_jpg.rf.201e16f8afd0a07eee0f386ef44eb761.jpg: 416x640 3 lanes, 11.5ms\n",
            "image 46/290 /content/drive/MyDrive/LaneDetectionDataset/test/images/068-47_jpg.rf.2a695c946b46fd6ca1dbbe26e1930332.jpg: 416x640 3 lanes, 11.7ms\n",
            "image 47/290 /content/drive/MyDrive/LaneDetectionDataset/test/images/068-5_jpg.rf.9504bf6dc76d9773c481e9e1075d0e37.jpg: 416x640 4 lanes, 10.8ms\n",
            "image 48/290 /content/drive/MyDrive/LaneDetectionDataset/test/images/068-70_jpg.rf.ca18c9b38c3c9edad087755e1baf9969.jpg: 416x640 3 lanes, 10.8ms\n",
            "image 49/290 /content/drive/MyDrive/LaneDetectionDataset/test/images/068-73_jpg.rf.86778bcf55137e05cccf8dce03ad0890.jpg: 416x640 3 lanes, 10.7ms\n",
            "image 50/290 /content/drive/MyDrive/LaneDetectionDataset/test/images/068-76_jpg.rf.ac6d4b8ccac9d33dee1338bcf2d89f50.jpg: 416x640 3 lanes, 10.7ms\n",
            "image 51/290 /content/drive/MyDrive/LaneDetectionDataset/test/images/068-80_jpg.rf.bf13cb1d4c35d945b5c7e1c2d834bb90.jpg: 416x640 3 lanes, 10.8ms\n",
            "image 52/290 /content/drive/MyDrive/LaneDetectionDataset/test/images/068-82_jpg.rf.41b4fc2d5304a627ebc119779ac64c7b.jpg: 416x640 3 lanes, 10.9ms\n",
            "image 53/290 /content/drive/MyDrive/LaneDetectionDataset/test/images/068-90_jpg.rf.74c8d026e2de0a827f80584ab6955870.jpg: 416x640 3 lanes, 11.2ms\n",
            "image 54/290 /content/drive/MyDrive/LaneDetectionDataset/test/images/068-94_jpg.rf.9ef4be38053543a219faaa25f88d7e46.jpg: 416x640 4 lanes, 11.5ms\n",
            "image 55/290 /content/drive/MyDrive/LaneDetectionDataset/test/images/068-96_jpg.rf.b28d9245412774b0c6fbffeb7d70531d.jpg: 416x640 3 lanes, 12.3ms\n",
            "image 56/290 /content/drive/MyDrive/LaneDetectionDataset/test/images/068-97_jpg.rf.d205bd95aa14ab18405a53237c216ab3.jpg: 416x640 3 lanes, 11.9ms\n",
            "image 57/290 /content/drive/MyDrive/LaneDetectionDataset/test/images/070-101_jpg.rf.6088439953b95e58d04875ccc042a7b6.jpg: 416x640 3 lanes, 10.7ms\n",
            "image 58/290 /content/drive/MyDrive/LaneDetectionDataset/test/images/070-16_jpg.rf.44df0db9e78320ae2d37e1d8dc260ca0.jpg: 416x640 3 lanes, 11.3ms\n",
            "image 59/290 /content/drive/MyDrive/LaneDetectionDataset/test/images/070-31_jpg.rf.e592ebd69e7b46fd5476e46dad5772d2.jpg: 416x640 3 lanes, 11.2ms\n",
            "image 60/290 /content/drive/MyDrive/LaneDetectionDataset/test/images/070-39_jpg.rf.e148442f23e3b296ce46d4fa73800934.jpg: 416x640 3 lanes, 10.9ms\n",
            "image 61/290 /content/drive/MyDrive/LaneDetectionDataset/test/images/070-56_jpg.rf.d4fe1a525cda072b139641dd2ee856e9.jpg: 416x640 4 lanes, 12.9ms\n",
            "image 62/290 /content/drive/MyDrive/LaneDetectionDataset/test/images/070-74_jpg.rf.a89ebc8b7df8cea516770ce8962a7fc5.jpg: 416x640 3 lanes, 12.0ms\n",
            "image 63/290 /content/drive/MyDrive/LaneDetectionDataset/test/images/070-82_jpg.rf.ff315ed4af6be45152c1885e7af50abb.jpg: 416x640 3 lanes, 11.4ms\n",
            "image 64/290 /content/drive/MyDrive/LaneDetectionDataset/test/images/070-84_jpg.rf.b4d9e8520e234e910df27fb36afba252.jpg: 416x640 4 lanes, 16.4ms\n",
            "image 65/290 /content/drive/MyDrive/LaneDetectionDataset/test/images/070-87_jpg.rf.bf214936b3636637e9e16b6471d5037c.jpg: 416x640 3 lanes, 19.1ms\n",
            "image 66/290 /content/drive/MyDrive/LaneDetectionDataset/test/images/070-93_jpg.rf.41b99a20b09a84e9fbd035a926f7ff8f.jpg: 416x640 3 lanes, 11.5ms\n",
            "image 67/290 /content/drive/MyDrive/LaneDetectionDataset/test/images/070-97_jpg.rf.d7ac85f7f57ba7b9cc6c53062fcbac3a.jpg: 416x640 3 lanes, 10.7ms\n",
            "image 68/290 /content/drive/MyDrive/LaneDetectionDataset/test/images/071-0_jpg.rf.af7ab8051686fe2946049a886c679ea9.jpg: 416x640 4 lanes, 11.0ms\n",
            "image 69/290 /content/drive/MyDrive/LaneDetectionDataset/test/images/071-14_jpg.rf.a8901024bee32644ad12e1fc635a27c9.jpg: 416x640 3 lanes, 10.9ms\n",
            "image 70/290 /content/drive/MyDrive/LaneDetectionDataset/test/images/071-16_jpg.rf.0298f0ad88e73c06824a9fb036162c8b.jpg: 416x640 3 lanes, 11.1ms\n",
            "image 71/290 /content/drive/MyDrive/LaneDetectionDataset/test/images/071-1_jpg.rf.4f667bfef7d6ff281e871ca536dfb37b.jpg: 416x640 4 lanes, 10.9ms\n",
            "image 72/290 /content/drive/MyDrive/LaneDetectionDataset/test/images/071-32_jpg.rf.9dc613d3109a1cb1905840edc5ed7c02.jpg: 416x640 3 lanes, 11.9ms\n",
            "image 73/290 /content/drive/MyDrive/LaneDetectionDataset/test/images/071-52_jpg.rf.a0e4b6f0988a90ee5cf3f06f3c4a5fbe.jpg: 416x640 3 lanes, 11.2ms\n",
            "image 74/290 /content/drive/MyDrive/LaneDetectionDataset/test/images/071-57_jpg.rf.5cb5af4ac606cdccd448077fb7ba0991.jpg: 416x640 3 lanes, 11.3ms\n",
            "image 75/290 /content/drive/MyDrive/LaneDetectionDataset/test/images/071-5_jpg.rf.d9bdb0b19cc9a95f8132fd8eb01ba5e0.jpg: 416x640 3 lanes, 10.3ms\n",
            "image 76/290 /content/drive/MyDrive/LaneDetectionDataset/test/images/071-87_jpg.rf.096cd4039a45df37f585f461442ebe27.jpg: 416x640 3 lanes, 11.2ms\n",
            "image 77/290 /content/drive/MyDrive/LaneDetectionDataset/test/images/071-91_jpg.rf.5de836c0ee4b29203040c2639a2b6a14.jpg: 416x640 3 lanes, 13.0ms\n",
            "image 78/290 /content/drive/MyDrive/LaneDetectionDataset/test/images/071-9_jpg.rf.730461e393fd059a73a660075b03eb3a.jpg: 416x640 3 lanes, 18.4ms\n",
            "image 79/290 /content/drive/MyDrive/LaneDetectionDataset/test/images/073-16_jpg.rf.9be5fc559e6d7359bbb7b4d39d79c2d1.jpg: 416x640 3 lanes, 11.0ms\n",
            "image 80/290 /content/drive/MyDrive/LaneDetectionDataset/test/images/073-17_jpg.rf.d1b4720e93955ce1aed93492ad6719d6.jpg: 416x640 2 lanes, 10.7ms\n",
            "image 81/290 /content/drive/MyDrive/LaneDetectionDataset/test/images/073-38_jpg.rf.af6d18bcfade411b67a92454b0492deb.jpg: 416x640 2 lanes, 11.0ms\n",
            "image 82/290 /content/drive/MyDrive/LaneDetectionDataset/test/images/073-39_jpg.rf.f5cd1f122ab8f9d9db78eb830f2eb97b.jpg: 416x640 3 lanes, 11.4ms\n",
            "image 83/290 /content/drive/MyDrive/LaneDetectionDataset/test/images/073-62_jpg.rf.1670e1714bfea17ad8a1206c7059e78e.jpg: 416x640 2 lanes, 11.1ms\n",
            "image 84/290 /content/drive/MyDrive/LaneDetectionDataset/test/images/073-6_jpg.rf.34a072e283f921155b8373ca43d87582.jpg: 416x640 2 lanes, 10.7ms\n",
            "image 85/290 /content/drive/MyDrive/LaneDetectionDataset/test/images/073-75_jpg.rf.aa4c7279472bb098692bf54f09642e21.jpg: 416x640 2 lanes, 10.9ms\n",
            "image 86/290 /content/drive/MyDrive/LaneDetectionDataset/test/images/073-77_jpg.rf.ed33632f519d4076b8512c3665514019.jpg: 416x640 2 lanes, 10.8ms\n",
            "image 87/290 /content/drive/MyDrive/LaneDetectionDataset/test/images/b1d0a191-2ed2269e_jpg.rf.bd35938271d9e43b0ea9b3e3fa14c173.jpg: 640x640 6 cars, 3 persons, 10.8ms\n",
            "image 88/290 /content/drive/MyDrive/LaneDetectionDataset/test/images/b1dce572-c6a8cb5e_jpg.rf.0e6324a3ebed7028faf2c14e689b8faa.jpg: 640x640 15 cars, 10.6ms\n",
            "image 89/290 /content/drive/MyDrive/LaneDetectionDataset/test/images/b1df722f-5bcc3db7_jpg.rf.ebca7fb0a4fee2d4444e529fa8b910fb.jpg: 640x640 7 cars, 11.2ms\n",
            "image 90/290 /content/drive/MyDrive/LaneDetectionDataset/test/images/b1f4491b-97465266_jpg.rf.ce475763cd9908d64345a7521d5db8da.jpg: 640x640 6 cars, 11.5ms\n",
            "image 91/290 /content/drive/MyDrive/LaneDetectionDataset/test/images/b1fbf878-b31a8293_jpg.rf.3f2062c7b9c16da0fc00468c3087506c.jpg: 640x640 9 cars, 8 persons, 10.4ms\n",
            "image 92/290 /content/drive/MyDrive/LaneDetectionDataset/test/images/b20b1e63-4d8478a4_jpg.rf.c3c25744559839ef813c355bb4d320aa.jpg: 640x640 6 cars, 12.4ms\n",
            "image 93/290 /content/drive/MyDrive/LaneDetectionDataset/test/images/b20b69d2-bd242bf0_jpg.rf.1f9445fde30cfae267dc35fa4eeea80d.jpg: 640x640 4 cars, 1 person, 12.0ms\n",
            "image 94/290 /content/drive/MyDrive/LaneDetectionDataset/test/images/b20b9c19-91e01a50_jpg.rf.22d3643e10e936f4062f8e9a6be707ea.jpg: 640x640 10 cars, 2 lanes, 23.4ms\n",
            "image 95/290 /content/drive/MyDrive/LaneDetectionDataset/test/images/b22e02cd-6af68e18_jpg.rf.a61962a33f7e903b404e5d7645f71b92.jpg: 640x640 7 cars, 11.5ms\n",
            "image 96/290 /content/drive/MyDrive/LaneDetectionDataset/test/images/b23adb0d-72704b27_jpg.rf.7a74ab1b2dec083a65dfae5bef7ba3b5.jpg: 640x640 5 cars, 10.7ms\n",
            "image 97/290 /content/drive/MyDrive/LaneDetectionDataset/test/images/b23b2649-1a78948d_jpg.rf.3ead0ae38a52b21ae112308daab38ecc.jpg: 640x640 5 cars, 12.3ms\n",
            "image 98/290 /content/drive/MyDrive/LaneDetectionDataset/test/images/b24ca67a-594d7d3c_jpg.rf.aef1ade851db93a11bbaea4bb64259d7.jpg: 640x640 1 car, 1 truck, 11.4ms\n",
            "image 99/290 /content/drive/MyDrive/LaneDetectionDataset/test/images/b25aac57-705d50ad_jpg.rf.fa576fb49b167c648b2e9fda292a2d6a.jpg: 640x640 4 cars, 10.7ms\n",
            "image 100/290 /content/drive/MyDrive/LaneDetectionDataset/test/images/b26ba07a-c7bcbe2d_jpg.rf.8db9eb19ea4a91e21cc7ff79812e0f28.jpg: 640x640 1 car, 15.4ms\n",
            "image 101/290 /content/drive/MyDrive/LaneDetectionDataset/test/images/b26cfcdc-10346684_jpg.rf.47f1ffeaf672c992610b830091a7ae35.jpg: 640x640 18 cars, 15.9ms\n",
            "image 102/290 /content/drive/MyDrive/LaneDetectionDataset/test/images/b27cd403-d7616bfa_jpg.rf.354a0afad79500111f985e16ed0b4530.jpg: 640x640 18 cars, 15.4ms\n",
            "image 103/290 /content/drive/MyDrive/LaneDetectionDataset/test/images/b28cb5d3-2cf728ac_jpg.rf.6b64e8ecf77933bd4d33c19f28fc6494.jpg: 640x640 2 cars, 1 truck, 11.2ms\n",
            "image 104/290 /content/drive/MyDrive/LaneDetectionDataset/test/images/b28cb5d3-f800ecd2_jpg.rf.d8607a071716af3bff7eca1ef59cf92f.jpg: 640x640 5 cars, 11.5ms\n",
            "image 105/290 /content/drive/MyDrive/LaneDetectionDataset/test/images/b28ec521-834a964c_jpg.rf.0da539a27ac9ba1af7929d6733c4657b.jpg: 640x640 6 cars, 10.7ms\n",
            "image 106/290 /content/drive/MyDrive/LaneDetectionDataset/test/images/b29c5efd-754ba560_jpg.rf.0791a378f911376070ab697e16e1500f.jpg: 640x640 7 cars, 12.5ms\n",
            "image 107/290 /content/drive/MyDrive/LaneDetectionDataset/test/images/b2a1e013-638d6e4d_jpg.rf.e765a5bfa10b4f7fd34700e6a471bf88.jpg: 640x640 12 cars, 2 trucks, 11.9ms\n",
            "image 108/290 /content/drive/MyDrive/LaneDetectionDataset/test/images/b2a4bc4d-b251ccb1_jpg.rf.e8f7c78f071d543eeaaef99d601e4112.jpg: 640x640 3 cars, 10.6ms\n",
            "image 109/290 /content/drive/MyDrive/LaneDetectionDataset/test/images/b2a60634-6e9f96fe_jpg.rf.376dcca19925d2dffeb516f0dab9344c.jpg: 640x640 1 car, 11.0ms\n",
            "image 110/290 /content/drive/MyDrive/LaneDetectionDataset/test/images/b2ae4fc5-d1082ddf_jpg.rf.acd50bdeedd60c18dc5c47f2a660dea2.jpg: 640x640 24 cars, 10.6ms\n",
            "image 111/290 /content/drive/MyDrive/LaneDetectionDataset/test/images/b2b74321-f6578001_jpg.rf.d860320eee2b48bff5d6306031b72883.jpg: 640x640 16 cars, 10.3ms\n",
            "image 112/290 /content/drive/MyDrive/LaneDetectionDataset/test/images/b2bdb7b6-3e75222e_jpg.rf.c1a199bd36290a03fecd3c8a0cb1158b.jpg: 640x640 14 cars, 10.6ms\n",
            "image 113/290 /content/drive/MyDrive/LaneDetectionDataset/test/images/b2bdb7b6-d34fab57_jpg.rf.be2aec353f5d5f1ec249795e6637d81f.jpg: 640x640 16 cars, 5 persons, 1 truck, 16.2ms\n",
            "image 114/290 /content/drive/MyDrive/LaneDetectionDataset/test/images/b2bf0e03-a3921cd6_jpg.rf.8a5944d722ce45af1cffbe40989e7ec2.jpg: 640x640 13 cars, 10.8ms\n",
            "image 115/290 /content/drive/MyDrive/LaneDetectionDataset/test/images/b2c88d3b-1c1ad881_jpg.rf.02853c34e20a5aff1bda2175e1cdcfa2.jpg: 640x640 1 bus, 4 cars, 10.2ms\n",
            "image 116/290 /content/drive/MyDrive/LaneDetectionDataset/test/images/b2cd33bd-a5043d29_jpg.rf.3de179930ae497b8ac837b619359f1d7.jpg: 640x640 16 cars, 1 truck, 11.0ms\n",
            "image 117/290 /content/drive/MyDrive/LaneDetectionDataset/test/images/b2cda443-f7cb5ccf_jpg.rf.d967766a53a972012b88fe919708b656.jpg: 640x640 1 car, 11.8ms\n",
            "image 118/290 /content/drive/MyDrive/LaneDetectionDataset/test/images/b2d22b2f-91d0af18_jpg.rf.73d4fcb5bd25326fc57c918e629007a9.jpg: 640x640 2 cars, 11.8ms\n",
            "image 119/290 /content/drive/MyDrive/LaneDetectionDataset/test/images/b2d502aa-f9141409_jpg.rf.e16752ce8b8b095ece9ad32de4d26723.jpg: 640x640 7 cars, 7 persons, 11.2ms\n",
            "image 120/290 /content/drive/MyDrive/LaneDetectionDataset/test/images/b2db41a2-721e0f4e_jpg.rf.cbe3595c496adc51df257590aaeaadf2.jpg: 640x640 5 cars, 10.5ms\n",
            "image 121/290 /content/drive/MyDrive/LaneDetectionDataset/test/images/b2ddae9c-9aafceae_jpg.rf.801b8227132292adf80fecd70263e1a5.jpg: 640x640 2 cars, 1 person, 3 trucks, 11.0ms\n",
            "image 122/290 /content/drive/MyDrive/LaneDetectionDataset/test/images/b2f48fc3-eda0e217_jpg.rf.5caee02e445e86f49b363da23ad78f68.jpg: 640x640 1 bus, 7 cars, 9 persons, 1 truck, 12.4ms\n",
            "image 123/290 /content/drive/MyDrive/LaneDetectionDataset/test/images/b2f4ebb7-ceaa12dc_jpg.rf.84955b56a59d7e83bf4ab0880ce80897.jpg: 640x640 15 cars, 2 lanes, 11.6ms\n",
            "image 124/290 /content/drive/MyDrive/LaneDetectionDataset/test/images/b34b1b88-5bfe3b85_jpg.rf.13adc42929f7ccf870a6c9ddc10fd289.jpg: 640x640 4 cars, 11.3ms\n",
            "image 125/290 /content/drive/MyDrive/LaneDetectionDataset/test/images/b35c8e3d-bc2c104b_jpg.rf.1b1958a4929e22ea3ed82d7d0b2dac11.jpg: 640x640 12 cars, 11.2ms\n",
            "image 126/290 /content/drive/MyDrive/LaneDetectionDataset/test/images/b37c2955-66532a77_jpg.rf.3e8e05162899b4b3072a1918d830ef13.jpg: 640x640 15 cars, 11.6ms\n",
            "image 127/290 /content/drive/MyDrive/LaneDetectionDataset/test/images/b37d75bd-e971140f_jpg.rf.53c4a7ecc8424a5afb654d21fb242961.jpg: 640x640 17 cars, 14 persons, 10.8ms\n",
            "image 128/290 /content/drive/MyDrive/LaneDetectionDataset/test/images/b38b8783-9cc1ad04_jpg.rf.65c64c6b31aa695446d4a08728bb964f.jpg: 640x640 3 cars, 10 persons, 14.1ms\n",
            "image 129/290 /content/drive/MyDrive/LaneDetectionDataset/test/images/b39fe3cd-65f6ed9d_jpg.rf.e9f3ac11b8196b3718d33cd092768892.jpg: 640x640 4 cars, 10.9ms\n",
            "image 130/290 /content/drive/MyDrive/LaneDetectionDataset/test/images/b39fe3cd-d5fb9508_jpg.rf.b00d95f71eca2d6760f26248af72002c.jpg: 640x640 10 cars, 11.1ms\n",
            "image 131/290 /content/drive/MyDrive/LaneDetectionDataset/test/images/b39ffdda-b9a4ad33_jpg.rf.3fc6ca17283504c63f20e20b4108da6f.jpg: 640x640 10 cars, 12.3ms\n",
            "image 132/290 /content/drive/MyDrive/LaneDetectionDataset/test/images/b3a1e72b-f9a8ed50_jpg.rf.7fe2c17fa675de15593220da18a41aa2.jpg: 640x640 28 cars, 11.2ms\n",
            "image 133/290 /content/drive/MyDrive/LaneDetectionDataset/test/images/b3a6f586-3ea7e1ad_jpg.rf.e55c3a6b1923bd32e3882f7a5ab62add.jpg: 640x640 2 buss, 10 cars, 4 persons, 2 trucks, 11.4ms\n",
            "image 134/290 /content/drive/MyDrive/LaneDetectionDataset/test/images/b3b8fce6-c67646a7_jpg.rf.02816f6e78d4a92bb9c68746db8f657e.jpg: 640x640 8 cars, 12 persons, 3 trucks, 17.7ms\n",
            "image 135/290 /content/drive/MyDrive/LaneDetectionDataset/test/images/b3c0460d-33d7256d_jpg.rf.2eef00ed599326de8081f6ff12c6c267.jpg: 640x640 10 cars, 12.1ms\n",
            "image 136/290 /content/drive/MyDrive/LaneDetectionDataset/test/images/b3c094d3-75cda540_jpg.rf.cf9853c165290035e65b96c0b77622e1.jpg: 640x640 11 cars, 16 persons, 1 truck, 10.8ms\n",
            "image 137/290 /content/drive/MyDrive/LaneDetectionDataset/test/images/b3cc736f-7a7794c0_jpg.rf.1b27539981e350f7100b65a4154fa39d.jpg: 640x640 3 cars, 10.9ms\n",
            "image 138/290 /content/drive/MyDrive/LaneDetectionDataset/test/images/b3ce9f98-2b3d06d6_jpg.rf.f9849df2b459ab72e40e55ec7ea14abb.jpg: 640x640 2 cars, 11.4ms\n",
            "image 139/290 /content/drive/MyDrive/LaneDetectionDataset/test/images/b3d6c39a-7bb39a3a_jpg.rf.615a8b9f88753b26f772be2c393a6920.jpg: 640x640 11 cars, 1 truck, 10.7ms\n",
            "image 140/290 /content/drive/MyDrive/LaneDetectionDataset/test/images/b3e51564-d2ac524c_jpg.rf.27d4bd70acf84e1de413300928a45ad4.jpg: 640x640 1 bus, 13 cars, 7 persons, 1 truck, 12.2ms\n",
            "image 141/290 /content/drive/MyDrive/LaneDetectionDataset/test/images/b3e74777-122e3878_jpg.rf.a8d360adc504f653e3eee8e4de28a117.jpg: 640x640 4 cars, 10.9ms\n",
            "image 142/290 /content/drive/MyDrive/LaneDetectionDataset/test/images/b3ec8e38-41c64395_jpg.rf.42ad0268836fcfa566ded0aa3c37d22b.jpg: 640x640 5 cars, 10.8ms\n",
            "image 143/290 /content/drive/MyDrive/LaneDetectionDataset/test/images/b42b0859-0e5601ac_jpg.rf.782144028bbdc4d0cd5f9f9cd9b1ee35.jpg: 640x640 30 cars, 10.7ms\n",
            "image 144/290 /content/drive/MyDrive/LaneDetectionDataset/test/images/b42df626-73f78ba9_jpg.rf.0ae06416e5f4c7c2f6d7b264fecf2452.jpg: 640x640 6 cars, 5 persons, 11.5ms\n",
            "image 145/290 /content/drive/MyDrive/LaneDetectionDataset/test/images/b42df626-e358ca4a_jpg.rf.d374615be4b37d2e31ff732ecac5a521.jpg: 640x640 4 cars, 12.3ms\n",
            "image 146/290 /content/drive/MyDrive/LaneDetectionDataset/test/images/b44a7e5f-1db66cfe_jpg.rf.4a2e39aab053a80b3acfa4c183504831.jpg: 640x640 5 cars, 10.6ms\n",
            "image 147/290 /content/drive/MyDrive/LaneDetectionDataset/test/images/b49a272b-c52895c3_jpg.rf.802ce053075be30595b84b276b88b025.jpg: 640x640 3 cars, 17.3ms\n",
            "image 148/290 /content/drive/MyDrive/LaneDetectionDataset/test/images/b4a240e1-6e3cd8b8_jpg.rf.670d2a64aabab27472226523c01389c0.jpg: 640x640 24 cars, 19.0ms\n",
            "image 149/290 /content/drive/MyDrive/LaneDetectionDataset/test/images/b4a8ec73-0c39599d_jpg.rf.ca9b29e1ef77bd210d989be6f17aa6d6.jpg: 640x640 1 bus, 2 cars, 15 persons, 10.6ms\n",
            "image 150/290 /content/drive/MyDrive/LaneDetectionDataset/test/images/b4a8ec73-4a6c61c7_jpg.rf.cd0835d4ec7390eca408f84cb68a8b34.jpg: 640x640 9 cars, 11.4ms\n",
            "image 151/290 /content/drive/MyDrive/LaneDetectionDataset/test/images/b4a8ec73-893c4da4_jpg.rf.7138e99be1f34c7177fe6ac7681ccf0a.jpg: 640x640 17 cars, 9 persons, 1 truck, 12.3ms\n",
            "image 152/290 /content/drive/MyDrive/LaneDetectionDataset/test/images/b4aabd48-38c15aba_jpg.rf.69fe884ab5b401005eb058ec6ee07a28.jpg: 640x640 9 cars, 8 persons, 11.2ms\n",
            "image 153/290 /content/drive/MyDrive/LaneDetectionDataset/test/images/b4b09f5b-c3870eca_jpg.rf.f58eeb8bf7d40e3295892cbf24592176.jpg: 640x640 8 cars, 10.6ms\n",
            "image 154/290 /content/drive/MyDrive/LaneDetectionDataset/test/images/b4ba0552-53249a02_jpg.rf.72c155dafd73dcc4771a562bef9dd379.jpg: 640x640 16 cars, 11.0ms\n",
            "image 155/290 /content/drive/MyDrive/LaneDetectionDataset/test/images/b4c86653-d9ba99f4_jpg.rf.8293a128976c0e19ae1411856b714c63.jpg: 640x640 2 cars, 7 persons, 10.8ms\n",
            "image 156/290 /content/drive/MyDrive/LaneDetectionDataset/test/images/b4d18d1a-030f0601_jpg.rf.f4bf098c3319348ac62d047903d83041.jpg: 640x640 12 cars, 12.0ms\n",
            "image 157/290 /content/drive/MyDrive/LaneDetectionDataset/test/images/b4d18d1a-44ae201b_jpg.rf.fd6526e3dd2887895426695ac3baf1e8.jpg: 640x640 2 cars, 11.7ms\n",
            "image 158/290 /content/drive/MyDrive/LaneDetectionDataset/test/images/b4d18d1a-fca70785_jpg.rf.be6da0bac7d4ec250a48c90fa4a12054.jpg: 640x640 12 cars, 12.2ms\n",
            "image 159/290 /content/drive/MyDrive/LaneDetectionDataset/test/images/b4e3e68f-3aa63f29_jpg.rf.3414ca2271c05bc4ea70c7f6d21493b0.jpg: 640x640 7 cars, 11.6ms\n",
            "image 160/290 /content/drive/MyDrive/LaneDetectionDataset/test/images/b4e7cde5-bc961dfe_jpg.rf.a65253a965ce23ebe5e8c6069cbc55f2.jpg: 640x640 13 cars, 12 persons, 10.9ms\n",
            "image 161/290 /content/drive/MyDrive/LaneDetectionDataset/test/images/b4eb79bd-288f1507_jpg.rf.a129f1242d901bcab8c55a468e3283b6.jpg: 640x640 1 bus, 4 cars, 13.1ms\n",
            "image 162/290 /content/drive/MyDrive/LaneDetectionDataset/test/images/b4ed5563-12753b3c_jpg.rf.366cabacdcb68fdfc9eda86173f82f8c.jpg: 640x640 2 cars, 11.2ms\n",
            "image 163/290 /content/drive/MyDrive/LaneDetectionDataset/test/images/b4f49565-ccd350b6_jpg.rf.80d44e982b01306f55f1f9c5354f589d.jpg: 640x640 2 cars, 3 persons, 10.6ms\n",
            "image 164/290 /content/drive/MyDrive/LaneDetectionDataset/test/images/b4fcf852-0d288dba_jpg.rf.5fb37fc7c584a7be78e4b9fd75e84d90.jpg: 640x640 7 cars, 11.0ms\n",
            "image 165/290 /content/drive/MyDrive/LaneDetectionDataset/test/images/b4ff6bda-27a63ee8_jpg.rf.56cb3200beaa5cb444b01f577e5cab82.jpg: 640x640 2 cars, 6 persons, 10.9ms\n",
            "image 166/290 /content/drive/MyDrive/LaneDetectionDataset/test/images/b54a8089-d1989d8f_jpg.rf.fefe13988398b4b72121a2d0996b9277.jpg: 640x640 23 cars, 15.6ms\n",
            "image 167/290 /content/drive/MyDrive/LaneDetectionDataset/test/images/b54c48fe-0633723b_jpg.rf.bbd0c3cff6a353ada24ac7fd2c9ecf21.jpg: 640x640 3 cars, 8 persons, 1 truck, 20.2ms\n",
            "image 168/290 /content/drive/MyDrive/LaneDetectionDataset/test/images/b56a8196-9b3b361b_jpg.rf.5fee106d88619a4291a8baaef6b2b80f.jpg: 640x640 4 cars, 10.9ms\n",
            "image 169/290 /content/drive/MyDrive/LaneDetectionDataset/test/images/b57a2edf-60fd75be_jpg.rf.82874f228d5c6b1fbb7d6375d241de4e.jpg: 640x640 6 cars, 12.6ms\n",
            "image 170/290 /content/drive/MyDrive/LaneDetectionDataset/test/images/b58aff80-a12e3de6_jpg.rf.2cbd3d55722fbc4dc28cc92b43f463cb.jpg: 640x640 (no detections), 10.6ms\n",
            "image 171/290 /content/drive/MyDrive/LaneDetectionDataset/test/images/b59f0750-f228a9a2_jpg.rf.8f1d752ca317e461a6ae4bf3e4e786f9.jpg: 640x640 7 cars, 11.6ms\n",
            "image 172/290 /content/drive/MyDrive/LaneDetectionDataset/test/images/b5a09604-1a28e788_jpg.rf.503866a8c5db1e441bd0e708ef157011.jpg: 640x640 26 cars, 5 persons, 11.3ms\n",
            "image 173/290 /content/drive/MyDrive/LaneDetectionDataset/test/images/b5a09604-33ffdc75_jpg.rf.c7ea2b7638d89872917c00d9a8b00d0f.jpg: 640x640 9 cars, 1 person, 1 rider, 12.2ms\n",
            "image 174/290 /content/drive/MyDrive/LaneDetectionDataset/test/images/b5a09604-c93a9d5d_jpg.rf.79ac3d95b0a024e5eac3b8a65da44d20.jpg: 640x640 7 cars, 18 persons, 1 rider, 10.4ms\n",
            "image 175/290 /content/drive/MyDrive/LaneDetectionDataset/test/images/b5ac257d-5a34b3fa_jpg.rf.f49c698df400fd52e743d8fc451afbc1.jpg: 640x640 10 cars, 19.5ms\n",
            "image 176/290 /content/drive/MyDrive/LaneDetectionDataset/test/images/b5b17442-2f6d4b97_jpg.rf.ffc54bae1749e21f05345cba30e96f5f.jpg: 640x640 3 cars, 5 persons, 1 truck, 12.9ms\n",
            "image 177/290 /content/drive/MyDrive/LaneDetectionDataset/test/images/b5b2267c-d3a26985_jpg.rf.2e3344109ab8d4a1e9eada4ff230ed85.jpg: 640x640 6 cars, 10.5ms\n",
            "image 178/290 /content/drive/MyDrive/LaneDetectionDataset/test/images/b5b79bf9-36cbce30_jpg.rf.1f2d68aaa744b99378ae5129281d84eb.jpg: 640x640 12 cars, 1 person, 10.7ms\n",
            "image 179/290 /content/drive/MyDrive/LaneDetectionDataset/test/images/b5bd48b6-c1f01e7a_jpg.rf.6226c56359436211e9b4cb5fe5fff49b.jpg: 640x640 4 cars, 10.9ms\n",
            "image 180/290 /content/drive/MyDrive/LaneDetectionDataset/test/images/b5be6006-83d630d5_jpg.rf.8da1bb2abf2f5f67b864426a891f1954.jpg: 640x640 10 cars, 15.0ms\n",
            "image 181/290 /content/drive/MyDrive/LaneDetectionDataset/test/images/b5be77ad-b861ba83_jpg.rf.f8103339dec35dd292f51f7020c69ebf.jpg: 640x640 16 cars, 12.4ms\n",
            "image 182/290 /content/drive/MyDrive/LaneDetectionDataset/test/images/b5d4dc8d-99e1e150_jpg.rf.162a22ec22bb5f96f5e8390a6aaf6b88.jpg: 640x640 8 cars, 10.8ms\n",
            "image 183/290 /content/drive/MyDrive/LaneDetectionDataset/test/images/b5d6e647-44af4f17_jpg.rf.b75ebec7a9be062ae06e61aaf27a280d.jpg: 640x640 13 cars, 11.5ms\n",
            "image 184/290 /content/drive/MyDrive/LaneDetectionDataset/test/images/b5dd20c5-250725fa_jpg.rf.a6cd4f25fe19590cae31606bc15e5476.jpg: 640x640 3 cars, 10.9ms\n",
            "image 185/290 /content/drive/MyDrive/LaneDetectionDataset/test/images/b5dd20c5-4f784dcf_jpg.rf.cd07c11e4c8043038b511c1c67a23a50.jpg: 640x640 3 cars, 1 person, 10.6ms\n",
            "image 186/290 /content/drive/MyDrive/LaneDetectionDataset/test/images/b5df49b8-73e68ecb_jpg.rf.aab559bc31ab7dc61a805785c3159e83.jpg: 640x640 8 cars, 10.3ms\n",
            "image 187/290 /content/drive/MyDrive/LaneDetectionDataset/test/images/b5e387a7-6a010e5e_jpg.rf.2544a0582ce3e292b3e2361462a83735.jpg: 640x640 12 cars, 2 persons, 10.8ms\n",
            "image 188/290 /content/drive/MyDrive/LaneDetectionDataset/test/images/b5e52b21-46c57b31_jpg.rf.249e535147f2e5b5572765b581c48620.jpg: 640x640 5 cars, 18.3ms\n",
            "image 189/290 /content/drive/MyDrive/LaneDetectionDataset/test/images/b5ece4bd-17087c46_jpg.rf.4215c7cca80d9cba23b9c5bf64fba37e.jpg: 640x640 7 cars, 19.5ms\n",
            "image 190/290 /content/drive/MyDrive/LaneDetectionDataset/test/images/b5fa32f1-4e9c7d32_jpg.rf.abd892cac80ad7772a07ea42abf9b07a.jpg: 640x640 22 cars, 12.0ms\n",
            "image 191/290 /content/drive/MyDrive/LaneDetectionDataset/test/images/b5fc0f1e-882a7cce_jpg.rf.b88e1317b70089a89966ff50ea402ce5.jpg: 640x640 (no detections), 11.4ms\n",
            "image 192/290 /content/drive/MyDrive/LaneDetectionDataset/test/images/b5fc1373-94aaab40_jpg.rf.3c49f97e4df048df41eeaef75bc9733f.jpg: 640x640 9 cars, 10.9ms\n",
            "image 193/290 /content/drive/MyDrive/LaneDetectionDataset/test/images/b5fe17dd-b6648364_jpg.rf.b7a3902ee67322340142c4d36e997c84.jpg: 640x640 4 cars, 10.9ms\n",
            "image 194/290 /content/drive/MyDrive/LaneDetectionDataset/test/images/b61d661f-2d7bac86_jpg.rf.3b4ef721d74dd7df9a866e67dd20c03d.jpg: 640x640 1 car, 10.4ms\n",
            "image 195/290 /content/drive/MyDrive/LaneDetectionDataset/test/images/b61f19ba-ae781838_jpg.rf.ee89bc6fed4ab2ab79e018f81e791924.jpg: 640x640 10 cars, 1 truck, 11.7ms\n",
            "image 196/290 /content/drive/MyDrive/LaneDetectionDataset/test/images/b62bef56-29a2dde5_jpg.rf.c05296c1a599e125ae4df4b8f88d5158.jpg: 640x640 18 cars, 2 persons, 11.5ms\n",
            "image 197/290 /content/drive/MyDrive/LaneDetectionDataset/test/images/b63f0379-f0b444b5_jpg.rf.2fbbba5a39d5a0a0ffe211e8e30b8ae8.jpg: 640x640 20 cars, 11.1ms\n",
            "image 198/290 /content/drive/MyDrive/LaneDetectionDataset/test/images/b66f7339-b14741dc_jpg.rf.4579ac9c72df94790f0fd9410f411bbe.jpg: 640x640 18 cars, 17.2ms\n",
            "image 199/290 /content/drive/MyDrive/LaneDetectionDataset/test/images/b67cbe89-ef413620_jpg.rf.c9cbb5c890982082122d79fad5f94825.jpg: 640x640 2 cars, 16.7ms\n",
            "image 200/290 /content/drive/MyDrive/LaneDetectionDataset/test/images/b68e35b5-0881c831_jpg.rf.08e9051b8b2f3deef32c90bcfeeb4b86.jpg: 640x640 1 bus, 8 cars, 5 persons, 11.9ms\n",
            "image 201/290 /content/drive/MyDrive/LaneDetectionDataset/test/images/b69e6a5d-a9cb966f_jpg.rf.1dcf51f76d6004c15e9df6dd5db7d59a.jpg: 640x640 4 cars, 11.3ms\n",
            "image 202/290 /content/drive/MyDrive/LaneDetectionDataset/test/images/b6a146ff-7491aafb_jpg.rf.0c1dbdb1bc5858c03e4e3443ff4ab6a8.jpg: 640x640 15 cars, 1 person, 1 rider, 11.1ms\n",
            "image 203/290 /content/drive/MyDrive/LaneDetectionDataset/test/images/b6a6df2d-8f9cc4cf_jpg.rf.55425a304c0125d07e9df54f1ab156f1.jpg: 640x640 16 cars, 10.4ms\n",
            "image 204/290 /content/drive/MyDrive/LaneDetectionDataset/test/images/b6a8503c-b04e247c_jpg.rf.6fb009cd92866673afa9aa00a2d18e52.jpg: 640x640 1 bus, 5 cars, 1 truck, 11.1ms\n",
            "image 205/290 /content/drive/MyDrive/LaneDetectionDataset/test/images/b6b7800d-bdecc6bc_jpg.rf.45fc8b6e698e6e17d1f3f62775d18f39.jpg: 640x640 2 cars, 1 person, 17.3ms\n",
            "image 206/290 /content/drive/MyDrive/LaneDetectionDataset/test/images/b6b8d59f-e8059575_jpg.rf.97fd10369e9b2724673250cccedc8ccc.jpg: 640x640 1 car, 10.7ms\n",
            "image 207/290 /content/drive/MyDrive/LaneDetectionDataset/test/images/b6c6e6fe-1c5ab635_jpg.rf.1fc68de790eb39c34f84aca12c594249.jpg: 640x640 12 cars, 11.0ms\n",
            "image 208/290 /content/drive/MyDrive/LaneDetectionDataset/test/images/b6cad0b4-56d2e2d9_jpg.rf.0edc6ed077c81f7a756afcdc0c3e387f.jpg: 640x640 2 persons, 10.8ms\n",
            "image 209/290 /content/drive/MyDrive/LaneDetectionDataset/test/images/b6d0b9d1-f5531bf3_jpg.rf.f16aa6c42fe9b0de28ad99b76f6a42d5.jpg: 640x640 16 cars, 13.1ms\n",
            "image 210/290 /content/drive/MyDrive/LaneDetectionDataset/test/images/b6d5b39b-710032ac_jpg.rf.6675fe7586ebf3905c2d5366363cd4ae.jpg: 640x640 15 cars, 11.0ms\n",
            "image 211/290 /content/drive/MyDrive/LaneDetectionDataset/test/images/b6d82c09-e7005951_jpg.rf.ee8fc8192ab994a7a766be10161932cd.jpg: 640x640 10 cars, 20 persons, 2 trucks, 10.6ms\n",
            "image 212/290 /content/drive/MyDrive/LaneDetectionDataset/test/images/b6de6d24-bfcf2de4_jpg.rf.da34c92ef983ba9b1501518bdba73b53.jpg: 640x640 4 cars, 12.9ms\n",
            "image 213/290 /content/drive/MyDrive/LaneDetectionDataset/test/images/b6e4a55e-2e6228cc_jpg.rf.fd33163b541dd9d703e96f21389e53eb.jpg: 640x640 9 cars, 2 trucks, 10.9ms\n",
            "image 214/290 /content/drive/MyDrive/LaneDetectionDataset/test/images/b6ffd606-322ba017_jpg.rf.0f2fe59016d348d029658c94aaa100a6.jpg: 640x640 10 cars, 1 truck, 16.0ms\n",
            "image 215/290 /content/drive/MyDrive/LaneDetectionDataset/test/images/b71ecc5a-7a837d0a_jpg.rf.b018dc92f400301be4200e002dd0b490.jpg: 640x640 13 cars, 11.4ms\n",
            "image 216/290 /content/drive/MyDrive/LaneDetectionDataset/test/images/b71f13d6-b07faf5f_jpg.rf.b91f879e30462bb8959e58b9827f5dee.jpg: 640x640 11 cars, 1 person, 11.4ms\n",
            "image 217/290 /content/drive/MyDrive/LaneDetectionDataset/test/images/b72b3974-07848804_jpg.rf.f1caaaf13c5277c5892d1450b14c8262.jpg: 640x640 21 cars, 13 persons, 10.4ms\n",
            "image 218/290 /content/drive/MyDrive/LaneDetectionDataset/test/images/b75f355e-32bd06af_jpg.rf.384a6ece097b727902f3a6ac10ad6eb6.jpg: 640x640 5 cars, 10.3ms\n",
            "image 219/290 /content/drive/MyDrive/LaneDetectionDataset/test/images/b75f355e-837e1a01_jpg.rf.8c9a31bd124e7d6f9dfb696813664909.jpg: 640x640 12 cars, 3 persons, 11.1ms\n",
            "image 220/290 /content/drive/MyDrive/LaneDetectionDataset/test/images/b77d2f48-020ecd39_jpg.rf.d765a6e87e6baa68794dab57fed6515a.jpg: 640x640 17 cars, 6 persons, 11.4ms\n",
            "image 221/290 /content/drive/MyDrive/LaneDetectionDataset/test/images/b7a175e0-ea597801_jpg.rf.3b73caf0cd681d830920725a5be23743.jpg: 640x640 6 cars, 11.1ms\n",
            "image 222/290 /content/drive/MyDrive/LaneDetectionDataset/test/images/b7a8e795-779e8c02_jpg.rf.7d2219026a5f7257c2592a4ba83c92c6.jpg: 640x640 15 cars, 7 persons, 1 truck, 11.9ms\n",
            "image 223/290 /content/drive/MyDrive/LaneDetectionDataset/test/images/b7a9b166-341c551a_jpg.rf.dc9f05feb9c20e30ce28764953d79cdf.jpg: 640x640 7 cars, 10.8ms\n",
            "image 224/290 /content/drive/MyDrive/LaneDetectionDataset/test/images/b7b09a19-d9ce1598_jpg.rf.55d34b33960c18403740d98fd32f8243.jpg: 640x640 5 cars, 10.4ms\n",
            "image 225/290 /content/drive/MyDrive/LaneDetectionDataset/test/images/b7b132fc-12fe1b49_jpg.rf.0fc3d0e9ffa3f5691f8d9896177698dc.jpg: 640x640 12 cars, 2 trucks, 10.8ms\n",
            "image 226/290 /content/drive/MyDrive/LaneDetectionDataset/test/images/b7b554e4-753c2c08_jpg.rf.15c47518b2392bac7692df1979720d30.jpg: 640x640 15 cars, 1 truck, 15.3ms\n",
            "image 227/290 /content/drive/MyDrive/LaneDetectionDataset/test/images/b7b89e71-e92f6983_jpg.rf.6b5be835df372d2770ce7d80827ba0d7.jpg: 640x640 4 cars, 10.3ms\n",
            "image 228/290 /content/drive/MyDrive/LaneDetectionDataset/test/images/b7bcc17a-7feae7dd_jpg.rf.72ed1e78564d77964de56c09860cbaf9.jpg: 640x640 4 cars, 10.6ms\n",
            "image 229/290 /content/drive/MyDrive/LaneDetectionDataset/test/images/b7bfad97-abd8ddef_jpg.rf.3e5312a5ff30032fa2cee273eaaeb60b.jpg: 640x640 10 cars, 11.2ms\n",
            "image 230/290 /content/drive/MyDrive/LaneDetectionDataset/test/images/b7db31d1-fa13a84a_jpg.rf.84297a91ca4cf43005317c4bbe98e50d.jpg: 640x640 22 cars, 11.2ms\n",
            "image 231/290 /content/drive/MyDrive/LaneDetectionDataset/test/images/b7dbc526-68892204_jpg.rf.8c28b1e8c3cdd13916d37832254a7283.jpg: 640x640 18 cars, 2 persons, 16.0ms\n",
            "image 232/290 /content/drive/MyDrive/LaneDetectionDataset/test/images/b7dc9921-fcfe3332_jpg.rf.265ef9b6d86edb2fb1b8bc29b96792ee.jpg: 640x640 9 cars, 16.4ms\n",
            "image 233/290 /content/drive/MyDrive/LaneDetectionDataset/test/images/b7e1237b-876a427c_jpg.rf.4637c6cfe93f3ca63a17ef89432e67eb.jpg: 640x640 5 cars, 10.8ms\n",
            "image 234/290 /content/drive/MyDrive/LaneDetectionDataset/test/images/b7e17f40-859096c9_jpg.rf.d0e2164b7ede4e2687a41e0bcc72874a.jpg: 640x640 4 cars, 11.5ms\n",
            "image 235/290 /content/drive/MyDrive/LaneDetectionDataset/test/images/b7e98aaf-df117cd8_jpg.rf.1d0084d5d40b11152385248ae8761d84.jpg: 640x640 25 cars, 12.9ms\n",
            "image 236/290 /content/drive/MyDrive/LaneDetectionDataset/test/images/b7f43f41-b1354d92_jpg.rf.7e986891c6a494b51d91a700acba104c.jpg: 640x640 16 cars, 6 persons, 11.0ms\n",
            "image 237/290 /content/drive/MyDrive/LaneDetectionDataset/test/images/b7fd2970-d748193c_jpg.rf.339c69912c9bb6e5ecec321ffb991c04.jpg: 640x640 19 cars, 1 person, 10.5ms\n",
            "image 238/290 /content/drive/MyDrive/LaneDetectionDataset/test/images/b7fd2c7d-1c250dfc_jpg.rf.5c2d19241271324813ef2623d32c5009.jpg: 640x640 8 cars, 11.4ms\n",
            "image 239/290 /content/drive/MyDrive/LaneDetectionDataset/test/images/b82f7901-62715883_jpg.rf.c73dd60848c82bc6fc05fa8702f87f5d.jpg: 640x640 2 cars, 10.2ms\n",
            "image 240/290 /content/drive/MyDrive/LaneDetectionDataset/test/images/b82f91d7-bfddb3c7_jpg.rf.e1cc6399ee7c2605a1227c857f4f74bf.jpg: 640x640 8 cars, 10.7ms\n",
            "image 241/290 /content/drive/MyDrive/LaneDetectionDataset/test/images/b83d7cf3-4e193818_jpg.rf.722875919a5ca95e161c666abd8cd444.jpg: 640x640 13 cars, 12.0ms\n",
            "image 242/290 /content/drive/MyDrive/LaneDetectionDataset/test/images/b84a1117-72c360e2_jpg.rf.c6d306bc828ab850b694fdb6266b1136.jpg: 640x640 5 cars, 12.2ms\n",
            "image 243/290 /content/drive/MyDrive/LaneDetectionDataset/test/images/b84eef86-eb4bb6e0_jpg.rf.2502caa3fcc273c5c52b6ef5b2cb33f2.jpg: 640x640 2 cars, 4 persons, 10.4ms\n",
            "image 244/290 /content/drive/MyDrive/LaneDetectionDataset/test/images/b84f4f83-c6842bd6_jpg.rf.d8280cbd12a63515489993387d47960d.jpg: 640x640 20 cars, 10.4ms\n",
            "image 245/290 /content/drive/MyDrive/LaneDetectionDataset/test/images/b87b8bce-987990d0_jpg.rf.ac8d65f9a68fdedc5fbe2eaf0d8fa3b0.jpg: 640x640 8 cars, 10.5ms\n",
            "image 246/290 /content/drive/MyDrive/LaneDetectionDataset/test/images/b87bd38d-9f7f07c3_jpg.rf.5691c6ef402649aa3ce88c91b1958645.jpg: 640x640 12 cars, 10.7ms\n",
            "image 247/290 /content/drive/MyDrive/LaneDetectionDataset/test/images/b87ca2c5-47ae44e3_jpg.rf.9f128849f188bb3feada6752b6d4fb21.jpg: 640x640 11 cars, 11.8ms\n",
            "image 248/290 /content/drive/MyDrive/LaneDetectionDataset/test/images/b87ee3bb-be0b1bb6_jpg.rf.f64ff572c2f3c00b4bf2c337cf9284f7.jpg: 640x640 22 cars, 11.4ms\n",
            "image 249/290 /content/drive/MyDrive/LaneDetectionDataset/test/images/b88a00df-e8484d02_jpg.rf.2ddda4a5a301ef084a35ab10fc9452d1.jpg: 640x640 3 cars, 15.1ms\n",
            "image 250/290 /content/drive/MyDrive/LaneDetectionDataset/test/images/b88b6624-3b54ae18_jpg.rf.33d35c2fbde74eed785479caaf27be36.jpg: 640x640 7 cars, 3 persons, 10.9ms\n",
            "image 251/290 /content/drive/MyDrive/LaneDetectionDataset/test/images/b8a158fd-a1917370_jpg.rf.2de24b0388fe13cb3b7b39777a37c8ae.jpg: 640x640 2 cars, 10.8ms\n",
            "image 252/290 /content/drive/MyDrive/LaneDetectionDataset/test/images/b8a835db-c49dfee5_jpg.rf.9f1941428925116f84d070c381805259.jpg: 640x640 18 cars, 11.1ms\n",
            "image 253/290 /content/drive/MyDrive/LaneDetectionDataset/test/images/b8acc534-23eb2531_jpg.rf.4cdbfe2bac2bb2c0504faad771a00213.jpg: 640x640 4 cars, 1 truck, 10.8ms\n",
            "image 254/290 /content/drive/MyDrive/LaneDetectionDataset/test/images/b8b15e54-4c278512_jpg.rf.08816d71f1cd98c4e9f6b63dfee0fc46.jpg: 640x640 12 cars, 3 persons, 11.3ms\n",
            "image 255/290 /content/drive/MyDrive/LaneDetectionDataset/test/images/b8b2be1e-e42d11d8_jpg.rf.74b5eb73e1a727d080177214c810abd4.jpg: 640x640 7 cars, 5 persons, 1 truck, 11.1ms\n",
            "image 256/290 /content/drive/MyDrive/LaneDetectionDataset/test/images/b8c7c957-84df8251_jpg.rf.8cf8f0b5253eb107fb8ccf402c207685.jpg: 640x640 6 cars, 1 truck, 10.3ms\n",
            "image 257/290 /content/drive/MyDrive/LaneDetectionDataset/test/images/b8d24edf-3349ee71_jpg.rf.22545f5b36a2e81019d5e5cc8c4ddbb5.jpg: 640x640 17 cars, 10.3ms\n",
            "image 258/290 /content/drive/MyDrive/LaneDetectionDataset/test/images/b8d24edf-51edf6f2_jpg.rf.3a37b80be80946b0eb5fbbf125f601b6.jpg: 640x640 10 cars, 11.2ms\n",
            "image 259/290 /content/drive/MyDrive/LaneDetectionDataset/test/images/b8e2eae6-9b3f3a2f_jpg.rf.73da3d7685132a71bbb30d6443e01e96.jpg: 640x640 3 cars, 13.5ms\n",
            "image 260/290 /content/drive/MyDrive/LaneDetectionDataset/test/images/b8ef1613-cabb90be_jpg.rf.a5baa1efbf16d7e7937a1bb101536468.jpg: 640x640 12 cars, 12.0ms\n",
            "image 261/290 /content/drive/MyDrive/LaneDetectionDataset/test/images/b8f0b141-c00fd8b4_jpg.rf.b408693ccfe1a096e920f155b97af6fa.jpg: 640x640 19 cars, 10.2ms\n",
            "image 262/290 /content/drive/MyDrive/LaneDetectionDataset/test/images/b8f5cc6a-32756cda_jpg.rf.409947ccc85177cd434d4bf4318b903a.jpg: 640x640 12 cars, 2 persons, 10.7ms\n",
            "image 263/290 /content/drive/MyDrive/LaneDetectionDataset/test/images/b8f63f02-c999a811_jpg.rf.ef187dff8017dc398c2e917d0794e079.jpg: 640x640 10 cars, 10.6ms\n",
            "image 264/290 /content/drive/MyDrive/LaneDetectionDataset/test/images/b93db0b2-fd5012d5_jpg.rf.1f5cc9e06c1afe47a2a54968e8ca04db.jpg: 640x640 7 cars, 16.8ms\n",
            "image 265/290 /content/drive/MyDrive/LaneDetectionDataset/test/images/b93e190c-b3e4728f_jpg.rf.a71ef0fd6c3f9b9e729bed07d44f3935.jpg: 640x640 3 cars, 16.4ms\n",
            "image 266/290 /content/drive/MyDrive/LaneDetectionDataset/test/images/b93e2268-394c7031_jpg.rf.852b7a2fa40f240f20aae76809b73def.jpg: 640x640 14 cars, 1 truck, 13.5ms\n",
            "image 267/290 /content/drive/MyDrive/LaneDetectionDataset/test/images/b93e2268-4b277928_jpg.rf.66761b11085bac0bb26d6d09693b2044.jpg: 640x640 10 cars, 12.4ms\n",
            "image 268/290 /content/drive/MyDrive/LaneDetectionDataset/test/images/b95c97a9-48663434_jpg.rf.d8391f511f996924cff999d078ba120f.jpg: 640x640 4 cars, 10.3ms\n",
            "image 269/290 /content/drive/MyDrive/LaneDetectionDataset/test/images/b96c88de-058de530_jpg.rf.45fa1e2b1c4f1a09cdb3247c14bc8dd4.jpg: 640x640 5 cars, 10.8ms\n",
            "image 270/290 /content/drive/MyDrive/LaneDetectionDataset/test/images/b97b9ee8-8fbf044e_jpg.rf.2e2df5a384a1012c98a014c361c48a8a.jpg: 640x640 9 cars, 5 persons, 11.1ms\n",
            "image 271/290 /content/drive/MyDrive/LaneDetectionDataset/test/images/b97c553a-004a5913_jpg.rf.9f9c893bf9e4168eafca73fd537b4624.jpg: 640x640 5 cars, 12.7ms\n",
            "image 272/290 /content/drive/MyDrive/LaneDetectionDataset/test/images/b98bd627-ef76afa3_jpg.rf.663f9322792606944483c57a8f9437f7.jpg: 640x640 7 cars, 11.8ms\n",
            "image 273/290 /content/drive/MyDrive/LaneDetectionDataset/test/images/b98e3a45-2af2c615_jpg.rf.3eb737513a3c50b9e736956969876cca.jpg: 640x640 11 cars, 11.2ms\n",
            "image 274/290 /content/drive/MyDrive/LaneDetectionDataset/test/images/b98f4bb1-100931bb_jpg.rf.d00be882363af75bd5e855ce28cd0d6c.jpg: 640x640 15 cars, 11.3ms\n",
            "image 275/290 /content/drive/MyDrive/LaneDetectionDataset/test/images/b99b108b-4422b287_jpg.rf.1db489236784161e039e075ba452ecbf.jpg: 640x640 (no detections), 11.0ms\n",
            "image 276/290 /content/drive/MyDrive/LaneDetectionDataset/test/images/b99c17a7-bc6ee752_jpg.rf.44f6a0735d040675280d74bcfcea70b7.jpg: 640x640 3 cars, 11.2ms\n",
            "image 277/290 /content/drive/MyDrive/LaneDetectionDataset/test/images/b99eeedd-f211870f_jpg.rf.ff735a8d7c9e3f106c5006391662bed4.jpg: 640x640 1 bus, 5 cars, 1 truck, 11.2ms\n",
            "image 278/290 /content/drive/MyDrive/LaneDetectionDataset/test/images/b99f250d-97172b16_jpg.rf.13c29726e4cce83617d0aa9ec0544851.jpg: 640x640 13 cars, 1 person, 10.7ms\n",
            "image 279/290 /content/drive/MyDrive/LaneDetectionDataset/test/images/b99f7c8d-b97ed7dc_jpg.rf.e66f104a4cff6277e87acc118f0ddd06.jpg: 640x640 23 cars, 4 persons, 11.2ms\n",
            "image 280/290 /content/drive/MyDrive/LaneDetectionDataset/test/images/b9bafa5a-9d12fc05_jpg.rf.2d0a623dae2faa81b6c24c67593fefe2.jpg: 640x640 26 cars, 10.5ms\n",
            "image 281/290 /content/drive/MyDrive/LaneDetectionDataset/test/images/b9c34a53-f1f42d75_jpg.rf.bd13238c53048a80eaa91e5aaee43922.jpg: 640x640 5 cars, 10.6ms\n",
            "image 282/290 /content/drive/MyDrive/LaneDetectionDataset/test/images/b9c7f347-97b374b1_jpg.rf.6af24345928b768425ffc69293bbec90.jpg: 640x640 24 cars, 2 persons, 10.4ms\n",
            "image 283/290 /content/drive/MyDrive/LaneDetectionDataset/test/images/b9ca94a2-7f349303_jpg.rf.85c77325891b44f8dead7353768524d9.jpg: 640x640 7 cars, 17.8ms\n",
            "image 284/290 /content/drive/MyDrive/LaneDetectionDataset/test/images/b9d34460-d648a4c1_jpg.rf.57811c12c0937725d1437d6f10b41c08.jpg: 640x640 11 cars, 4 persons, 10.9ms\n",
            "image 285/290 /content/drive/MyDrive/LaneDetectionDataset/test/images/b9d34460-eb5b8d34_jpg.rf.6570ad8afcacf51fe12d4e0a7653ac41.jpg: 640x640 11 cars, 16.1ms\n",
            "image 286/290 /content/drive/MyDrive/LaneDetectionDataset/test/images/b9df54a4-8203d67b_jpg.rf.b264c9faf2223ba11493c553dd3b0d57.jpg: 640x640 2 cars, 6 persons, 15.6ms\n",
            "image 287/290 /content/drive/MyDrive/LaneDetectionDataset/test/images/b9eae343-d73328b2_jpg.rf.88a5f15031c426c8f341973ca3d880ad.jpg: 640x640 6 cars, 14.6ms\n",
            "image 288/290 /content/drive/MyDrive/LaneDetectionDataset/test/images/b9ef03d3-92a377cc_jpg.rf.57e386586d0fb2dc9fe1f5e135975e2c.jpg: 640x640 1 car, 14.9ms\n",
            "image 289/290 /content/drive/MyDrive/LaneDetectionDataset/test/images/b9fb5382-76c75580_jpg.rf.13fa9203a6aed9d3f21c5cdfe5341ff5.jpg: 640x640 9 cars, 14.8ms\n",
            "image 290/290 /content/drive/MyDrive/LaneDetectionDataset/test/images/b9fc97df-397f8a5d_jpg.rf.525ed01ea9a9abd6d855f1d9a26dbe0d.jpg: 640x640 15 cars, 4 persons, 14.7ms\n",
            "Speed: 2.8ms preprocess, 12.9ms inference, 1.6ms postprocess per image at shape (1, 3, 640, 640)\n",
            "Results saved to \u001b[1mruns/detect/predict\u001b[0m\n"
          ]
        }
      ],
      "source": [
        "# Predict on a folder of images\n",
        "results = model.predict(source='/content/drive/MyDrive/LaneDetectionDataset/test/images', save=True)"
      ]
    },
    {
      "cell_type": "code",
      "execution_count": null,
      "metadata": {
        "colab": {
          "base_uri": "https://localhost:8080/",
          "height": 264
        },
        "collapsed": true,
        "id": "QWPe63ND-jOx",
        "outputId": "d6fd6c97-df89-4f74-9377-cc11c56b07fb"
      },
      "outputs": [
        {
          "name": "stdout",
          "output_type": "stream",
          "text": [
            "Ultralytics 8.3.78 🚀 Python-3.11.11 torch-2.5.1+cu124 CPU (Intel Xeon 2.20GHz)\n",
            "\n",
            "\u001b[34m\u001b[1mPyTorch:\u001b[0m starting from '/content/runs/detect/train/weights/best.pt' with input shape (1, 3, 640, 640) BCHW and output shape(s) (1, 12, 8400) (5.2 MB)\n",
            "\n",
            "\u001b[34m\u001b[1mTorchScript:\u001b[0m starting export with torch 2.5.1+cu124...\n",
            "\u001b[34m\u001b[1mTorchScript:\u001b[0m export success ✅ 4.6s, saved as '/content/runs/detect/train/weights/best.torchscript' (10.4 MB)\n",
            "\n",
            "Export complete (6.7s)\n",
            "Results saved to \u001b[1m/content/runs/detect/train/weights\u001b[0m\n",
            "Predict:         yolo predict task=detect model=/content/runs/detect/train/weights/best.torchscript imgsz=640  \n",
            "Validate:        yolo val task=detect model=/content/runs/detect/train/weights/best.torchscript imgsz=640 data=/content/drive/MyDrive/LaneDetectionDataset/data.yaml  \n",
            "Visualize:       https://netron.app\n"
          ]
        },
        {
          "data": {
            "application/vnd.google.colaboratory.intrinsic+json": {
              "type": "string"
            },
            "text/plain": [
              "'/content/runs/detect/train/weights/best.torchscript'"
            ]
          },
          "execution_count": 9,
          "metadata": {},
          "output_type": "execute_result"
        }
      ],
      "source": [
        "model.export(format=\"torchscript\")  # Exports to TorchScript (.pt)"
      ]
    }
  ],
  "metadata": {
    "colab": {
      "provenance": [],
      "include_colab_link": true
    },
    "kernelspec": {
      "display_name": "Python 3",
      "name": "python3"
    },
    "language_info": {
      "name": "python"
    }
  },
  "nbformat": 4,
  "nbformat_minor": 0
}